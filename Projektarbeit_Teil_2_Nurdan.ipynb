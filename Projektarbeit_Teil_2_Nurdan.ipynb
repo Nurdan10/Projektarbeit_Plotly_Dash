{
 "cells": [
  {
   "cell_type": "markdown",
   "id": "60f49a8a-fb62-4dca-93cb-322b50ca6fdf",
   "metadata": {},
   "source": [
    "<p float=\"left\">\n",
    "  <img src=\"immo_scout24.png\" width=\"400\" />\n",
    "  <img src=\"immo.png\" width=\"400\" />\n",
    "</p>\n"
   ]
  },
  {
   "cell_type": "markdown",
   "id": "2e94d671-d242-42e3-8fe3-fae9409af8cd",
   "metadata": {},
   "source": [
    "###### <center><h1>PROJEKTARBEIT</h1></center>\n",
    "### <center><h2>ANALYSE des IMMOSCOUT-DATENSATZES</h2></center>\n",
    "#### <center><h3>TEIL 2 - UMGANG mit FEHLENDEN WERTEN</h3></center>"
   ]
  },
  {
   "cell_type": "markdown",
   "id": "db4133fc-0a06-4ae3-afda-f52f62e2e9e9",
   "metadata": {},
   "source": [
    "**Projektarbeit-Alfatrining / Herr Axel Wemmel**\n",
    "\n",
    "**[Nurdan Cakir]**"
   ]
  },
  {
   "cell_type": "code",
   "execution_count": null,
   "id": "ac76799d-7efe-4877-9753-4315ccf674cf",
   "metadata": {},
   "outputs": [],
   "source": [
    "import numpy as np\n",
    "import pandas as pd\n",
    "import seaborn as sns \n",
    "import matplotlib.pyplot as plt\n",
    "import plotly.express as px\n",
    "from ipywidgets import interact, Dropdown, IntSlider, Output, widgets\n",
    "# from IPython.core.display import display\n",
    "from IPython.display import display\n",
    "from termcolor import colored\n",
    "import re\n",
    "\n",
    "from skimpy import clean_columns\n",
    "# import requests\n",
    "# import geopy\n",
    "# from geopy.geocoders import Nominatim\n",
    "\n",
    "import warnings\n",
    "warnings.filterwarnings(\"ignore\")\n",
    "warnings.warn(\"this will not show\")\n",
    "\n",
    "%matplotlib inline\n",
    "# %matplotlib notebook\n",
    "\n",
    "plt.rcParams[\"figure.figsize\"] = (10, 6)\n",
    "# plt.rcParams['figure.dpi'] = 100\n",
    "\n",
    "sns.set_style(\"whitegrid\")\n",
    "pd.set_option('display.float_format', lambda x: '%.2f' % x)\n",
    "\n",
    "pd.options.display.max_rows = 300\n",
    "pd.options.display.max_columns = 100"
   ]
  },
  {
   "cell_type": "code",
   "execution_count": null,
   "id": "b6ef00ea-a40d-4996-a74a-e0b0546ab226",
   "metadata": {},
   "outputs": [],
   "source": [
    "df0 = pd.read_csv(\"cleaned_immo_data.csv\")\n",
    "df = df0.copy()"
   ]
  },
  {
   "cell_type": "code",
   "execution_count": null,
   "id": "93e88991-0bfc-494b-8f60-93c9aad45f4b",
   "metadata": {},
   "outputs": [],
   "source": [
    "df.head(3).T"
   ]
  },
  {
   "cell_type": "code",
   "execution_count": null,
   "id": "fa15a9e0-1528-4736-b981-6a01201f8de0",
   "metadata": {},
   "outputs": [],
   "source": [
    "df.shape"
   ]
  },
  {
   "cell_type": "code",
   "execution_count": null,
   "id": "f485e69d-1f99-4743-915b-401a28318f13",
   "metadata": {},
   "outputs": [],
   "source": [
    "df.info()"
   ]
  },
  {
   "cell_type": "code",
   "execution_count": null,
   "id": "7314df89-cd58-40d4-8e25-ccde3d5014ce",
   "metadata": {},
   "outputs": [],
   "source": [
    "class color:\n",
    "    PURPLE = '\\033[95m'\n",
    "    CYAN = '\\033[96m'\n",
    "    DARKCYAN = '\\033[36m'\n",
    "    BLUE = '\\033[94m'\n",
    "    GREEN = '\\033[92m'\n",
    "    YELLOW = '\\033[93m'\n",
    "    RED = '\\033[91m'\n",
    "    BOLD = '\\033[1m'\n",
    "    UNDERLINE = '\\033[4m'\n",
    "    END = '\\033[0m'\n",
    "\n",
    "def check_obj_columns(df):\n",
    "    '''\n",
    "    Gibt \"KEIN PROBLEM\" oder die Spalte(n) zurück, die gemischte Objekttypen enthalten.\n",
    "    '''    \n",
    "    \n",
    "    tdf = df.select_dtypes(include=['object']).applymap(type)\n",
    "    for col in tdf:\n",
    "        if len(set(tdf[col].values)) > 1:\n",
    "            print(\"Column\" + \" \" + color.BOLD + color.RED + col + color.END + \" \" + \"hat gemischte Objekttypen.\" )\n",
    "    else:\n",
    "        if len(set(tdf[col].values)) == 1:\n",
    "            print(color.BOLD + color.GREEN + \" \" + \"KEIN PROBLEM\" + \" \" + color.END + \" \" + \"mit der datentypen der Spalten in die DataFrame.\")\n",
    "\n",
    "check_obj_columns(df)"
   ]
  },
  {
   "cell_type": "markdown",
   "id": "8faaaceb-e827-4cc1-8112-1e44edea57c0",
   "metadata": {},
   "source": [
    "# 1. Umgang mit fehlenden Werten (Missing Value Treatment)"
   ]
  },
  {
   "cell_type": "markdown",
   "id": "78463240-e639-430b-a521-3ace44ed731c",
   "metadata": {},
   "source": [
    "## 1.1. Überprüfung auf fehlende Werte:"
   ]
  },
  {
   "cell_type": "code",
   "execution_count": null,
   "id": "052a7bc3-fd1f-4093-9746-5dd747d6fd20",
   "metadata": {},
   "outputs": [],
   "source": [
    "missing_percentage = df.isnull().sum()*100 / df.shape[0]"
   ]
  },
  {
   "cell_type": "code",
   "execution_count": null,
   "id": "f0f535ac-4dd5-42bd-8de0-0cc215a4dac7",
   "metadata": {},
   "outputs": [],
   "source": [
    "# Hier werden alle Spalten, die mindestens einen fehlenden Wert enthalten, mithilfe von List Comprehension in einer Liste gesammelt.\n",
    "# Anschließend wird der prozentuale Anteil der fehlenden Werte jeder Spalte im Output dargestellt.\n",
    "\n",
    "miss_val = []\n",
    "[miss_val.append(column) for column in df.columns if any(df[column].isnull())]\n",
    "\n",
    "missing_percentage = df[miss_val].isnull().sum()*100 / df[miss_val].shape[0]\n",
    "missing_percentage = missing_percentage.sort_values(ascending=False)\n",
    "print(\"Spalten, der fehlenden Werte haben:\")\n",
    "print(\"---\"*11)\n",
    "print(f\"{miss_val}\\n\\n{missing_percentage}\")"
   ]
  },
  {
   "cell_type": "code",
   "execution_count": null,
   "id": "d0558080-a793-4400-b131-c61aa0b7978c",
   "metadata": {},
   "outputs": [],
   "source": [
    "def df_nans(df, limit):\n",
    "    \"\"\"\n",
    "   Gibt eine Pandas Series zurück, die den Prozentsatz der fehlenden Werte in jeder Spalte des übergebenen DataFrames 'df' enthält, \n",
    "sofern dieser den angegebenen 'limit'-Schwellenwert überschreitet.\n",
    "\n",
    "Parameter:\n",
    "----------\n",
    "df : pandas.DataFrame\n",
    "    Der DataFrame, der auf fehlende Werte untersucht werden soll.\n",
    "limit : float\n",
    "    Der Schwellenwert (in Prozent), ab dem eine Spalte als zu viele fehlende Werte enthaltend betrachtet wird.\n",
    "\n",
    "Rückgabewert:\n",
    "-------------\n",
    "pandas.Series\n",
    "    Eine Series mit dem Prozentsatz der fehlenden Werte in den Spalten von 'df', die den angegebenen 'limit' überschreiten.\n",
    "    Falls keine Spalte den Grenzwert überschreitet, wird eine entsprechende Nachricht als Zeichenkette zurückgegeben.\n",
    "    \"\"\"\n",
    "    missing = df.isnull().sum()*100 / df.shape[0]\n",
    "    missing = missing.loc[lambda x : x >= limit]\n",
    "    if missing.empty:\n",
    "        return \"Keine Spalten haben fehlende Werte, den Grenzwert überschreitet.\"\n",
    "    else:\n",
    "        return missing\n",
    "\n",
    "def show_missing_values(limit):\n",
    "    return df_nans(df, limit)\n",
    "\n",
    "def column_nans(serial):\n",
    "    # Prozentsatz der fehlenden Werte (NaNs) in einer Series anzeigen\n",
    "    return serial.isnull().sum()*100 / serial.shape[0]"
   ]
  },
  {
   "cell_type": "markdown",
   "id": "072ee985-555f-4140-9214-19c46104688a",
   "metadata": {},
   "source": [
    "## 1.2. Überprüfung auf doppelte Zeilen"
   ]
  },
  {
   "cell_type": "code",
   "execution_count": null,
   "id": "fcefbf30-fb09-4610-8289-2a6f035536c6",
   "metadata": {},
   "outputs": [],
   "source": [
    "df.astype(str).duplicated(keep=False).sum()\n",
    "# prüft, ob es doppelte Zeilen im DataFrame gibt, und zwar so, dass alle Werte als Zeichenkette (str) betrachtet werden. \n",
    "# Das ist nützlich, wenn z. B. Zahlen und Objekte gemischt sind oder kleine Formatunterschiede vorliegen könnten.\n",
    "\n",
    "# Ergebnis: 0\n",
    "# Das bedeutet, dass keine doppelten Zeilen im gesamten DataFrame vorhanden sind."
   ]
  },
  {
   "cell_type": "markdown",
   "id": "3b0d6f7a-3684-41a7-8208-0f032259759c",
   "metadata": {},
   "source": [
    "## 1.3. Strategien zum Umgang mit NaNs\n",
    "✔️ Numerische Merkmale: Durchschnitt, Median, Modus oder modellbasierte Imputation\n",
    "\n",
    "✔️ Kategorische Merkmale: Modus, separate Kategorie („unbekannt“)\n",
    "\n",
    "✔️ Boolesche Merkmale: True/False basierend auf Kontext oder Default-Wert\n",
    "\n",
    "✔️ Zeit- oder Ortsdaten: ggf. aus anderen Spalten rekonstruieren oder ignorieren"
   ]
  },
  {
   "cell_type": "markdown",
   "id": "6c90a66c-c6db-4037-804e-45bdf9d37543",
   "metadata": {},
   "source": [
    "## 1.4. Benutzerdefinierte Funktionen zum Auffüllen der fehlenden Werte:"
   ]
  },
  {
   "cell_type": "markdown",
   "id": "9d7c7520-606d-46fc-942b-76ffc4388a40",
   "metadata": {},
   "source": [
    "\n",
    "### 1.4.1. first_looking(col)"
   ]
  },
  {
   "cell_type": "code",
   "execution_count": null,
   "id": "37b9392b-5c0a-4ffa-99d4-2ce3f8ae3ebe",
   "metadata": {},
   "outputs": [],
   "source": [
    "def first_looking(*cols):\n",
    "    \"\"\"\n",
    "    Prints basic information about given columns in a Pandas DataFrame.\n",
    "\n",
    "    Parameters:\n",
    "    *cols (str): The names of the columns to analyze.\n",
    "\n",
    "    Returns:\n",
    "    None.\n",
    "\n",
    "    Prints:\n",
    "    - The name of each column.\n",
    "    - The percentage of null values in each column.\n",
    "    - The number of null values in each column.\n",
    "    - The number of unique values in each column.\n",
    "    - The value counts for each unique value in each column, including null values.\n",
    "    \"\"\"\n",
    "    for col in cols:\n",
    "        print(\"COLUMN NAME    : \", col)\n",
    "        print(\"--------------------------------\")\n",
    "        print(\"per_of_nulls   : \", \"%\", round(df[col].isnull().sum()*100 / df.shape[0], 2))\n",
    "        print(\"num_of_nulls   : \", df[col].isnull().sum())\n",
    "        print(\"num_of_uniques : \", df[col].nunique())\n",
    "        print(\"--------------------------------\")\n",
    "        print(df[col].value_counts(dropna=False))\n",
    "        print(\"\\n\")"
   ]
  },
  {
   "cell_type": "markdown",
   "id": "93ddb9e4-c1cc-433f-bc3a-6dc77bff68cf",
   "metadata": {},
   "source": [
    "Dies ist eine benutzerdefinierte Python-Funktion namens first_looking, die einen Spaltennamen als Eingabe (col) entgegennimmt. Die Funktion dient der ersten Analyse einer bestimmten Spalte in einem Pandas DataFrame (df).\n",
    "\n",
    "Zunächst gibt die Funktion den Namen der Spalte aus, gefolgt von einer Linie aus Bindestrichen zur besseren Lesbarkeit. Danach berechnet und gibt sie folgende Kennzahlen aus:\n",
    "\n",
    "✔️ den Prozentsatz fehlender Werte in der Spalte (per_of_nulls),\n",
    "\n",
    "✔️ die Anzahl fehlender Werte in der Spalte (num_of_nulls),\n",
    "\n",
    "✔️ sowie die Anzahl der eindeutigen Werte in der Spalte (num_of_uniques),\n",
    "\n",
    "jeweils in einer eigenen Zeile.\n",
    "\n",
    "Anschließend folgt erneut eine Trennlinie aus Bindestrichen. Danach wird mit Hilfe der Pandas-Methode value_counts() die Häufigkeit jedes eindeutigen Wertes in der Spalte ausgegeben – inklusive eventuell vorhandener NaN-Werte. Dies hilft dabei, häufige Werte, Ausreißer oder potenzielle Datenprobleme (z. B. fehlende oder fehlerhafte Angaben) schnell zu erkennen.\n",
    "\n",
    "Insgesamt bietet die Funktion first_looking eine einfache und effiziente Möglichkeit, sich einen ersten Überblick über eine bestimmte Spalte in einem DataFrame zu verschaffen – inklusive grundlegender statistischer Informationen und Wertverteilungen."
   ]
  },
  {
   "cell_type": "markdown",
   "id": "56585145-3a0f-46ca-9fbe-dac138c78c7c",
   "metadata": {},
   "source": [
    "### 1.4.2. plot_all_categorical_distributions"
   ]
  },
  {
   "cell_type": "code",
   "execution_count": null,
   "id": "0bc1deb5-9193-450f-870d-bbeb8577ce74",
   "metadata": {},
   "outputs": [],
   "source": [
    "import plotly.express as px\n",
    "\n",
    "def plot_categorical_distributions(df, column=None):\n",
    "    \"\"\"\n",
    "    Eğer column parametresi verilirse sadece o sütunun dağılımını,\n",
    "    verilmezse DataFrame'deki tüm kategorik sütunların dağılımını çizer.\n",
    "    \"\"\"\n",
    "    if column:\n",
    "        columns_to_plot = [column]\n",
    "    else:\n",
    "        columns_to_plot = df.select_dtypes(include=['object', 'category']).columns.tolist()\n",
    "    \n",
    "    for col in columns_to_plot:\n",
    "        fig = px.histogram(\n",
    "            df,\n",
    "            x=col,\n",
    "            title=f'Distribution of {col}',\n",
    "            labels={col: col, 'count': 'Count'},\n",
    "            color_discrete_sequence=['#636EFA']\n",
    "        )\n",
    "        fig.update_layout(xaxis_tickangle=45)\n",
    "        fig.show()\n"
   ]
  },
  {
   "cell_type": "markdown",
   "id": "2f7de3b4-2f09-424f-8e73-545163bb37a8",
   "metadata": {},
   "source": [
    "### 1.4.3. plot_numeric_distribution"
   ]
  },
  {
   "cell_type": "code",
   "execution_count": null,
   "id": "b987a187-d07b-4b62-8918-a887a405c8cd",
   "metadata": {},
   "outputs": [],
   "source": [
    "import plotly.express as px\n",
    "\n",
    "def plot_numeric_distributions(df, column=None):\n",
    "    \"\"\"\n",
    "   Wenn der Spaltenparameter angegeben ist, wird nur die Verteilung dieser Spalte dargestellt. \n",
    "   Wenn nicht, wird die Verteilung aller numerischen Spalten im DataFrame dargestellt.\n",
    "    \"\"\"\n",
    "    if column:\n",
    "        columns_to_plot = [column]\n",
    "    else:\n",
    "        columns_to_plot = df.select_dtypes(include=['int64', 'float64']).columns.tolist()\n",
    "    \n",
    "    for col in columns_to_plot:\n",
    "        fig = px.histogram(\n",
    "            df,\n",
    "            x=col,\n",
    "            title=f'Verteilung von {col}', \n",
    "            labels={col: col, 'count': 'Anzahl'},\n",
    "            color_discrete_sequence=['#00CC96']\n",
    "        )\n",
    "        fig.update_layout(xaxis_title=col, yaxis_title='Anzahl')\n",
    "        fig.show()\n"
   ]
  },
  {
   "cell_type": "markdown",
   "id": "8cea8abc-d462-4bfb-99e8-88209c49e6e7",
   "metadata": {},
   "source": [
    "### 1.4.4. fill_most_freq(df, group_col, col_name)"
   ]
  },
  {
   "cell_type": "code",
   "execution_count": null,
   "id": "916a42ab-017a-4232-ae79-bbdb03748d41",
   "metadata": {},
   "outputs": [],
   "source": [
    "def fill_most_freq(df, group_col, col_name):\n",
    "    \"\"\"\n",
    "    Fills missing values in a column of a Pandas DataFrame `df` with the most frequent value \n",
    "    in each group defined by a grouping column.\n",
    "\n",
    "    Parameters:\n",
    "    df (pandas.DataFrame): The DataFrame to operate on.\n",
    "    group_col (str): The name of the grouping column.\n",
    "    col_name (str): The name of the column to fill missing values in.\n",
    "\n",
    "    Returns:\n",
    "    None.\n",
    "\n",
    "    Prints:\n",
    "    - The name of the column that was filled.\n",
    "    - The percentage of null values in the column after filling.\n",
    "    - The number of null values in the column after filling.\n",
    "    - The number of unique values in the column after filling.\n",
    "    - The value counts for each unique value in the column after filling, including null values, sorted by index.\n",
    "    \"\"\"    \n",
    "    for group in list(df[group_col].unique()):\n",
    "        cond = df[group_col]==group\n",
    "        mode = list(df[cond][col_name].mode())\n",
    "        if mode != []:\n",
    "            df.loc[cond, col_name] = df.loc[cond, col_name].fillna(df[cond][col_name].mode()[0])\n",
    "        else:\n",
    "            df.loc[cond, col_name] = df.loc[cond, col_name].fillna(df[col_name].mode()[0])\n",
    "    \n",
    "    print(\"COLUMN NAME    : \", col_name)\n",
    "    print(\"--------------------------------\")\n",
    "    print(\"per_of_nulls   : \", \"%\", round(df[col_name].isnull().sum()*100 / df.shape[0], 2))\n",
    "    print(\"num_of_nulls   : \", df[col_name].isnull().sum())\n",
    "    print(\"num_of_uniques : \", df[col_name].nunique())\n",
    "    print(\"--------------------------------\")\n",
    "    print(df[col_name].value_counts(dropna = False).sort_index())"
   ]
  },
  {
   "cell_type": "markdown",
   "id": "c1332bde-80e8-44ca-92c0-7ef60d47c1e9",
   "metadata": {},
   "source": [
    "Dies ist eine benutzerdefinierte Python-Funktion (DEF) mit dem Namen fill_most_freq, die drei (3) Eingabeparameter entgegennimmt:\n",
    "\n",
    "✔️ einen Pandas DataFrame (df),\n",
    "\n",
    "✔️ den Namen einer Gruppierungsspalte (group_col),\n",
    "\n",
    "✔️ sowie den Namen der Spalte, in der fehlende Werte gefüllt werden sollen (col_name).\n",
    "\n",
    "Die Funktion verwendet eine for-Schleife, um fehlende Werte in einer bestimmten Spalte (col_name) abhängig von den Werten in einer anderen Spalte (group_col) zu füllen. Die einzelnen Schritte innerhalb der Schleife:\n",
    "\n",
    "✔️ for group in list(df[group_col].unique()):\n",
    "Diese Zeile iteriert über alle eindeutigen Werte in der Gruppierungsspalte group_col. Jeder eindeutige Gruppenwert wird in der Variable group gespeichert.\n",
    "\n",
    "✔️ cond = df[group_col]==group:\n",
    "Hier wird eine boolesche Bedingung (cond) erstellt, die True für alle Zeilen ist, bei denen der Wert in group_col gleich dem aktuellen Gruppenwert ist.\n",
    "\n",
    "✔️ mode = list(df[cond][col_name].mode()):\n",
    "Diese Zeile berechnet den Modus (häufigster Wert) der Spalte col_name innerhalb der aktuellen Gruppe (cond). Das Ergebnis wird als Liste in der Variable mode gespeichert.\n",
    "\n",
    "✔️ if mode != []:\n",
    "Überprüfung, ob der Modus existiert (also keine leere Liste ist).\n",
    "\n",
    "✔️ df.loc[cond, col_name] = df.loc[cond, col_name].fillna(df[cond][col_name].mode()[0]):\n",
    "Falls ein Modus vorhanden ist, werden die fehlenden Werte in der Spalte col_name innerhalb der aktuellen Gruppe mit diesem häufigsten Wert gefüllt.\n",
    "\n",
    "✔️ else:\n",
    "Falls kein Modus innerhalb der Gruppe gefunden wurde (z. B. weil alle Werte fehlen), wird ein alternativer Füllwert verwendet:\n",
    "\n",
    "✔️ df.loc[cond, col_name] = df.loc[cond, col_name].fillna(df[col_name].mode()[0]):\n",
    "In diesem Fall werden die fehlenden Werte mit dem Modus der gesamten Spalte (col_name) über den gesamten DataFrame gefüllt."
   ]
  },
  {
   "cell_type": "markdown",
   "id": "d1a9a2ab-4ad5-4ec6-b614-971db2eb1877",
   "metadata": {},
   "source": [
    "### 1.4.5. fill_mode(df, group_col1, group_col2, col_name)"
   ]
  },
  {
   "cell_type": "code",
   "execution_count": null,
   "id": "e2560a24-93f3-44ba-b904-869b61a764e6",
   "metadata": {},
   "outputs": [],
   "source": [
    "def fill_mode(df, group_col1, group_col2, col_name):\n",
    "    \"\"\"\n",
    "    Fills missing values in a column of a Pandas DataFrame `df` based on the values in two other columns.\n",
    "\n",
    "    Parameters:\n",
    "    df (pandas.DataFrame): The DataFrame to operate on.\n",
    "    group_col1 (str): The name of the first grouping column.\n",
    "    group_col2 (str): The name of the second grouping column.\n",
    "    col_name (str): The name of the column to fill missing values in.\n",
    "\n",
    "    Returns:\n",
    "    None.\n",
    "\n",
    "    Prints:\n",
    "    - The name of the column that was filled.\n",
    "    - The percentage of null values in the column after filling.\n",
    "    - The number of null values in the column after filling.\n",
    "    - The number of unique values in the column after filling.\n",
    "    - The value counts for each unique value in the column after filling, including null values.\n",
    "    \"\"\"    \n",
    "    for group1 in list(df[group_col1].unique()):\n",
    "        for group2 in list(df[group_col2].unique()):\n",
    "            cond1 = df[group_col1]==group1\n",
    "            cond2 = (df[group_col1]==group1) & (df[group_col2]==group2)\n",
    "            mode1 = list(df[cond1][col_name].mode())\n",
    "            mode2 = list(df[cond2][col_name].mode())\n",
    "            if mode2 != []:\n",
    "                df.loc[cond2, col_name] = df.loc[cond2, col_name].fillna(df[cond2][col_name].mode()[0])\n",
    "            elif mode1 != []:\n",
    "                df.loc[cond2, col_name] = df.loc[cond2, col_name].fillna(df[cond1][col_name].mode()[0])\n",
    "            else:\n",
    "                df.loc[cond2, col_name] = df.loc[cond2, col_name].fillna(df[col_name].mode()[0])\n",
    "    \n",
    "    print(\"column name    : \", col_name)\n",
    "    print(\"--------------------------------\")\n",
    "    print(\"per_of_nulls   : \", \"%\", round(df[col_name].isnull().sum()*100 / df.shape[0], 2))\n",
    "    print(\"num_of_nulls   : \", df[col_name].isnull().sum())\n",
    "    print(\"num_of_uniques : \", df[col_name].nunique())\n",
    "    print(\"--------------------------------\")\n",
    "    print(df[col_name].value_counts(dropna = False))"
   ]
  },
  {
   "cell_type": "markdown",
   "id": "39e38ed2-8b1a-441e-a787-60da7e92bd29",
   "metadata": {},
   "source": [
    "Dies ist eine benutzerdefinierte Python-Funktion (DEF) mit dem Namen fill_mode, die vier (4) Eingabeparameter verwendet:\n",
    "\n",
    "✔️ Ein Pandas DataFrame (df),\n",
    "\n",
    "✔️ den Namen einer Gruppierungsspalte (group_col1),\n",
    "\n",
    "✔️ den Namen einer weiteren Gruppierungsspalte (group_col2),\n",
    "\n",
    "✔️ und den Namen der Spalte, in der fehlende Werte aufgefüllt werden sollen (col_name).\n",
    "\n",
    "Die Funktion verwendet eine geschachtelte for-Schleife, um fehlende Werte in einer bestimmten Spalte (col_name) basierend auf den Kombinationen von zwei Gruppierungsspalten (group_col1, group_col2) zu füllen. Hier die Erklärung der einzelnen Schritte:\n",
    "\n",
    "✔️ for group1 in list(df[group_col1].unique()):\n",
    "Iteration über alle eindeutigen Werte in group_col1. Jeder Wert wird in group1 gespeichert.\n",
    "\n",
    "✔️ for group2 in list(df[group_col2].unique()):\n",
    "Für jeden group1-Wert werden nun alle eindeutigen group2-Werte durchlaufen.\n",
    "\n",
    "✔️ cond1 = df[group_col1]==group1:\n",
    "Erstellt eine boolesche Bedingung (cond1), die True ist, wenn der Wert in group_col1 dem aktuellen group1 entspricht.\n",
    "\n",
    "✔️ cond2 = (df[group_col1]==group1) & (df[group_col2]==group2):\n",
    "Erstellt eine weitere Bedingung (cond2), die True ist, wenn sowohl group1 als auch group2 auf eine Zeile zutreffen. Diese Bedingung gilt für die Kombination beider Gruppenwerte.\n",
    "\n",
    "✔️ mode1 = list(df[cond1][col_name].mode()):\n",
    "Berechnet den Modus (häufigster Wert) der Spalte col_name für die Bedingung cond1 (also alle Zeilen mit dem aktuellen group1).\n",
    "\n",
    "✔️ mode2 = list(df[cond2][col_name].mode()):\n",
    "Berechnet den Modus für die Zeilen, die sowohl group1 als auch group2 entsprechen.\n",
    "\n",
    "✔️ if mode2 != []:\n",
    "Wenn ein Modus für die Kombination aus group1 und group2 gefunden wurde:\n",
    "\n",
    "✔️ df.loc[cond2, col_name] = df.loc[cond2, col_name].fillna(mode2[0])\n",
    "➤ Fehlt ein Wert in dieser Gruppe, wird er mit dem gruppenspezifischen Modus (mode2) aufgefüllt.\n",
    "\n",
    "✔️ elif mode1 != []:\n",
    "Wenn kein mode2, aber ein mode1 verfügbar ist:\n",
    "\n",
    "✔️ df.loc[cond2, col_name] = df.loc[cond2, col_name].fillna(mode1[0])\n",
    "➤ Fehlt ein Wert, wird er mit dem Modus von group1 allein gefüllt.\n",
    "\n",
    "✔️ else:\n",
    "Wenn weder mode2 noch mode1 verfügbar sind:\n",
    "\n",
    "✔️ df.loc[cond2, col_name] = df.loc[cond2, col_name].fillna(df[col_name].mode()[0])\n",
    "➤ Dann wird der Wert mit dem allgemeinen Modus der gesamten Spalte col_name gefüllt."
   ]
  },
  {
   "cell_type": "markdown",
   "id": "352a6e27-473d-4f08-bf46-73dbf72be0c0",
   "metadata": {},
   "source": [
    "### 1.4.6. fill_prop(df, group_col, col_name)"
   ]
  },
  {
   "cell_type": "code",
   "execution_count": null,
   "id": "00905606-8b01-4906-8871-2fb45ad4fc56",
   "metadata": {},
   "outputs": [],
   "source": [
    "def fill_prop(df, group_col, col_name):\n",
    "    \"\"\"\n",
    "    Fills missing values in a column of a Pandas DataFrame `df` using forward and backward fill based on a grouping column.\n",
    "\n",
    "    Parameters:\n",
    "    df (pandas.DataFrame): The DataFrame to operate on.\n",
    "    group_col (str): The name of the grouping column.\n",
    "    col_name (str): The name of the column to fill missing values in.\n",
    "\n",
    "    Returns:\n",
    "    None.\n",
    "\n",
    "    Prints:\n",
    "    - The name of the column that was filled.\n",
    "    - The percentage of null values in the column after filling.\n",
    "    - The number of null values in the column after filling.\n",
    "    - The number of unique values in the column after filling.\n",
    "    - The value counts for each unique value in the column after filling, including null values, sorted by index.\n",
    "    \"\"\"    \n",
    "    for group in list(df[group_col].unique()):\n",
    "        cond = df[group_col]==group\n",
    "        df.loc[cond, col_name] = df.loc[cond, col_name].fillna(method=\"ffill\").fillna(method=\"bfill\")\n",
    "    df[col_name] = df[col_name].fillna(method=\"ffill\").fillna(method=\"bfill\")\n",
    "    \n",
    "    print(\"COLUMN NAME    : \", col_name)\n",
    "    print(\"--------------------------------\")\n",
    "    print(\"per_of_nulls   : \", \"%\", round(df[col_name].isnull().sum()*100 / df.shape[0], 2))\n",
    "    print(\"num_of_nulls   : \", df[col_name].isnull().sum())\n",
    "    print(\"num_of_uniques : \", df[col_name].nunique())\n",
    "    print(\"--------------------------------\")\n",
    "    print(df[col_name].value_counts(dropna = False).sort_index())"
   ]
  },
  {
   "cell_type": "markdown",
   "id": "d57c2d37-814e-443f-8631-b38ea02a3c28",
   "metadata": {},
   "source": [
    "Dies ist eine benutzerdefinierte Python-Funktion (DEF) mit dem Namen fill_prop, die drei (3) Eingabeparameter verwendet:\n",
    "\n",
    "✔️ Ein Pandas DataFrame (df),\n",
    "\n",
    "✔️ den Namen einer Gruppierungsspalte (group_col),\n",
    "\n",
    "✔️ und den Namen der Spalte, in der fehlende Werte aufgefüllt werden sollen (col_name).\n",
    "\n",
    "Die Funktion verwendet eine for-Schleife, um fehlende Werte gruppenweise in einer bestimmten Spalte zu füllen. Das passiert in folgenden Schritten:\n",
    "\n",
    "✔️ for group in list(df[group_col].unique()):\n",
    "➤ Diese Zeile durchläuft alle eindeutigen Werte der Gruppierungsspalte group_col. Jeder Gruppenwert wird in der Variablen group gespeichert.\n",
    "\n",
    "✔️ cond = df[group_col]==group:\n",
    "➤ Erstellt eine boolesche Maske namens cond, die für alle Zeilen True ist, bei denen der Wert in group_col dem aktuellen Gruppenwert group entspricht.\n",
    "\n",
    "✔️ df.loc[cond, col_name] = df.loc[cond, col_name].fillna(method=\"ffill\").fillna(method=\"bfill\"):\n",
    "➤ Für alle Zeilen der aktuellen Gruppe werden die fehlenden Werte in col_name zuerst mit dem vorherigen (forward fill) und dann mit dem nachfolgenden (backward fill) Wert aufgefüllt. So wird sichergestellt, dass innerhalb der Gruppe fehlende Werte mit möglichst naheliegenden, vorhandenen Werten ersetzt werden.\n",
    "\n",
    "✔️ df[col_name] = df[col_name].fillna(method=\"ffill\").fillna(method=\"bfill\"):\n",
    "➤ Diese Zeile füllt alle übrigen fehlenden Werte (die nicht durch Gruppenzugehörigkeit aufgefüllt werden konnten) auf gesamter DataFrame-Ebene mit der gleichen Methode (vorwärts, dann rückwärts)."
   ]
  },
  {
   "cell_type": "markdown",
   "id": "976e9076-9191-4ea8-9ae6-199593978697",
   "metadata": {},
   "source": [
    "### 1.4.7. fill(df, group_col1, group_col2, col_name, method)"
   ]
  },
  {
   "cell_type": "code",
   "execution_count": null,
   "id": "f933597e-fe75-4840-a1c4-2f45327f88df",
   "metadata": {},
   "outputs": [],
   "source": [
    "def fill(df, group_col1, group_col2, col_name, method):\n",
    "    \"\"\"\n",
    "    Fills missing values in a column of a Pandas DataFrame `df` based on double-stage grouping and a specified filling method.\n",
    "\n",
    "    Parameters:\n",
    "    df (pandas.DataFrame): The DataFrame to operate on.\n",
    "    group_col1 (str): The name of the first grouping column.\n",
    "    group_col2 (str): The name of the second grouping column.\n",
    "    col_name (str): The name of the column to fill missing values in.\n",
    "    method (str): The filling method to use. Can be \"mode\", \"mean\", \"median\", \"ffill\", or \"bfill\".\n",
    "\n",
    "    Returns:\n",
    "    None.\n",
    "\n",
    "    Prints:\n",
    "    None.\n",
    "    \"\"\"\n",
    "    \n",
    "    if method == \"mode\":\n",
    "        for group1 in list(df[group_col1].unique()):\n",
    "            for group2 in list(df[group_col2].unique()):\n",
    "                cond1 = df[group_col1]==group1\n",
    "                cond2 = (df[group_col1]==group1) & (df[group_col2]==group2)\n",
    "                mode1 = list(df[cond1][col_name].mode())\n",
    "                mode2 = list(df[cond2][col_name].mode())\n",
    "                if mode2 != []:\n",
    "                    df.loc[cond2, col_name] = df.loc[cond2, col_name].fillna(df[cond2][col_name].mode()[0])\n",
    "                elif mode1 != []:\n",
    "                    df.loc[cond2, col_name] = df.loc[cond2, col_name].fillna(df[cond1][col_name].mode()[0])\n",
    "                else:\n",
    "                    df.loc[cond2, col_name] = df.loc[cond2, col_name].fillna(df[col_name].mode()[0])\n",
    "\n",
    "    elif method == \"mean\":\n",
    "        df[col_name].fillna(df.groupby([group_col1, group_col2])[col_name].transform(\"mean\"), inplace = True)\n",
    "        df[col_name].fillna(df.groupby(group_col1)[col_name].transform(\"mean\"), inplace = True)\n",
    "        df[col_name].fillna(df[col_name].mean(), inplace = True)\n",
    "        \n",
    "    elif method == \"median\":\n",
    "        df[col_name].fillna(df.groupby([group_col1, group_col2])[col_name].transform(\"median\"), inplace = True)\n",
    "        df[col_name].fillna(df.groupby(group_col1)[col_name].transform(\"median\"), inplace = True)\n",
    "        df[col_name].fillna(df[col_name].median(), inplace = True)\n",
    "        \n",
    "    elif method == \"ffill\":           \n",
    "        for group1 in list(df[group_col1].unique()):\n",
    "            for group2 in list(df[group_col2].unique()):\n",
    "                cond2 = (df[group_col1]==group1) & (df[group_col2]==group2)\n",
    "                df.loc[cond2, col_name] = df.loc[cond2, col_name].fillna(method=\"ffill\").fillna(method=\"bfill\")\n",
    "                \n",
    "        for group1 in list(df[group_col1].unique()):\n",
    "            cond1 = df[group_col1]==group1\n",
    "            df.loc[cond1, col_name] = df.loc[cond1, col_name].fillna(method=\"ffill\").fillna(method=\"bfill\")            \n",
    "           \n",
    "        df[col_name] = df[col_name].fillna(method=\"ffill\").fillna(method=\"bfill\")\n",
    "    \n",
    "    print(\"COLUMN NAME    : \", col_name)\n",
    "    print(\"--------------------------------\")\n",
    "    print(\"per_of_nulls   : \", \"%\", round(df[col_name].isnull().sum()*100 / df.shape[0], 2))\n",
    "    print(\"num_of_nulls   : \", df[col_name].isnull().sum())\n",
    "    print(\"num_of_uniques : \", df[col_name].nunique())\n",
    "    print(\"--------------------------------\")\n",
    "    print(df[col_name].value_counts(dropna = False).sort_index())"
   ]
  },
  {
   "cell_type": "markdown",
   "id": "350052d1-acb5-49b5-b56c-cf1306a06465",
   "metadata": {},
   "source": [
    "Dies ist eine benutzerdefinierte Python-Funktion (DEF) namens fill, die fünf (5) Eingabeparameter verwendet:\n",
    "\n",
    "✔️ Ein Pandas DataFrame (df),\n",
    "\n",
    "✔️ den Namen einer ersten Gruppierungsspalte (group_col1),\n",
    "\n",
    "✔️ den Namen einer zweiten Gruppierungsspalte (group_col2),\n",
    "\n",
    "✔️ den Namen der Zielspalte, in der fehlende Werte aufgefüllt werden sollen (col_name),\n",
    "\n",
    "✔️ und die Methode (method), mit der die fehlenden Werte gefüllt werden sollen.\n",
    "\n",
    "Mögliche Methoden:\n",
    "Der Parameter method kann einen der folgenden vier Werte annehmen:\n",
    "\n",
    "✔️ \"mode\": häufigster Wert (Modus),\n",
    "\n",
    "✔️ \"mean\": Durchschnitt (Mittelwert),\n",
    "\n",
    "✔️ \"median\": Median,\n",
    "\n",
    "✔️ \"ffill\": vorwärts auffüllen (forward fill).\n",
    "\n",
    "Funktionsweise im Detail:\n",
    "1.  Zweck der Funktion:\n",
    "Die Funktion soll fehlende Werte in der Spalte col_name auffüllen – dabei wird zweistufig gruppiert nach group_col1 und group_col2.\n",
    "\n",
    "2.  Wenn method == \"mode\":\n",
    "➤ Die Funktion durchläuft mit zwei verschachtelten Schleifen alle Kombinationen der eindeutigen Werte aus group_col1 und group_col2.\n",
    "➤ Fehlende Werte in col_name werden durch den Modus der jeweiligen Gruppe ersetzt.\n",
    "\n",
    "3. Wenn method == \"mean\" oder \"median\":\n",
    "➤ Fehlende Werte werden in drei Schritten gefüllt:\n",
    "\n",
    "    ✔️ Zuerst gruppiert nach beiden Spalten (group_col1 & group_col2),\n",
    "\n",
    "    ✔️ Dann nur nach group_col1,\n",
    "\n",
    "    ✔️ Zum Schluss im gesamten DataFrame.\n",
    "\n",
    "4. Wenn method == \"ffill\":\n",
    "➤ Die Funktion verwendet wieder zwei verschachtelte Schleifen über alle Gruppen-Kombinationen.\n",
    "➤ Innerhalb jeder Gruppe werden die fehlenden Werte in col_name mithilfe von vorwärts (ffill) und anschließend rückwärts (bfill) aufgefüllt.\n",
    "➤ Danach wird das gleiche Verfahren auf den gesamten DataFrame angewendet, um eventuell verbliebene NaNs zu füllen.\n",
    "\n",
    "Nach der Verarbeitung:\n",
    "Unabhängig von der Methode gibt die Funktion zum Schluss Zusammenfassungsstatistiken zur Spalte col_name aus:\n",
    "\n",
    "✔️ Prozentsatz der fehlenden Werte,\n",
    "\n",
    "✔️ Anzahl der fehlenden Werte,\n",
    "\n",
    "✔️ Anzahl der eindeutigen Werte,\n",
    "\n",
    "✔️ Häufigkeitsverteilung der Werte (inkl. NaN, falls vorhanden), aufsteigend nach Index sortiert."
   ]
  },
  {
   "cell_type": "markdown",
   "id": "b51a5d0f-a0a0-41dd-b010-61ec2ea5e79e",
   "metadata": {},
   "source": [
    "## 1.5. Untersuchung der fehlenden Werte in den Spalten\n"
   ]
  },
  {
   "cell_type": "code",
   "execution_count": null,
   "id": "7f797d1a-0239-4c11-bd0a-181521d9de05",
   "metadata": {},
   "outputs": [],
   "source": [
    "df_notnull = df[df.columns[~df.isnull().any()]]\n",
    "df_notnull.columns"
   ]
  },
  {
   "cell_type": "code",
   "execution_count": null,
   "id": "45b27cb1-c23f-43a5-9c8f-2a60ec521d59",
   "metadata": {
    "scrolled": true
   },
   "outputs": [],
   "source": [
    "for col in df_notnull.columns:\n",
    "    print(first_looking(col))\n",
    "    print()"
   ]
  },
  {
   "cell_type": "code",
   "execution_count": null,
   "id": "7dce9198-3412-42ed-b4b8-cde3d086885e",
   "metadata": {},
   "outputs": [],
   "source": [
    "df.isnull().sum()[df.isnull().sum() > 0]"
   ]
  },
  {
   "cell_type": "markdown",
   "id": "b5ff6369-a921-4358-a320-df77a10c867e",
   "metadata": {},
   "source": [
    "### 1.5.1. service_charge"
   ]
  },
  {
   "cell_type": "code",
   "execution_count": null,
   "id": "21e51492-b325-4c4b-97e6-77a13b8d14eb",
   "metadata": {},
   "outputs": [],
   "source": [
    "first_looking(\"service_charge\")"
   ]
  },
  {
   "cell_type": "code",
   "execution_count": null,
   "id": "ec7d5734-3e45-4d5e-816e-3e5de946752a",
   "metadata": {},
   "outputs": [],
   "source": [
    "px.box(df, y='service_charge')"
   ]
  },
  {
   "cell_type": "code",
   "execution_count": null,
   "id": "c6224813-0061-428f-bcf5-d7cfd19665d1",
   "metadata": {},
   "outputs": [],
   "source": [
    "fill(df, \"regio_2\", \"living_space\", \"service_charge\", method=\"mean\")"
   ]
  },
  {
   "cell_type": "markdown",
   "id": "57ce28aa-9ca7-42cd-b918-83fa5f740346",
   "metadata": {},
   "source": [
    "### 1.5.2. total_rent"
   ]
  },
  {
   "cell_type": "code",
   "execution_count": null,
   "id": "b1b83669-5a35-4dbb-b437-5cc3b71af553",
   "metadata": {},
   "outputs": [],
   "source": [
    "first_looking(\"total_rent\")"
   ]
  },
  {
   "cell_type": "code",
   "execution_count": null,
   "id": "0a71d278-d481-47cd-a683-09580c998035",
   "metadata": {},
   "outputs": [],
   "source": [
    "px.violin(df, y='total_rent', box=True)"
   ]
  },
  {
   "cell_type": "code",
   "execution_count": null,
   "id": "0b68b1b0-5036-4872-a35a-e4eb653138a3",
   "metadata": {},
   "outputs": [],
   "source": [
    "mask = df['total_rent'].isna() & df['base_rent'].notna() & df['service_charge'].notna()\n",
    "df.loc[mask, 'total_rent'] = df.loc[mask, 'base_rent'] + df.loc[mask, 'service_charge']"
   ]
  },
  {
   "cell_type": "code",
   "execution_count": null,
   "id": "fbccd3c2-083c-4339-8499-aaa807ce5fcc",
   "metadata": {},
   "outputs": [],
   "source": [
    "df['total_rent'].isna().sum()"
   ]
  },
  {
   "cell_type": "markdown",
   "id": "73002367-dd3d-4395-a73d-2261ada940b5",
   "metadata": {},
   "source": [
    "**💡Imputation der Spalte „total_rent“:**\n",
    "Die fehlenden Werte in der Spalte total_rent wurden zuerst mit der Summe aus base_rent und service_charge aufgefüllt, sofern beide Werte vorhanden waren. Für die verbleibenden fehlenden Werte erfolgte anschließend eine Imputation mittels des Medianwerts, gruppiert nach den Kategorien region_combo und living_space. Diese Vorgehensweise gewährleistet eine realistische und differenzierte Schätzung der fehlenden Mietwerte unter Berücksichtigung regionaler Unterschiede und Wohnflächengrößen."
   ]
  },
  {
   "cell_type": "markdown",
   "id": "b1875def-914e-4b22-b234-53a701e215d3",
   "metadata": {},
   "source": [
    "### 1-5.3. heating_costs"
   ]
  },
  {
   "cell_type": "code",
   "execution_count": null,
   "id": "18a01b89-8c5b-4913-92fa-cb91d98d6f75",
   "metadata": {},
   "outputs": [],
   "source": [
    "first_looking(\"heating_costs\")"
   ]
  },
  {
   "cell_type": "code",
   "execution_count": null,
   "id": "cc791494-5352-4558-ae84-f75e2ce9c629",
   "metadata": {},
   "outputs": [],
   "source": [
    "px.violin(df, y='base_rent', box=True)"
   ]
  },
  {
   "cell_type": "code",
   "execution_count": null,
   "id": "f90d81bb-891a-4dfd-a43b-3f9adf441380",
   "metadata": {},
   "outputs": [],
   "source": [
    "df_test = df[['base_rent', 'service_charge', 'total_rent']].dropna()\n",
    "df_test['calc_total'] = df_test['base_rent'] + df_test['service_charge']\n",
    "df_test['match'] = df_test['calc_total'] == df_test['total_rent']\n",
    "print(df_test['match'].value_counts())"
   ]
  },
  {
   "cell_type": "code",
   "execution_count": null,
   "id": "7af68ff1-c62f-4c88-a514-e10dd11c7fb9",
   "metadata": {},
   "outputs": [],
   "source": [
    "# 1. Filter: Nur Zeilen, bei denen 'heating_costs' fehlt, aber 'base_rent', 'service_charge' und 'total_rent' vorhanden sind\n",
    "mask = (\n",
    "    df['heating_costs'].isna() &\n",
    "    df['base_rent'].notna() &\n",
    "    df['service_charge'].notna() &\n",
    "    df['total_rent'].notna()\n",
    ")\n",
    "\n",
    "# 2. Berechne den fehlenden Betrag: total_rent - base_rent - service_charge\n",
    "calc = df['total_rent'] - df['base_rent'] - df['service_charge']\n",
    "\n",
    "# 3. Nur sinnvolle Werte übernehmen (heating_costs soll nicht negativ sein)\n",
    "df.loc[mask & (calc >= 0), 'heating_costs'] = calc[mask & (calc >= 0)]"
   ]
  },
  {
   "cell_type": "code",
   "execution_count": null,
   "id": "1bc70fad-8edd-4fe4-9d86-7977c1b323d7",
   "metadata": {},
   "outputs": [],
   "source": [
    "df['heating_costs'].isna().sum()"
   ]
  },
  {
   "cell_type": "code",
   "execution_count": null,
   "id": "613e12b1-e203-4de7-8228-70bcea7629de",
   "metadata": {},
   "outputs": [],
   "source": [
    "print(mask.sum())  # Wie viele Zeilen werden True?\n",
    "print(df[mask].head())"
   ]
  },
  {
   "cell_type": "code",
   "execution_count": null,
   "id": "13b5b769-bd58-4c3b-ba4e-9a569295e639",
   "metadata": {},
   "outputs": [],
   "source": [
    "# erstell bins für Living space (z.B. 0–50, 50–100, 100–150, ...)\n",
    "bins = list(range(0, int(df['living_space'].max()) + 50, 50))\n",
    "labels = [f\"{i}-{i+50}\" for i in bins[:-1]]\n",
    "df['living_space_bin'] = pd.cut(df['living_space'], bins=bins, labels=labels, include_lowest=True)"
   ]
  },
  {
   "cell_type": "code",
   "execution_count": null,
   "id": "1fce3bcf-5e1d-4d3b-a2bb-eb108cec5d9a",
   "metadata": {},
   "outputs": [],
   "source": [
    "mask = df['heating_costs'].isna()\n",
    "\n",
    "group_median = df.groupby(['region_combo', 'living_space_bin'])['heating_costs'].median()\n",
    "\n",
    "df.loc[mask, 'heating_costs'] = df[mask].apply(\n",
    "    lambda row: group_median.get((row['region_combo'], row['living_space_bin'])),\n",
    "    axis=1\n",
    ")"
   ]
  },
  {
   "cell_type": "code",
   "execution_count": null,
   "id": "186e89fd",
   "metadata": {},
   "outputs": [],
   "source": [
    "df['heating_costs'].isna().sum()"
   ]
  },
  {
   "cell_type": "code",
   "execution_count": null,
   "id": "e3f522e3-99ac-4fbc-8b0c-510135038c9a",
   "metadata": {},
   "outputs": [],
   "source": [
    "df['heating_costs'] = df.groupby('region_combo')['heating_costs'].transform(\n",
    "    lambda x: x.fillna(x.median())\n",
    ")"
   ]
  },
  {
   "cell_type": "code",
   "execution_count": null,
   "id": "7647de55",
   "metadata": {},
   "outputs": [],
   "source": [
    "df['heating_costs'].isna().sum()"
   ]
  },
  {
   "cell_type": "code",
   "execution_count": null,
   "id": "d8f579d0-32ac-40fb-9c78-33c122ac1be2",
   "metadata": {},
   "outputs": [],
   "source": [
    "df[\"heating_costs\"].fillna(df[\"heating_costs\"].median(), inplace=True)"
   ]
  },
  {
   "cell_type": "code",
   "execution_count": null,
   "id": "75714c97",
   "metadata": {},
   "outputs": [],
   "source": [
    "df['heating_costs'].isna().sum()"
   ]
  },
  {
   "cell_type": "code",
   "execution_count": null,
   "id": "df10f9de-8d76-407e-963e-f2ab9a46a38a",
   "metadata": {},
   "outputs": [],
   "source": [
    "df.drop(columns=[\"living_space_bin\"], inplace=True)"
   ]
  },
  {
   "cell_type": "markdown",
   "id": "b909d79a-f3ee-4c84-aa2b-b81c9df79fc8",
   "metadata": {},
   "source": [
    "### 1.5.4. telekom_tv_offer"
   ]
  },
  {
   "cell_type": "code",
   "execution_count": null,
   "id": "b167f015-81d3-45ef-a029-313f51b6c2ee",
   "metadata": {},
   "outputs": [],
   "source": [
    "first_looking(\"telekom_tv_offer\")"
   ]
  },
  {
   "cell_type": "code",
   "execution_count": null,
   "id": "e16ba033-680b-4c2c-ae06-2d6123b733d0",
   "metadata": {},
   "outputs": [],
   "source": [
    "plot_categorical_distributions(df, 'telekom_tv_offer')"
   ]
  },
  {
   "cell_type": "code",
   "execution_count": null,
   "id": "5fd96f08-07e2-4d58-928f-14cf6c0d743b",
   "metadata": {},
   "outputs": [],
   "source": [
    "df[\"telekom_tv_offer\"] = df.groupby(\"region_combo\")[\"telekom_tv_offer\"].transform(\n",
    "    lambda x: x.fillna(x.mode().iloc[0] if not x.mode().empty else np.nan)\n",
    ")"
   ]
  },
  {
   "cell_type": "code",
   "execution_count": null,
   "id": "fa494248-823b-41e8-829a-7f2ae58aa8bf",
   "metadata": {},
   "outputs": [],
   "source": [
    "df[\"telekom_tv_offer\"].isna().sum()"
   ]
  },
  {
   "cell_type": "code",
   "execution_count": null,
   "id": "8111ee85-6568-4a97-bcdc-15a791debe05",
   "metadata": {},
   "outputs": [],
   "source": [
    "if df[\"telekom_tv_offer\"].isnull().sum() > 0:\n",
    "    global_mode = df[\"telekom_tv_offer\"].mode().iloc[0]\n",
    "    df[\"telekom_tv_offer\"] = df[\"telekom_tv_offer\"].fillna(global_mode)"
   ]
  },
  {
   "cell_type": "code",
   "execution_count": null,
   "id": "6dc1e097-293e-492d-9ca4-290dc33639ff",
   "metadata": {},
   "outputs": [],
   "source": [
    "# df[\"telekom_tv_offer\"] = df[\"telekom_tv_offer\"].fillna(\"ONE_YEAR_FREE\")"
   ]
  },
  {
   "cell_type": "code",
   "execution_count": null,
   "id": "65e84bbd",
   "metadata": {},
   "outputs": [],
   "source": [
    "df[\"telekom_tv_offer\"].isna().sum()"
   ]
  },
  {
   "cell_type": "markdown",
   "id": "1dbeb61c-0cad-457d-8d64-fbe2b030445c",
   "metadata": {},
   "source": [
    "**💡Die Spalte `telekom_tv_offer`**, wurde stattdessen nur nach `regio_3` gruppiert. Für verbleibende fehlende Werte wurde der globale Modus der Spalte `telekom_tv_offer` verwendet. So konnte eine sinnvolle und stabile Imputation der fehlenden Werte gewährleistet werden, ohne bestehende gültige Daten zu überschreiben.\n"
   ]
  },
  {
   "cell_type": "markdown",
   "id": "3043e7d3-eff7-4b91-9a4f-a9fcd4ee334a",
   "metadata": {},
   "source": [
    "### 1.5.5. year_constructed"
   ]
  },
  {
   "cell_type": "code",
   "execution_count": null,
   "id": "ee7af1c1-7872-4c5b-87be-d49d7353fb89",
   "metadata": {},
   "outputs": [],
   "source": [
    "first_looking(\"year_constructed\")"
   ]
  },
  {
   "cell_type": "code",
   "execution_count": null,
   "id": "8d825408-09f4-4864-9128-f2104e7ab8eb",
   "metadata": {},
   "outputs": [],
   "source": [
    "df[\"year_constructed\"] = df[\"year_constructed\"].astype(\"Int64\")"
   ]
  },
  {
   "cell_type": "code",
   "execution_count": null,
   "id": "8acdec9c-7d78-4de6-9430-7c4d63920fa8",
   "metadata": {},
   "outputs": [],
   "source": [
    "def extract_year(text):\n",
    "    text = str(text)\n",
    "    \n",
    "    # Pattern 1: anahtar kelime sonra yıl (aralarında 0-20 karakter olabilir)\n",
    "    pattern1 = r\"(?i)(baujahr|erbaut|errichtet|gebaut).{0,20}?(\\d{4})\"\n",
    "    # Pattern 2: yıl sonra anahtar kelime (aralarında 0-20 karakter olabilir)\n",
    "    pattern2 = r\"(?i)(\\d{4}).{0,20}?(Bj.|baujahr|erbaut|errichtet|gebaut)\"\n",
    "    \n",
    "    match1 = re.search(pattern1, text)\n",
    "    if match1:\n",
    "        return int(match1.group(2))\n",
    "    \n",
    "    match2 = re.search(pattern2, text)\n",
    "    if match2:\n",
    "        return int(match2.group(1))\n",
    "    \n",
    "    return np.nan\n"
   ]
  },
  {
   "cell_type": "code",
   "execution_count": null,
   "id": "8bc929ef-ffb6-4f63-973f-290d8a7aeaed",
   "metadata": {},
   "outputs": [],
   "source": [
    "df['extracted_year'] = df['description'].apply(extract_year)"
   ]
  },
  {
   "cell_type": "code",
   "execution_count": null,
   "id": "5a52beb7-324e-4e1e-842b-d933360db3ff",
   "metadata": {},
   "outputs": [],
   "source": [
    "df['year_constructed'] = df['year_constructed'].fillna(df['extracted_year'])"
   ]
  },
  {
   "cell_type": "code",
   "execution_count": null,
   "id": "e5e0e2df-5d15-43d2-8041-3fb0f2bcd01d",
   "metadata": {},
   "outputs": [],
   "source": [
    "first_looking(\"year_constructed\")"
   ]
  },
  {
   "cell_type": "code",
   "execution_count": null,
   "id": "9298be06-365a-4d30-a72f-32c3ad123d7a",
   "metadata": {},
   "outputs": [],
   "source": [
    "df.drop(columns=[\"extracted_year\"], inplace=True)"
   ]
  },
  {
   "cell_type": "code",
   "execution_count": null,
   "id": "5830ed7c-82ef-48ac-b162-c9178de7a09b",
   "metadata": {},
   "outputs": [],
   "source": [
    "def categorize_year(year):\n",
    "    if pd.isna(year):\n",
    "        return 'unknown'\n",
    "    elif year >= 2015:\n",
    "        return 'very_new'\n",
    "    elif year >= 2000:\n",
    "        return 'new'\n",
    "    elif year >= 1980:\n",
    "        return 'moderate'\n",
    "    elif year >= 1950:\n",
    "        return 'old'\n",
    "    elif year >= 1800:\n",
    "        return 'very_old'\n",
    "    else:\n",
    "        return 'historical'\n",
    "\n",
    "df['year_category'] = df['year_constructed'].apply(categorize_year)"
   ]
  },
  {
   "cell_type": "code",
   "execution_count": null,
   "id": "ea51d7f0-1712-4aa5-b8af-d2822b16691e",
   "metadata": {},
   "outputs": [],
   "source": [
    "df['year_category'].value_counts()"
   ]
  },
  {
   "cell_type": "code",
   "execution_count": null,
   "id": "1aca28d6-d6c3-49fb-94d7-983361a4b133",
   "metadata": {},
   "outputs": [],
   "source": [
    "plot_categorical_distributions(df, 'year_category')"
   ]
  },
  {
   "cell_type": "markdown",
   "id": "83d42954-5404-43e0-8816-1df875058a7b",
   "metadata": {},
   "source": [
    "### 1.5.6. no_park_spaces"
   ]
  },
  {
   "cell_type": "code",
   "execution_count": null,
   "id": "bb5db034-2d40-4861-9ce0-55f05d70b9d4",
   "metadata": {},
   "outputs": [],
   "source": [
    "first_looking(\"no_park_spaces\")"
   ]
  },
  {
   "cell_type": "code",
   "execution_count": null,
   "id": "900a9617-83ec-41e5-b948-6f54b9c7a0e5",
   "metadata": {},
   "outputs": [],
   "source": [
    "px.violin(df, y='no_park_spaces', box=True)"
   ]
  },
  {
   "cell_type": "markdown",
   "id": "2f98f88c-39ea-47cb-823a-8decf97cc99b",
   "metadata": {},
   "source": [
    "**💡Die Spalte no_park_spaces,** welche die Anzahl der Parkplätze pro Immobilie angibt, wies einen sehr hohen Anteil an fehlenden Werten auf:\n",
    "65,51 % der Werte (entsprechend 174.936 Einträgen) waren NaN.\n",
    "\n",
    "Da diese Information potenziell mit der Region sowie dem Wohnungstyp zusammenhängt, wurde ein gestuftes Verfahren zur Imputation (Wertauffüllung) angewendet."
   ]
  },
  {
   "cell_type": "code",
   "execution_count": null,
   "id": "d105281f-6706-4200-a851-f69aab914246",
   "metadata": {},
   "outputs": [],
   "source": [
    "# 1. Gruppierung nach regio_3 und type_of_flat:\n",
    "df[\"no_park_spaces\"] = df.groupby([\"region_combo\", \"type_of_flat\"])[\"no_park_spaces\"].transform(\n",
    "    lambda x: x.fillna(x.mode().iloc[0] if not x.mode().empty else np.nan)\n",
    ")"
   ]
  },
  {
   "cell_type": "code",
   "execution_count": null,
   "id": "fe72f0c6-e99e-439c-8bdf-a2203ea5918f",
   "metadata": {},
   "outputs": [],
   "source": [
    "df[\"no_park_spaces\"].isna().sum()"
   ]
  },
  {
   "cell_type": "code",
   "execution_count": null,
   "id": "00c2f9cc-f52c-49ef-ba18-3f9b93db2be3",
   "metadata": {},
   "outputs": [],
   "source": [
    "# 2. Falls weiter fehlende Werte vorhanden waren:\n",
    "df[\"no_park_spaces\"] = df.groupby(\"region_combo\")[\"no_park_spaces\"].transform(\n",
    "    lambda x: x.fillna(x.mode().iloc[0] if not x.mode().empty else np.nan)\n",
    ")"
   ]
  },
  {
   "cell_type": "code",
   "execution_count": null,
   "id": "f801bb04-fa4b-4b48-ae06-ca706df2baa6",
   "metadata": {},
   "outputs": [],
   "source": [
    "df[\"no_park_spaces\"].isna().sum()"
   ]
  },
  {
   "cell_type": "code",
   "execution_count": null,
   "id": "337df861-5d94-414c-a431-08807bac5445",
   "metadata": {},
   "outputs": [],
   "source": [
    "# 3. Letzter Schritt – globale Imputation:\n",
    "if df[\"no_park_spaces\"].isnull().sum() > 0:\n",
    "    overall_mode = df[\"no_park_spaces\"].mode()\n",
    "    if not overall_mode.empty:\n",
    "        df[\"no_park_spaces\"] = df[\"no_park_spaces\"].fillna(overall_mode.iloc[0])"
   ]
  },
  {
   "cell_type": "code",
   "execution_count": null,
   "id": "4154de8a-fd9f-40ae-9433-7ea2337fc04b",
   "metadata": {},
   "outputs": [],
   "source": [
    "df[\"no_park_spaces\"].isna().sum()"
   ]
  },
  {
   "cell_type": "markdown",
   "id": "5f267cc7-6270-457a-a0e9-30519b74c624",
   "metadata": {},
   "source": [
    "### 1.5.7. interior_qual"
   ]
  },
  {
   "cell_type": "code",
   "execution_count": null,
   "id": "59bc4e21-1141-489d-9ae8-f8f6092bbc46",
   "metadata": {},
   "outputs": [],
   "source": [
    "first_looking(\"interior_qual\")"
   ]
  },
  {
   "cell_type": "code",
   "execution_count": null,
   "id": "2a327b25-4fa9-4ff3-8b06-63941c649e00",
   "metadata": {},
   "outputs": [],
   "source": [
    "df[\"base_rent_cat\"] = pd.cut(df[\"base_rent\"], bins=[0, 500, 800, 1200, 2000, 3000, 5000, np.inf], labels=[\"sehr niedrig\", \"niedrig\", \"mittel\", \"über-mittel\", \"hoch\", \"sehr hoch\", \"multi hoch\"])"
   ]
  },
  {
   "cell_type": "code",
   "execution_count": null,
   "id": "f2aebefd-6404-4f4d-9c69-10bea82885be",
   "metadata": {},
   "outputs": [],
   "source": [
    "fill(df, \"condition_grouped\", \"base_rent_cat\", \"interior_qual\", method=\"mode\")"
   ]
  },
  {
   "cell_type": "code",
   "execution_count": null,
   "id": "1631c08d-f7ff-4b37-9815-13e8c90e9fba",
   "metadata": {},
   "outputs": [],
   "source": [
    "fill_most_freq(df, \"base_rent_cat\", \"interior_qual\")"
   ]
  },
  {
   "cell_type": "code",
   "execution_count": null,
   "id": "bbac248a-1ebe-49ae-843a-23504c42b015",
   "metadata": {},
   "outputs": [],
   "source": [
    "df[\"interior_qual\"].fillna(df[\"interior_qual\"].mode()[0], inplace=True)"
   ]
  },
  {
   "cell_type": "code",
   "execution_count": null,
   "id": "70a3404e-401c-496f-b5c7-aa158952f848",
   "metadata": {},
   "outputs": [],
   "source": [
    "plot_categorical_distributions(df, 'interior_qual')"
   ]
  },
  {
   "cell_type": "markdown",
   "id": "d94cf3bf-79a8-4aee-aa4b-589a2ecca71e",
   "metadata": {},
   "source": [
    "**💡„Die fehlenden Werte in der Spalte ‚interior_qual‘** werden gruppiert nach ‚condition‘ und ‚base_rent‘ mit dem häufigsten Wert (Modus) innerhalb jeder Gruppe aufgefüllt. So wird der Zusammenhang zwischen Zustand, Mietpreis und Innenqualität genutzt.“"
   ]
  },
  {
   "cell_type": "markdown",
   "id": "df6a5733-e65e-441d-b2b1-a3c87c926f83",
   "metadata": {},
   "source": [
    "### 1.5.8. pets_allowed"
   ]
  },
  {
   "cell_type": "code",
   "execution_count": null,
   "id": "85877bab-73a3-41b9-bae5-5fd8bfc2db9b",
   "metadata": {},
   "outputs": [],
   "source": [
    "first_looking(\"pets_allowed\")"
   ]
  },
  {
   "cell_type": "code",
   "execution_count": null,
   "id": "c0ae21a7-fdbf-4b8b-920a-68dec1a8c645",
   "metadata": {},
   "outputs": [],
   "source": [
    "# Fehlende Werte in 'pets_allowed' werden mit 'unknown' aufgefüllt, da keine zuverlässige Ableitung möglich ist.\n",
    "df[\"pets_allowed\"].fillna(\"unknown\", inplace=True)"
   ]
  },
  {
   "cell_type": "code",
   "execution_count": null,
   "id": "7f935665-b517-4ddf-a4f5-e35ca82f950c",
   "metadata": {},
   "outputs": [],
   "source": [
    "df.drop(columns=[\"base_rent_cat\"], inplace=True)"
   ]
  },
  {
   "cell_type": "markdown",
   "id": "bd362f47-0c54-4806-b802-8a72c7e7e176",
   "metadata": {},
   "source": [
    "### 1.5.9. floor"
   ]
  },
  {
   "cell_type": "code",
   "execution_count": null,
   "id": "f703451a-5d6b-415b-b99b-46a75580225d",
   "metadata": {},
   "outputs": [],
   "source": [
    "first_looking(\"floor\")"
   ]
  },
  {
   "cell_type": "code",
   "execution_count": null,
   "id": "c6e9a835-eb1b-4f4e-ac4f-5407db1fc9d0",
   "metadata": {},
   "outputs": [],
   "source": [
    "px.violin(df, y='floor', box=True)"
   ]
  },
  {
   "cell_type": "code",
   "execution_count": null,
   "id": "b9a8c752-3d67-450b-a2a5-2a442383005d",
   "metadata": {},
   "outputs": [],
   "source": [
    "def extract_floor(text):\n",
    "    text = str(text).lower()\n",
    "\n",
    "    # Muster für numerische Etagenangaben (z. B. 3. Etage, 2. OG)\n",
    "    patterns = [\n",
    "        r\"(\\d{1,2})\\.\\s*(etage|stock|og|geschoss)\",   # z.B. \"2. Etage\", \"3. OG\"\n",
    "        r\"(\\d{1,2})\\s*(og|stock|geschoss)\",           # z.B. \"3 OG\", \"2 Geschoss\"\n",
    "        r\"(erdgeschoss|dachgeschoss|souterrain|parterre|tiefparterre|hochparterre)\",  # ausgeschrieben\n",
    "        r\"\\b(eg|dg|ug|kg|og)\\b\"                       # gängige Abkürzungen\n",
    "    ]\n",
    "\n",
    "    for pattern in patterns:\n",
    "        match = re.search(pattern, text)\n",
    "        if match:\n",
    "            val = match.group(1) if match.lastindex and match.group(1) else match.group(0)\n",
    "            val = val.strip()\n",
    "            # Kürzel zuordnen\n",
    "            mapping = {\n",
    "                \"eg\": 0, \"erdgeschoss\": 0,\n",
    "                \"dg\": 99, \"dachgeschoss\": 99,\n",
    "                \"ug\": -1, \"kg\": -2, \"souterrain\": -1,\n",
    "                \"parterre\": 0, \"tiefparterre\": -1, \"hochparterre\": 0\n",
    "            }\n",
    "            if val.isdigit():\n",
    "                return int(val)\n",
    "            elif val in mapping:\n",
    "                return mapping[val]\n",
    "    return None"
   ]
  },
  {
   "cell_type": "code",
   "execution_count": null,
   "id": "503f66d0-de3e-40ea-9206-458e06743ef2",
   "metadata": {},
   "outputs": [],
   "source": [
    "df[\"extracted_floor\"] = df[\"description\"].apply(extract_floor)\n",
    "df[\"floor\"] = df[\"floor\"].combine_first(df[\"extracted_floor\"])"
   ]
  },
  {
   "cell_type": "code",
   "execution_count": null,
   "id": "7b84e02e-d4e5-4ad9-b922-bbab8002d5bb",
   "metadata": {},
   "outputs": [],
   "source": [
    "(df['floor'] == 99).sum()"
   ]
  },
  {
   "cell_type": "code",
   "execution_count": null,
   "id": "dc3ebede-51f1-4ff4-85a8-4e90fae7b91a",
   "metadata": {},
   "outputs": [],
   "source": [
    "roof_floor_mask = df['floor'] == 99"
   ]
  },
  {
   "cell_type": "code",
   "execution_count": null,
   "id": "4f062a9f-9341-4137-ba28-4e4fcb870d2f",
   "metadata": {},
   "outputs": [],
   "source": [
    "df.loc[roof_floor_mask, 'floor'] = df.loc[roof_floor_mask, 'number_of_floors']"
   ]
  },
  {
   "cell_type": "code",
   "execution_count": null,
   "id": "ad049b74-3de1-459d-8612-9af4564c698c",
   "metadata": {},
   "outputs": [],
   "source": [
    "(df['floor'] == 99).sum()"
   ]
  },
  {
   "cell_type": "code",
   "execution_count": null,
   "id": "0a662bbf-ccf4-4f7f-b883-b2d79f3e30f6",
   "metadata": {},
   "outputs": [],
   "source": [
    "df.loc[(df[\"floor\"].isna()) & (df[\"number_of_floors\"] == 1), \"floor\"] = 0"
   ]
  },
  {
   "cell_type": "code",
   "execution_count": null,
   "id": "71ea1a18-e6d9-487c-90d3-9566212f5b47",
   "metadata": {},
   "outputs": [],
   "source": [
    "df[\"floor\"].isna().sum()"
   ]
  },
  {
   "cell_type": "code",
   "execution_count": null,
   "id": "d031f5b6-d53a-48c5-ba6a-a9dca059f1bf",
   "metadata": {},
   "outputs": [],
   "source": [
    "# Bölgeye göre (örneğin region_combo) medyan kat değerini hesapla\n",
    "region_medians = df.groupby('region_combo')['floor'].median()\n",
    "\n",
    "# Eksikleri doldurmak için fonksiyon\n",
    "def fill_floor_by_region(row):\n",
    "    if pd.isna(row['floor']):\n",
    "        return region_medians.get(row['region_combo'], np.nan)\n",
    "    return row['floor']\n",
    "\n",
    "# Uygula\n",
    "df['floor'] = df.apply(fill_floor_by_region, axis=1)"
   ]
  },
  {
   "cell_type": "code",
   "execution_count": null,
   "id": "62f3a7f9-5f0d-44e4-9bb4-37c302da84d3",
   "metadata": {},
   "outputs": [],
   "source": [
    "df['floor'] = df['floor'].fillna(df['floor'].median())"
   ]
  },
  {
   "cell_type": "code",
   "execution_count": null,
   "id": "e9173119-1310-4cf9-a7d0-f4d92926c26d",
   "metadata": {},
   "outputs": [],
   "source": [
    "df[\"floor\"].value_counts(dropna=False)"
   ]
  },
  {
   "cell_type": "code",
   "execution_count": null,
   "id": "71e989ee-66ad-4dc8-a25f-358032533494",
   "metadata": {},
   "outputs": [],
   "source": [
    "df['floor'] = df['floor'].apply(lambda x: np.floor(x) if pd.notna(x) else x)"
   ]
  },
  {
   "cell_type": "code",
   "execution_count": null,
   "id": "d8c40982-617b-44f3-bbad-8d1e8ef29234",
   "metadata": {},
   "outputs": [],
   "source": [
    "df['floor'] = df['floor'].astype('Int64') "
   ]
  },
  {
   "cell_type": "code",
   "execution_count": null,
   "id": "9bbd2a80-0a37-45d3-8da7-afd09872c89d",
   "metadata": {},
   "outputs": [],
   "source": [
    "df.drop(columns=[\"extracted_floor\"], inplace=True)"
   ]
  },
  {
   "cell_type": "markdown",
   "id": "373929b3-bb8c-4f2a-bab6-cdf7e678f79e",
   "metadata": {},
   "source": [
    "### 1.5.10. number_of_floor"
   ]
  },
  {
   "cell_type": "code",
   "execution_count": null,
   "id": "7bdece20-06e5-46b0-94ca-08c4bb9b349c",
   "metadata": {},
   "outputs": [],
   "source": [
    "first_looking('number_of_floors')"
   ]
  },
  {
   "cell_type": "markdown",
   "id": "6f461efc-ceed-4461-8c97-40c6860316f7",
   "metadata": {},
   "source": [
    "**💡number_of_floors:** Da die Anzahl der Stockwerke in dem Gebäude, in dem sich die Wohnung befindet, als Faktor gilt, der sich auf die Miete auswirken kann, haben wir beschlossen, die Spalte „floor“ beizubehalten und die Spalte „number_of_floors“ zu löschen."
   ]
  },
  {
   "cell_type": "code",
   "execution_count": null,
   "id": "ca9a8418-c9f8-4f1f-94c0-6d73c72a66b3",
   "metadata": {},
   "outputs": [],
   "source": [
    "df.drop(columns=['number_of_floors'], inplace=True)"
   ]
  },
  {
   "cell_type": "markdown",
   "id": "80ffb57c-91c3-41c3-ad44-fa2e131fafb0",
   "metadata": {},
   "source": [
    "### 1.5.11. condition_grouped"
   ]
  },
  {
   "cell_type": "code",
   "execution_count": null,
   "id": "85b8fc87-a2d8-46d1-9614-e2546f18162f",
   "metadata": {},
   "outputs": [],
   "source": [
    "first_looking(\"condition_grouped\")"
   ]
  },
  {
   "cell_type": "code",
   "execution_count": null,
   "id": "7a95d5bc-14ba-4756-8c17-d18a9a96925a",
   "metadata": {},
   "outputs": [],
   "source": [
    "df[df['condition_grouped'].isna()]['description'].dropna().sample(10, random_state=1).values"
   ]
  },
  {
   "cell_type": "code",
   "execution_count": null,
   "id": "e500d727-dfd7-463d-91d6-309b7237f4d9",
   "metadata": {},
   "outputs": [],
   "source": [
    "def infer_condition_from_description(text):\n",
    "    text = str(text).lower()\n",
    "    if any(word in text for word in ['neubau', 'neu']):\n",
    "        return 'new'\n",
    "    elif any(word in text for word in ['saniert', 'renoviert', 'renovierte', 'renoviertes']):\n",
    "        return 'new_refurbished'\n",
    "    elif 'modernisiert' in text:\n",
    "        return 'good'\n",
    "    elif any(word in text for word in ['top-zustand', 'luxus']):\n",
    "        return 'excellent'\n",
    "    elif any(word in text for word in ['abgenutzt', 'renovierungsbedürftig', 'sanierungsbedürftig']):\n",
    "        return 'poor'\n",
    "    else:\n",
    "        return None\n",
    "\n",
    "# Sadece eksik olanlar için doldurma\n",
    "mask = df['condition_grouped'].isna()\n",
    "df.loc[mask, 'condition_grouped'] = df.loc[mask, 'description'].apply(infer_condition_from_description)\n"
   ]
  },
  {
   "cell_type": "code",
   "execution_count": null,
   "id": "f861a23b-2ffe-4f82-b489-0f63be3e9fdc",
   "metadata": {},
   "outputs": [],
   "source": [
    "df['condition_grouped'].isna().sum()"
   ]
  },
  {
   "cell_type": "code",
   "execution_count": null,
   "id": "41b3896b-cb77-4310-91e9-745f11be54f3",
   "metadata": {},
   "outputs": [],
   "source": [
    "df.loc[(df['condition_grouped'].isna()) & (df['newly_const'] == True), 'condition_grouped'] = 'new'"
   ]
  },
  {
   "cell_type": "code",
   "execution_count": null,
   "id": "68cc4dfa",
   "metadata": {},
   "outputs": [],
   "source": [
    "df['condition_grouped'].isna().sum()"
   ]
  },
  {
   "cell_type": "code",
   "execution_count": null,
   "id": "867fa34f-50b8-40c8-95c0-e5c40ce7d82b",
   "metadata": {},
   "outputs": [],
   "source": [
    "df[df[\"last_refurbish\"] == 2021]"
   ]
  },
  {
   "cell_type": "code",
   "execution_count": null,
   "id": "5baf2270-c613-45d1-b5e9-c33357bf9be8",
   "metadata": {},
   "outputs": [],
   "source": [
    "def assign_condition_based_on_year(df, refurb_col='last_refurbish', construct_col='year_constructed'):\n",
    "    \"\"\"\n",
    "    Füllt condition_grouped basierend auf den Werten last_refurbish und year_constructed aus.\n",
    "    Refurb_col hat Priorität. Ist refurb_col nicht vorhanden, wird construct_col ausgewertet.\n",
    "\n",
    "    Kriterler (örnek):\n",
    "    - refurb/construct >= 2015  => 'new'\n",
    "    - 2000 <= refurb/construct < 2015  => 'good'\n",
    "    - 1990 <= refurb/construct < 2000  => 'unclear'\n",
    "    - refurb/construct < 1990 veya NaN  => 'poor'\n",
    "    \"\"\"\n",
    "\n",
    "    df.loc[\n",
    "        (df['condition_grouped'].isna()) & \n",
    "        (df[refurb_col].notna()) & \n",
    "        (df[refurb_col] >= 1990) & \n",
    "        (df[refurb_col] < 2000), 'condition_grouped'\n",
    "    ] = 'unclear'\n",
    "\n",
    "    df.loc[\n",
    "        (df['condition_grouped'].isna()) & \n",
    "        (df[refurb_col].notna()) & \n",
    "        (df[refurb_col] < 1990), 'condition_grouped'\n",
    "    ] = 'poor'\n",
    "\n",
    "    # construct_col bazlı doldurma (sadece refurb_col yoksa)\n",
    "    df.loc[\n",
    "        (df['condition_grouped'].isna()) & \n",
    "        (df[refurb_col].isna()) & \n",
    "        (df[construct_col].notna()) & \n",
    "        (df[construct_col] >= 2015), 'condition_grouped'\n",
    "    ] = 'new'\n",
    "\n",
    "    df.loc[\n",
    "        (df['condition_grouped'].isna()) & \n",
    "        (df[refurb_col].isna()) & \n",
    "        (df[construct_col].notna()) & \n",
    "        (df[construct_col] >= 2000) & \n",
    "        (df[construct_col] < 2015), 'condition_grouped'\n",
    "    ] = 'good'\n",
    "\n",
    "    df.loc[\n",
    "        (df['condition_grouped'].isna()) & \n",
    "        (df[refurb_col].isna()) & \n",
    "        (df[construct_col].notna()) & \n",
    "        (df[construct_col] >= 1990) & \n",
    "        (df[construct_col] < 2000), 'condition_grouped'\n",
    "    ] = 'unclear'\n",
    "\n",
    "    df.loc[\n",
    "        (df['condition_grouped'].isna()) & \n",
    "        (df[refurb_col].isna()) & \n",
    "        (df[construct_col].notna()) & \n",
    "        (df[construct_col] < 1990), 'condition_grouped'\n",
    "    ] = 'poor'\n",
    "\n",
    "    return df\n",
    "\n"
   ]
  },
  {
   "cell_type": "code",
   "execution_count": null,
   "id": "29b59485-8027-488f-ae3b-ebadf48a0420",
   "metadata": {},
   "outputs": [],
   "source": [
    "df.loc[\n",
    "        (df['condition_grouped'].isna()) & \n",
    "        (df[\"last_refurbish\"].notna()) & \n",
    "        (df[\"last_refurbish\"] >= 2015), 'condition_grouped'\n",
    "    ] = 'new'"
   ]
  },
  {
   "cell_type": "code",
   "execution_count": null,
   "id": "81bc7758-ae06-4083-9d8c-ee80ee24aa9f",
   "metadata": {},
   "outputs": [],
   "source": [
    "    df.loc[\n",
    "        (df['condition_grouped'].isna()) & \n",
    "        (df[\"last_refurbish\"].notna()) & \n",
    "        (df[\"last_refurbish\"] >= 2000) & \n",
    "        (df[\"last_refurbish\"] < 2015), 'condition_grouped'\n",
    "    ] = 'good'"
   ]
  },
  {
   "cell_type": "code",
   "execution_count": null,
   "id": "65784980-0f46-48dc-97d0-d6367c9c2f85",
   "metadata": {},
   "outputs": [],
   "source": [
    "    df.loc[\n",
    "        (df['condition_grouped'].isna()) & \n",
    "        (df[\"last_refurbish\"].notna()) & \n",
    "        (df[\"last_refurbish\"] >= 1990 ) & \n",
    "        (df[\"last_refurbish\"] < 2000), 'condition_grouped'\n",
    "    ] = 'unclear'"
   ]
  },
  {
   "cell_type": "code",
   "execution_count": null,
   "id": "9f82d1ed-9c95-44af-abe4-3eaa2e957285",
   "metadata": {},
   "outputs": [],
   "source": [
    "df.loc[\n",
    "        (df['condition_grouped'].isna()) & \n",
    "        (df[\"last_refurbish\"].notna()) & \n",
    "        (df[\"last_refurbish\"] < 1990), 'condition_grouped'\n",
    "    ] = 'poor'"
   ]
  },
  {
   "cell_type": "code",
   "execution_count": null,
   "id": "cb67d8c9-aff2-4d7c-acdc-f70e7cb1a7ad",
   "metadata": {},
   "outputs": [],
   "source": [
    "  df.loc[\n",
    "        (df['condition_grouped'].isna()) & \n",
    "        (df[\"last_refurbish\"].isna()) & \n",
    "        (df[\"year_constructed\"].notna()) & \n",
    "        (df[\"year_constructed\"] >= 2015), 'condition_grouped'\n",
    "    ] = 'new'"
   ]
  },
  {
   "cell_type": "code",
   "execution_count": null,
   "id": "41d08b0b-bbcf-4e98-87d3-9e46aa157752",
   "metadata": {},
   "outputs": [],
   "source": [
    "  df.loc[\n",
    "        (df['condition_grouped'].isna()) & \n",
    "        (df[\"last_refurbish\"].isna()) & \n",
    "        (df[\"year_constructed\"].notna()) & \n",
    "        (df[\"year_constructed\"] >= 2000) &\n",
    "        (df[\"year_constructed\"] < 2015), 'condition_grouped'\n",
    "    ] = 'good'"
   ]
  },
  {
   "cell_type": "code",
   "execution_count": null,
   "id": "127f71af-9034-4a22-b47f-1749f997bdfa",
   "metadata": {},
   "outputs": [],
   "source": [
    "  df.loc[\n",
    "        (df['condition_grouped'].isna()) & \n",
    "        (df[\"last_refurbish\"].isna()) & \n",
    "        (df[\"year_constructed\"].notna()) & \n",
    "        (df[\"year_constructed\"] >= 1990) &\n",
    "        (df[\"year_constructed\"] < 2000), 'condition_grouped'\n",
    "    ] = 'unclear'"
   ]
  },
  {
   "cell_type": "code",
   "execution_count": null,
   "id": "99e53bdb-c204-4aa3-97b2-3158915ae579",
   "metadata": {},
   "outputs": [],
   "source": [
    "  df.loc[\n",
    "        (df['condition_grouped'].isna()) & \n",
    "        (df[\"last_refurbish\"].isna()) & \n",
    "        (df[\"year_constructed\"].notna()) & \n",
    "        (df[\"year_constructed\"] < 1990), 'condition_grouped'\n",
    "    ] = 'poor'"
   ]
  },
  {
   "cell_type": "code",
   "execution_count": null,
   "id": "21464db5",
   "metadata": {},
   "outputs": [],
   "source": [
    "df['condition_grouped'].isna().sum()"
   ]
  },
  {
   "cell_type": "code",
   "execution_count": null,
   "id": "eb527028-83c6-40a8-9b72-f3ec85c89424",
   "metadata": {},
   "outputs": [],
   "source": [
    "df['condition_grouped'] = df['condition_grouped'].fillna('unclear')"
   ]
  },
  {
   "cell_type": "code",
   "execution_count": null,
   "id": "15b59fda-a7cc-47c5-9cb0-6cd5a6251d32",
   "metadata": {},
   "outputs": [],
   "source": [
    "first_looking(\"condition_grouped\")"
   ]
  },
  {
   "cell_type": "code",
   "execution_count": null,
   "id": "9d66ce1e-56c5-49d3-a453-247bd608bdce",
   "metadata": {},
   "outputs": [],
   "source": [
    "plot_categorical_distributions(df, 'condition_grouped')"
   ]
  },
  {
   "cell_type": "markdown",
   "id": "c1e8d382-0855-4a5e-9df2-bfe51944a091",
   "metadata": {},
   "source": [
    "### 1.5.12. type_of_flat"
   ]
  },
  {
   "cell_type": "code",
   "execution_count": null,
   "id": "00524016-b446-4efc-b2ee-a3d24e66c42e",
   "metadata": {},
   "outputs": [],
   "source": [
    "first_looking(\"type_of_flat\")"
   ]
  },
  {
   "cell_type": "code",
   "execution_count": null,
   "id": "c9ef1536-f372-4b14-bd79-527029e5edf3",
   "metadata": {},
   "outputs": [],
   "source": [
    "import spacy\n",
    "\n",
    "nlp = spacy.load(\"de_core_news_sm\")\n",
    "\n",
    "keywords_map = {\n",
    "    'dachgeschoss': 'roof_storey',\n",
    "    'erdgeschoss': 'ground_floor',\n",
    "    'hochparterre': 'raised_ground_floor',\n",
    "    'souterrain': 'half_basement',\n",
    "    'maisonette': 'maisonette',\n",
    "    'penthouse': 'penthouse',\n",
    "    'terrassenwohnung': 'terraced_flat',\n",
    "    'loft': 'loft',\n",
    "    'etagenwohnung': 'apartment',\n",
    "    'wohnung': 'apartment',\n",
    "}\n",
    "\n",
    "mask = df['type_of_flat'].isna() & df['description'].notna()\n",
    "\n",
    "for idx in df[mask].index:\n",
    "    doc = nlp(df.at[idx, 'description'].lower())\n",
    "    for token in doc:\n",
    "        for keyword, flat_type in keywords_map.items():\n",
    "            if keyword in token.text:\n",
    "                df.at[idx, 'type_of_flat'] = flat_type\n",
    "                break\n",
    "        if pd.notna(df.at[idx, 'type_of_flat']):\n",
    "            break\n"
   ]
  },
  {
   "cell_type": "code",
   "execution_count": null,
   "id": "20a2cdf0-43a4-42af-ad2f-205441bac02a",
   "metadata": {},
   "outputs": [],
   "source": [
    "df[\"type_of_flat\"].isna().sum()"
   ]
  },
  {
   "cell_type": "code",
   "execution_count": null,
   "id": "287542e4-913e-4cd7-a5cf-319fc34ae07f",
   "metadata": {},
   "outputs": [],
   "source": [
    "df.loc[df['type_of_flat'].isna(), 'type_of_flat'] = 'other'"
   ]
  },
  {
   "cell_type": "code",
   "execution_count": null,
   "id": "4f57a1d5-28f4-40db-ba6a-77f0131cf783",
   "metadata": {},
   "outputs": [],
   "source": [
    "df[\"type_of_flat\"].isna().sum()"
   ]
  },
  {
   "cell_type": "code",
   "execution_count": null,
   "id": "c3871493-23d7-4100-af64-5ac5f4572b5f",
   "metadata": {},
   "outputs": [],
   "source": [
    "df[\"type_of_flat\"].value_counts()"
   ]
  },
  {
   "cell_type": "code",
   "execution_count": null,
   "id": "9daa6113-8db6-46a1-a73f-f535c0df8cce",
   "metadata": {},
   "outputs": [],
   "source": [
    "plot_categorical_distributions(df, 'type_of_flat')"
   ]
  },
  {
   "cell_type": "markdown",
   "id": "aedbe0ec-f0d3-42a8-90b7-b037bcb048e6",
   "metadata": {},
   "source": [
    "### 1.5.13. thermal_char"
   ]
  },
  {
   "cell_type": "code",
   "execution_count": null,
   "id": "e6174857-0a12-43fa-8a15-f63e88b771ad",
   "metadata": {},
   "outputs": [],
   "source": [
    "first_looking(\"thermal_char\")"
   ]
  },
  {
   "cell_type": "code",
   "execution_count": null,
   "id": "499edc8f-14d4-4bd7-bfc3-9498b66f2b4c",
   "metadata": {},
   "outputs": [],
   "source": [
    "px.violin(df, y='thermal_char', box=True)"
   ]
  },
  {
   "cell_type": "code",
   "execution_count": null,
   "id": "b84342de-9219-4ceb-8d30-2b7413b22716",
   "metadata": {},
   "outputs": [],
   "source": [
    "def extract_thermal_char(description):\n",
    "    if pd.isna(description):\n",
    "        return np.nan\n",
    "    # Almanca sayı formatını (virgül) noktaya çevirecek ve sayıyı alacak\n",
    "    match = re.search(r\"Energieverbrauchskennwert[:\\s]*([0-9]+[,.]?[0-9]*)\", description)\n",
    "    if match:\n",
    "        value = match.group(1).replace(',', '.')\n",
    "        try:\n",
    "            return float(value)\n",
    "        except:\n",
    "            return np.nan\n",
    "    return np.nan\n",
    "\n",
    "# Sadece thermal_char eksik olan satırlarda uygula\n",
    "mask = df['thermal_char'].isna()\n",
    "df.loc[mask, 'thermal_char'] = df.loc[mask, 'description'].apply(extract_thermal_char)"
   ]
  },
  {
   "cell_type": "code",
   "execution_count": null,
   "id": "b6a854fc-bf9f-477f-9c9c-d25b083379e7",
   "metadata": {},
   "outputs": [],
   "source": [
    "df_energy_desc = df[df['description'].str.contains(\"energie\", case=False, na=False)].copy()"
   ]
  },
  {
   "cell_type": "code",
   "execution_count": null,
   "id": "15474476-69a2-45d4-a679-3e1fc8908d52",
   "metadata": {},
   "outputs": [],
   "source": [
    "from tqdm import tqdm\n",
    "tqdm.pandas()\n",
    "nlp = spacy.load(\"de_core_news_sm\") \n",
    "def extract_energy_sentences(text):\n",
    "    doc = nlp(text)\n",
    "    return [sent.text for sent in doc.sents if 'energie' in sent.text.lower()]\n",
    "\n",
    "df_energy_desc['energy_sentences'] = df_energy_desc['description'].progress_apply(extract_energy_sentences)"
   ]
  },
  {
   "cell_type": "code",
   "execution_count": null,
   "id": "af9b6d01-38c3-4e67-81fb-4c60c3da4c6c",
   "metadata": {},
   "outputs": [],
   "source": [
    "def extract_energy_sentences(text):\n",
    "    doc = nlp(text)\n",
    "    return [sent.text for sent in doc.sents if 'energie' in sent.text.lower()]\n",
    "\n",
    "df_energy_desc['energy_sentences'] = df_energy_desc['description'].progress_apply(extract_energy_sentences)"
   ]
  },
  {
   "cell_type": "code",
   "execution_count": null,
   "id": "5a77d828-3a1b-4291-bbea-1c7ebd882907",
   "metadata": {},
   "outputs": [],
   "source": [
    "def extract_energy_value(sentences):\n",
    "    if not sentences:\n",
    "        return np.nan\n",
    "    for sent in sentences:\n",
    "        match = re.search(r\"([0-9]+[,.]?[0-9]*)\\s*kWh\", sent)\n",
    "        if match:\n",
    "            value = match.group(1).replace(\",\", \".\")\n",
    "            try:\n",
    "                return float(value)\n",
    "            except:\n",
    "                continue\n",
    "    return np.nan\n",
    "\n",
    "df_energy_desc['thermal_extracted'] = df_energy_desc['energy_sentences'].apply(extract_energy_value)"
   ]
  },
  {
   "cell_type": "code",
   "execution_count": null,
   "id": "cbc0b26b-f2de-4e9e-b0e0-c3da11a3e92b",
   "metadata": {},
   "outputs": [],
   "source": [
    "mask = df['thermal_char'].isna()\n",
    "update_vals = df_energy_desc['thermal_extracted'].dropna()\n",
    "\n",
    "df.loc[mask & df.index.isin(update_vals.index), 'thermal_char'] = update_vals"
   ]
  },
  {
   "cell_type": "code",
   "execution_count": null,
   "id": "993d7fde-c3cd-4d8b-aaea-e50d82ad8e22",
   "metadata": {},
   "outputs": [],
   "source": [
    "df['thermal_char'].isna().sum()"
   ]
  },
  {
   "cell_type": "markdown",
   "id": "d69843ee-690d-41f6-abfc-3d51942d693f",
   "metadata": {},
   "source": [
    "**💡Energieeffizienzklassen:** Hier wurde die Idee umgesetzt, fehlende Werte der Spalte „thermal_char“ basierend auf der Energieeffizienzklasse zu ergänzen. Die Zuordnung der Verbrauchswerte zu den Effizienzklassen erfolgte anhand der offiziellen Schwellenwerte, wie sie auf der folgenden Seite der Verbraucherzentrale NRW dokumentiert sind:\n",
    "\n",
    "👉 Energieausweis – Was sagt dieser Steckbrief für Wohngebäude aus?\n",
    "\n",
    "https://www.verbraucherzentrale.nrw/wissen/energie/energetische-sanierung/energieausweis-was-sagt-dieser-steckbrief-fuer-wohngebaeude-aus-24074\n",
    "\n",
    "Diese Methode erlaubt eine realitätsnahe und standardisierte Imputation auf Basis energetischer Gebäudeklassen."
   ]
  },
  {
   "attachments": {
    "66315bba-73dc-4eca-af6f-f05d058f958e.png": {
     "image/png": "[encoded data removed]"
    }
   },
   "cell_type": "markdown",
   "id": "4f237f09-8e0a-484b-854e-507ed62a1c07",
   "metadata": {},
   "source": [
    "![image.png](attachment:66315bba-73dc-4eca-af6f-f05d058f958e.png)"
   ]
  },
  {
   "cell_type": "code",
   "execution_count": null,
   "id": "779ba6ce-f3a5-48e4-bec1-da6a550c4f2e",
   "metadata": {},
   "outputs": [],
   "source": [
    "# Empfohlene thermal_char-Werte je nach Energieklasse\n",
    "energy_class_to_thermal = {\n",
    "    'A+': 25,\n",
    "    'A': 40,\n",
    "    'B': 62.5,\n",
    "    'C': 87.5,\n",
    "    'D': 115,\n",
    "    'E': 145,\n",
    "    'F': 180,\n",
    "    'G': 225,\n",
    "    'H': 275\n",
    "}\n",
    "\n",
    "# Füllen die Zeilen mit fehlendem Thermal_Char mit den entsprechenden Werten in der Energieeffizienzklasse\n",
    "for cls, val in energy_class_to_thermal.items():\n",
    "    mask = (df[\"thermal_char\"].isna()) & (df[\"energy_efficiency_class\"] == cls)\n",
    "    df.loc[mask, \"thermal_char\"] = val\n"
   ]
  },
  {
   "cell_type": "code",
   "execution_count": null,
   "id": "0dc52138-7c80-4391-9e86-ab6e7ef4f135",
   "metadata": {},
   "outputs": [],
   "source": [
    "# Verwenden wir den Median, um fehlende Thermalzeichen auszufüllen\n",
    "thermal_medians = df.groupby(['regio_2', pd.cut(df['living_space'], bins=5)])['thermal_char'].median()\n",
    "# Teilen wir den Wohnraum in Kategorien ein\n",
    "df['living_space_bin'] = pd.cut(df['living_space'], bins=5)\n",
    "\n",
    "def fill_thermal(row):\n",
    "    if pd.isna(row['thermal_char']):\n",
    "        return thermal_medians.get((row['regio_2'], row['living_space_bin']), np.nan)\n",
    "    else:\n",
    "        return row['thermal_char']\n",
    "\n",
    "df['thermal_char'] = df.apply(fill_thermal, axis=1)"
   ]
  },
  {
   "cell_type": "code",
   "execution_count": null,
   "id": "1eb676ba-d208-4dbd-9ed5-09a1e2baa630",
   "metadata": {},
   "outputs": [],
   "source": [
    "# Region bazlı median hesapla\n",
    "region_medians = df.groupby('regio_2')['thermal_char'].median()\n",
    "\n",
    "# Eksik thermal_char olanları sadece region_combo bazlı doldur\n",
    "df.loc[df['thermal_char'].isna(), 'thermal_char'] = df.loc[df['thermal_char'].isna(), 'regio_2'].map(region_medians)"
   ]
  },
  {
   "cell_type": "code",
   "execution_count": null,
   "id": "d76588bd-ccc3-49cb-af8d-e72695ef1d84",
   "metadata": {},
   "outputs": [],
   "source": [
    "df['thermal_char'].isna().sum()"
   ]
  },
  {
   "cell_type": "markdown",
   "id": "876023bd-e47f-426f-8ce7-5f4125d08ff2",
   "metadata": {},
   "source": [
    "### 1.5.14. energy_efficiency_class"
   ]
  },
  {
   "cell_type": "code",
   "execution_count": null,
   "id": "c74a59b1-7a3e-409b-adc6-8f5f5d7973f4",
   "metadata": {},
   "outputs": [],
   "source": [
    "first_looking(\"energy_efficiency_class\")"
   ]
  },
  {
   "cell_type": "code",
   "execution_count": null,
   "id": "69590ace-5cdf-4233-a443-a3223332e285",
   "metadata": {},
   "outputs": [],
   "source": [
    "plot_categorical_distributions(df, 'energy_efficiency_class')"
   ]
  },
  {
   "cell_type": "code",
   "execution_count": null,
   "id": "7f92e4fd-d522-49b7-9522-347bbcc83344",
   "metadata": {},
   "outputs": [],
   "source": [
    "def map_energy_class(value):\n",
    "    if pd.isna(value):\n",
    "        return np.nan\n",
    "    elif value < 30:\n",
    "        return 'A_PLUS'\n",
    "    elif value < 50:\n",
    "        return 'A'\n",
    "    elif value < 75:\n",
    "        return 'B'\n",
    "    elif value < 100:\n",
    "        return 'C'\n",
    "    elif value < 130:\n",
    "        return 'D'\n",
    "    elif value < 160:\n",
    "        return 'E'\n",
    "    elif value < 200:\n",
    "        return 'F'\n",
    "    elif value < 250:\n",
    "        return 'G'\n",
    "    else:\n",
    "        return 'H'\n",
    "\n",
    "mask = df['energy_efficiency_class'].isna() & df['thermal_char'].notna()\n",
    "df.loc[mask, 'energy_efficiency_class'] = df.loc[mask, 'thermal_char'].apply(map_energy_class)"
   ]
  },
  {
   "cell_type": "code",
   "execution_count": null,
   "id": "43ff815f-e712-4349-90d0-3a0b55476dd4",
   "metadata": {},
   "outputs": [],
   "source": [
    "df['energy_efficiency_class'].isna().sum()"
   ]
  },
  {
   "cell_type": "markdown",
   "id": "79f6315d-a857-43a8-9a15-2b88f9632358",
   "metadata": {},
   "source": [
    "### 1.5.15. last_refurbish"
   ]
  },
  {
   "cell_type": "code",
   "execution_count": null,
   "id": "800d4a3f-cbfd-4457-8c01-587839966abb",
   "metadata": {},
   "outputs": [],
   "source": [
    "first_looking(\"last_refurbish\")"
   ]
  },
  {
   "cell_type": "code",
   "execution_count": null,
   "id": "bc1b59a5-dacf-4f32-8134-eb8f0a9f9307",
   "metadata": {},
   "outputs": [],
   "source": [
    "# Datentyp ändern\n",
    "df['last_refurbish'] = df['last_refurbish'].astype('Int64')"
   ]
  },
  {
   "cell_type": "code",
   "execution_count": null,
   "id": "249e212b-e454-4444-bc0e-7af7f30e6ce3",
   "metadata": {},
   "outputs": [],
   "source": [
    "def extract_refurbish_year(text):\n",
    "    if pd.isna(text):\n",
    "        return None\n",
    "    # Regex: 19xx oder 20xx nach typischen Stichwörtern\n",
    "    match = re.search(r'(renoviert|saniert|modernisiert)[^\\d]*(19|20)\\d{2}', text.lower())\n",
    "    if match:\n",
    "        return int(re.search(r'(19|20)\\d{2}', match.group()).group())\n",
    "    return None\n",
    "\n",
    "# Beschreibung und Ausstattungen kombinieren\n",
    "df['combined_text'] = df[['description', 'facilities']].fillna('').agg(' '.join, axis=1)\n",
    "\n",
    "# Jahr extrahieren\n",
    "df['refurbish_from_text'] = df['combined_text'].apply(extract_refurbish_year)\n",
    "\n",
    "# Leere refurbish-Felder mit extrahierten Werten auffüllen\n",
    "df['last_refurbish'] = df['last_refurbish'].combine_first(df['refurbish_from_text'])\n"
   ]
  },
  {
   "cell_type": "code",
   "execution_count": null,
   "id": "8c2e7f71-e8a2-4e6f-af63-d488df082d43",
   "metadata": {},
   "outputs": [],
   "source": [
    "df['last_refurbish'].isna().sum()"
   ]
  },
  {
   "cell_type": "code",
   "execution_count": null,
   "id": "2149dfad-a2ec-4bec-be78-ace7d2bf2c12",
   "metadata": {},
   "outputs": [],
   "source": [
    "# Kategorisierung nach Jahr\n",
    "def refurbish_category(year):\n",
    "    if pd.isna(year):\n",
    "        return 'unknown'\n",
    "    elif year >= 2015:\n",
    "        return 'new'\n",
    "    elif year >= 2000:\n",
    "        return 'moderate'\n",
    "    elif year >= 1980:\n",
    "        return 'old'\n",
    "    else:\n",
    "        return 'very_old'\n",
    "\n",
    "df['refurbish_category'] = df['last_refurbish'].apply(refurbish_category)\n"
   ]
  },
  {
   "cell_type": "code",
   "execution_count": null,
   "id": "1e9a2dd7-41e7-425a-ae2e-a5e9f366c010",
   "metadata": {},
   "outputs": [],
   "source": [
    "df['refurbish_category'].value_counts()"
   ]
  },
  {
   "cell_type": "code",
   "execution_count": null,
   "id": "832e2cf5-a190-47b7-a240-b9fc84aedfb7",
   "metadata": {},
   "outputs": [],
   "source": [
    "df.loc[\n",
    "    (df['refurbish_category'] == 'unknown') & (df['newly_const'] == True),\n",
    "    'refurbish_category'\n",
    "] = 'new'"
   ]
  },
  {
   "cell_type": "code",
   "execution_count": null,
   "id": "ebc56627-6b1f-44d9-8601-6d677c1edf31",
   "metadata": {},
   "outputs": [],
   "source": [
    "df.loc[\n",
    "    (df['refurbish_category'] == 'unknown') & (df['year_constructed'] >= 2010),\n",
    "    'refurbish_category'\n",
    "] = 'new'"
   ]
  },
  {
   "cell_type": "code",
   "execution_count": null,
   "id": "8370d510-5a37-4114-93b4-f30831d9010c",
   "metadata": {},
   "outputs": [],
   "source": [
    "df['refurbish_category'].value_counts()"
   ]
  },
  {
   "cell_type": "code",
   "execution_count": null,
   "id": "e83481dd-663a-4e9e-b233-35e02486d503",
   "metadata": {},
   "outputs": [],
   "source": [
    "plot_categorical_distributions(df, 'refurbish_category')"
   ]
  },
  {
   "cell_type": "markdown",
   "id": "892ee0ca-851a-45f2-b474-565afe268509",
   "metadata": {},
   "source": [
    "## 1.5.16. firing_types"
   ]
  },
  {
   "cell_type": "code",
   "execution_count": null,
   "id": "18ce553e-7151-4646-93f9-c4d33f2caf95",
   "metadata": {
    "scrolled": true
   },
   "outputs": [],
   "source": [
    "first_looking(\"firing_types\")"
   ]
  },
  {
   "cell_type": "code",
   "execution_count": null,
   "id": "9a539a8f-aa8f-416e-844f-4ea6e2f93bce",
   "metadata": {},
   "outputs": [],
   "source": [
    "df['firing_types'].value_counts().index.tolist()"
   ]
  },
  {
   "cell_type": "code",
   "execution_count": null,
   "id": "c5bdce9a-9555-4168-9559-de036a3ceb98",
   "metadata": {},
   "outputs": [],
   "source": [
    "def categorize_firing_type(value):\n",
    "    if pd.isna(value):\n",
    "        return 'no_information'\n",
    "    value = value.lower()\n",
    "    \n",
    "    if value == 'district_heating':\n",
    "        return 'district_heating'\n",
    "    \n",
    "    if 'district_heating' in value and ':' in value:\n",
    "        parts = value.split(':')\n",
    "        for part in parts:\n",
    "            if part != 'district_heating':\n",
    "                value = part\n",
    "                break\n",
    "    \n",
    "    renewable_keywords = ['pellet', 'geothermal', 'bio_energy', 'wind_energy', \n",
    "                          'hydro_energy', 'environmental_thermal_energy', 'wood', 'wood_chips',\n",
    "                          'combined_heat_and_power_renewable_energy', 'combined_heat_and_power_bio_energy']\n",
    "    if any(keyword in value for keyword in renewable_keywords):\n",
    "        return 'renewable_energy'\n",
    "    \n",
    "    if 'solar_heating' in value:\n",
    "        return 'solar_heating'\n",
    "    \n",
    "    if 'gas' in value:\n",
    "        return 'gas'\n",
    "    if 'electricity' in value:\n",
    "        return 'electricity'\n",
    "    if 'oil' in value:\n",
    "        return 'oil'\n",
    "    \n",
    "    fossil_fuel_keywords = ['combined_heat_and_power_fossil_fuels', 'coal', 'coal_coke']\n",
    "    if any(keyword in value for keyword in fossil_fuel_keywords):\n",
    "        return 'fossil_fuels'\n",
    "    \n",
    "    # Diğer tüm durumlar 'other'\n",
    "    return 'other'\n",
    "\n",
    "df['firing_types_simplified'] = df['firing_types'].apply(categorize_firing_type)\n",
    "df['firing_types_simplified'].fillna('no_information', inplace=True)\n",
    "\n",
    "print(df['firing_types_simplified'].value_counts())\n"
   ]
  },
  {
   "cell_type": "code",
   "execution_count": null,
   "id": "cac11eb6-9474-4869-86d1-62142a821ede",
   "metadata": {},
   "outputs": [],
   "source": [
    "patterns = {\n",
    "    'gas': ['gas'],\n",
    "    'district_heating': ['district heating', 'fernwärme'],  # district heating için Almanca da ekledim\n",
    "    'oil': ['oil', 'öl'],\n",
    "    'renewable_energy': ['pellet', 'geothermal', 'bio energy', 'wind', 'hydro', 'environmental thermal', 'wood'],\n",
    "    'electricity': ['electricity', 'strom'],\n",
    "    'fossil_fuels': ['coal', 'coal coke', 'combined heat and power fossil fuels', 'fossil fuels'],\n",
    "    'solar_heating': ['solar heating', 'solar'],\n",
    "}\n",
    "\n",
    "def assign_category_from_description(row):\n",
    "    if row['firing_types_simplified'] != 'no_information':\n",
    "        return row['firing_types_simplified']\n",
    "    \n",
    "    desc = str(row['description']).lower()\n",
    "    for category, keys in patterns.items():\n",
    "        for key in keys:\n",
    "            if re.search(r'\\b' + re.escape(key) + r'\\b', desc):\n",
    "                return category\n",
    "    return 'no_information'\n",
    "\n",
    "df['firing_types_simplified'] = df.apply(assign_category_from_description, axis=1)\n",
    "\n",
    "print(df['firing_types_simplified'].value_counts())"
   ]
  },
  {
   "cell_type": "code",
   "execution_count": null,
   "id": "3b79e3ea-153c-4241-9e08-415e5ad777a2",
   "metadata": {},
   "outputs": [],
   "source": [
    "plot_categorical_distributions(df, 'firing_types_simplified')"
   ]
  },
  {
   "cell_type": "markdown",
   "id": "94babe88-2f23-4c3d-ba43-5b6ea9016d7f",
   "metadata": {},
   "source": [
    "### 1.5.17. heating_type_cleaned"
   ]
  },
  {
   "cell_type": "code",
   "execution_count": null,
   "id": "6a5992d6-e6a2-4b6a-b3f3-ef276fe6a38a",
   "metadata": {},
   "outputs": [],
   "source": [
    "first_looking(\"heating_type_cleaned\")"
   ]
  },
  {
   "cell_type": "code",
   "execution_count": null,
   "id": "d97bc409-772b-437f-a2ab-c7bc87d88d7e",
   "metadata": {},
   "outputs": [],
   "source": [
    "def fill_heating_type(row):\n",
    "    if pd.notna(row['heating_type_cleaned']):\n",
    "        return row['heating_type_cleaned']\n",
    "    \n",
    "    # basierend auf firing_types_simplified\n",
    "    category = row['firing_types_simplified']\n",
    "    \n",
    "    if category == 'district_heating':\n",
    "        return 'district_heating'\n",
    "    elif category == 'gas':\n",
    "        return 'gas_heating'\n",
    "    elif category == 'oil':\n",
    "        return 'oil_heating'\n",
    "    elif category == 'electricity':\n",
    "        return 'central_heating'  \n",
    "    elif category == 'renewable_energy':\n",
    "        return 'heat_pump' \n",
    "    else:\n",
    "        return np.nan  \n",
    "\n",
    "df['heating_type_cleaned'] = df.apply(fill_heating_type, axis=1)"
   ]
  },
  {
   "cell_type": "code",
   "execution_count": null,
   "id": "3eb70580-02d0-45e3-af13-349628d1c032",
   "metadata": {},
   "outputs": [],
   "source": [
    "df['heating_type_cleaned'].value_counts(dropna=False)"
   ]
  },
  {
   "cell_type": "code",
   "execution_count": null,
   "id": "5ba2ab58-5911-4586-9b58-89dbd01f0db1",
   "metadata": {},
   "outputs": [],
   "source": [
    "df.loc[\n",
    "    (df['heating_type_cleaned'].isna()) & (df['newly_const'] == True),\n",
    "    'heating_type_cleaned'\n",
    "] = 'heat_pump'"
   ]
  },
  {
   "cell_type": "code",
   "execution_count": null,
   "id": "5696389b",
   "metadata": {},
   "outputs": [],
   "source": [
    "df['heating_type_cleaned'].value_counts(dropna=False)"
   ]
  },
  {
   "cell_type": "code",
   "execution_count": null,
   "id": "37a9456a-c2e5-48c1-b9f4-dabdcb934670",
   "metadata": {},
   "outputs": [],
   "source": [
    "df.loc[\n",
    "    (df['heating_type_cleaned'].isna()) &\n",
    "    (df['year_category'].isin(['very_old', 'old', 'historical'])),\n",
    "    'heating_type_cleaned'\n",
    "] = 'oil_heating'\n",
    "\n",
    "# Moderate olanlara gas_heating\n",
    "df.loc[\n",
    "    (df['heating_type_cleaned'].isna()) &\n",
    "    (df['year_category'] == 'moderate'),\n",
    "    'heating_type_cleaned'\n",
    "] = 'gas_heating'\n",
    "\n",
    "# New veya very_new olanlara heat_pump\n",
    "df.loc[\n",
    "    (df['heating_type_cleaned'].isna()) &\n",
    "    (df['year_category'].isin(['new', 'very_new'])),\n",
    "    'heating_type_cleaned'\n",
    "] = 'heat_pump'"
   ]
  },
  {
   "cell_type": "code",
   "execution_count": null,
   "id": "97a750e9",
   "metadata": {},
   "outputs": [],
   "source": [
    "df['heating_type_cleaned'].value_counts(dropna=False)"
   ]
  },
  {
   "cell_type": "code",
   "execution_count": null,
   "id": "d33c543e-d878-4b00-995f-8abe6de74ba4",
   "metadata": {},
   "outputs": [],
   "source": [
    "df['heating_type_cleaned'].fillna('other_heating', inplace=True)"
   ]
  },
  {
   "cell_type": "code",
   "execution_count": null,
   "id": "b61e3dc6-8eb2-465f-a6d8-7e421e74c6de",
   "metadata": {},
   "outputs": [],
   "source": [
    "plot_categorical_distributions(df, 'heating_type_cleaned')"
   ]
  },
  {
   "cell_type": "markdown",
   "id": "a89bc80e-d77d-4c1f-8d27-7a466c96356e",
   "metadata": {},
   "source": [
    "### 1.5.18. description"
   ]
  },
  {
   "cell_type": "code",
   "execution_count": null,
   "id": "286e7265-07c7-40fb-a470-5cd03d09982b",
   "metadata": {},
   "outputs": [],
   "source": [
    "first_looking(\"description\")"
   ]
  },
  {
   "cell_type": "code",
   "execution_count": null,
   "id": "34c9d078-5806-40ea-ba4e-b7060001cc91",
   "metadata": {},
   "outputs": [],
   "source": [
    "# Fehlende Werte in der Spalte 'description' mit 'no_description' ersetzen\n",
    "df['description'].fillna('no_description', inplace=True)"
   ]
  },
  {
   "cell_type": "markdown",
   "id": "20d810cc-0a57-458e-a396-772237a28c53",
   "metadata": {},
   "source": [
    "### 1.5.19. facilities"
   ]
  },
  {
   "cell_type": "code",
   "execution_count": null,
   "id": "12468c13-e9ad-4558-b05e-b8afdfec994d",
   "metadata": {},
   "outputs": [],
   "source": [
    "first_looking(\"facilities\")"
   ]
  },
  {
   "cell_type": "code",
   "execution_count": null,
   "id": "f6e5a1af-e5dc-406b-95a3-8a97e3f89e69",
   "metadata": {},
   "outputs": [],
   "source": [
    "# Fehlende Werte in der Spalte 'facilities' mit 'no_information' ersetzen\n",
    "df['facilities'].fillna('no_information', inplace=True)"
   ]
  },
  {
   "cell_type": "markdown",
   "id": "8ddb9db5-0c50-46ab-bcc8-7870484fdb69",
   "metadata": {},
   "source": [
    "# 2. Abschluss und Auswertung"
   ]
  },
  {
   "cell_type": "markdown",
   "id": "eb2edc91-47b5-4923-a389-f6e5093c823e",
   "metadata": {},
   "source": [
    "**💡 Zusammenfassung der Datenbereinigung und Handhabung der fehlenden Werten:**\n",
    "\n",
    "✔️ In diesem Schritt der Datenvorverarbeitung wurden folgende Maßnahmen durchgeführt:\n",
    "\n",
    "✔️ Fehlende Werte wurden analysiert und – sofern sinnvoll – imputiert oder bereinigt.\n",
    "\n",
    "✔️ Nicht relevante oder redundant fehlende Spalten wurden entfernt, um die Datenstruktur zu vereinfachen.\n",
    "\n",
    "✔️ Die Spaltennamen wurden einheitlich, leserlich und modellfreundlich umbenannt.\n",
    "\n",
    "✔️ Es erfolgte eine klare Unterscheidung und Verarbeitung von kategorialen und numerischen Variablen.\n",
    "\n",
    "✔️ Neue Merkmale (Features) wurden erstellt, z. B. condition_grouped, year_category oder upload_speed_category.\n",
    "\n",
    "\n",
    "📌 Hinweis: Die Analyse und Bereinigung von Ausreißern (Ausreißerbehandlung) wird in Notebook 3 separat behandelt.\n",
    "\n",
    "Der Datensatz ist damit für die nächste Phase der Modellierung vorbereitet – einschließlich Feature-Selection, Visualisierung und Modelltraining."
   ]
  },
  {
   "cell_type": "code",
   "execution_count": null,
   "id": "b6a86f90-fbe7-47e1-b052-87f79e89bd47",
   "metadata": {},
   "outputs": [],
   "source": [
    "df.drop(columns=[\"year_constructed\", \"refurbish_from_text\", \"combined_text\", \"last_refurbish\", \"living_space_bin\", \"firing_types\", \"street_plain\", \"date_parsed\"], inplace=True)"
   ]
  },
  {
   "cell_type": "code",
   "execution_count": null,
   "id": "4c6fcd44-7330-4c49-b0f2-453480692237",
   "metadata": {},
   "outputs": [],
   "source": [
    "df.shape"
   ]
  },
  {
   "cell_type": "code",
   "execution_count": null,
   "id": "fbf76c42-6d2f-4fd8-bec0-1ec0345b81b7",
   "metadata": {},
   "outputs": [],
   "source": [
    "df.info()"
   ]
  },
  {
   "cell_type": "code",
   "execution_count": null,
   "id": "471ebf1d-6429-4a4e-aa75-c74a05c80f79",
   "metadata": {},
   "outputs": [],
   "source": [
    "df.isna().sum()"
   ]
  },
  {
   "cell_type": "code",
   "execution_count": null,
   "id": "65e35a0d-efbc-4a4a-9b97-e2da2e914623",
   "metadata": {},
   "outputs": [],
   "source": [
    "df.duplicated(keep=False).sum()"
   ]
  },
  {
   "cell_type": "code",
   "execution_count": null,
   "id": "12212a55-f10a-4982-8620-30d5272522bd",
   "metadata": {},
   "outputs": [],
   "source": [
    "df = df.drop_duplicates()"
   ]
  },
  {
   "cell_type": "code",
   "execution_count": null,
   "id": "9679d0e1-12b1-44c6-ad59-6729fbf4b732",
   "metadata": {},
   "outputs": [],
   "source": [
    "class color:\n",
    "    PURPLE = '\\033[95m'\n",
    "    CYAN = '\\033[96m'\n",
    "    DARKCYAN = '\\033[36m'\n",
    "    BLUE = '\\033[94m'\n",
    "    GREEN = '\\033[92m'\n",
    "    YELLOW = '\\033[93m'\n",
    "    RED = '\\033[91m'\n",
    "    BOLD = '\\033[1m'\n",
    "    UNDERLINE = '\\033[4m'\n",
    "    END = '\\033[0m'\n",
    "\n",
    "def check_obj_columns(df):\n",
    "    '''\n",
    "    Returns NO PROBLEM or column/s which has/have mixed object types.\n",
    "    '''    \n",
    "    \n",
    "    tdf = df.select_dtypes(include=['object']).applymap(type)\n",
    "    for col in tdf:\n",
    "        if len(set(tdf[col].values)) > 1:\n",
    "            print(\"Column\" + \" \" + color.BOLD + color.RED + col + color.END + \" \" + \"has mixed object types.\" )\n",
    "    else:\n",
    "        if len(set(tdf[col].values)) == 1:\n",
    "            print(color.BOLD + color.GREEN + \" \" + \"NO PROBLEM\" + \" \" + color.END + \" \" + \"with the data types of Columns in the DataFrame.\")\n",
    "\n",
    "check_obj_columns(df)"
   ]
  },
  {
   "cell_type": "code",
   "execution_count": null,
   "id": "7acd9415-c888-4a99-8945-315a192b5d70",
   "metadata": {},
   "outputs": [],
   "source": [
    "df.to_csv('filling_immo_data.csv', index=False)"
   ]
  },
  {
   "cell_type": "markdown",
   "id": "f9596e58-8079-417d-aa7b-9871385b9045",
   "metadata": {},
   "source": [
    "<a id=\"10\"></a>\n",
    "\n",
    "## <p style=\"background-color:#FDFEFE; font-family:newtimeroman; color:#9d4f8c; font-size:150%; text-align:center; border-radius:10px 10px;\">Das Ende der Handhabung fehlender Werte (Teil 02)</p>"
   ]
  },
  {
   "cell_type": "code",
   "execution_count": null,
   "id": "cd258dbd-a770-4696-9765-af8ad8698f29",
   "metadata": {},
   "outputs": [],
   "source": []
  }
 ],
 "metadata": {
  "kernelspec": {
   "display_name": "Python 3 (ipykernel)",
   "language": "python",
   "name": "python3"
  },
  "language_info": {
   "codemirror_mode": {
    "name": "ipython",
    "version": 3
   },
   "file_extension": ".py",
   "mimetype": "text/x-python",
   "name": "python",
   "nbconvert_exporter": "python",
   "pygments_lexer": "ipython3",
   "version": "3.11.12"
  }
 },
 "nbformat": 4,
 "nbformat_minor": 5
}
