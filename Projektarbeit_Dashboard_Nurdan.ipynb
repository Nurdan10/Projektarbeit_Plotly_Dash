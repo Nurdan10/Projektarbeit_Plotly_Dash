{
 "cells": [
  {
   "cell_type": "markdown",
   "id": "3a71ecd5-d38a-4935-ac7a-74df135f3d18",
   "metadata": {},
   "source": [
    "<p float=\"left\">\n",
    "  <img src=\"immo_scout24.png\" width=\"400\" />\n",
    "  <img src=\"immo.png\" width=\"400\" />\n",
    "</p>"
   ]
  },
  {
   "cell_type": "markdown",
   "id": "2c760c2a-809a-4ef9-91db-30369913562f",
   "metadata": {},
   "source": [
    "###### <center><h1>PROJEKTARBEIT</h1></center>\n",
    "### <center><h2>ANALYSE des IMMOSCOUT-DATENSATZES</h2></center>\n",
    "#### <center><h3>Mietanalyse Dashboard (Deutschland)</h3></center>"
   ]
  },
  {
   "cell_type": "code",
   "execution_count": 1,
   "id": "7ece4e27-4394-4057-800e-24f1a2d5d389",
   "metadata": {},
   "outputs": [
    {
     "ename": "ModuleNotFoundError",
     "evalue": "No module named 'dash'",
     "output_type": "error",
     "traceback": [
      "\u001b[31m---------------------------------------------------------------------------\u001b[39m",
      "\u001b[31mModuleNotFoundError\u001b[39m                       Traceback (most recent call last)",
      "\u001b[36mCell\u001b[39m\u001b[36m \u001b[39m\u001b[32mIn[1]\u001b[39m\u001b[32m, line 1\u001b[39m\n\u001b[32m----> \u001b[39m\u001b[32m1\u001b[39m \u001b[38;5;28;01mimport\u001b[39;00m\u001b[38;5;250m \u001b[39m\u001b[34;01mdash\u001b[39;00m\n\u001b[32m      2\u001b[39m \u001b[38;5;28;01mfrom\u001b[39;00m\u001b[38;5;250m \u001b[39m\u001b[34;01mdash\u001b[39;00m\u001b[38;5;250m \u001b[39m\u001b[38;5;28;01mimport\u001b[39;00m dcc, html, Input, Output\n\u001b[32m      3\u001b[39m \u001b[38;5;28;01mimport\u001b[39;00m\u001b[38;5;250m \u001b[39m\u001b[34;01mplotly\u001b[39;00m\u001b[34;01m.\u001b[39;00m\u001b[34;01mexpress\u001b[39;00m\u001b[38;5;250m \u001b[39m\u001b[38;5;28;01mas\u001b[39;00m\u001b[38;5;250m \u001b[39m\u001b[34;01mpx\u001b[39;00m\n",
      "\u001b[31mModuleNotFoundError\u001b[39m: No module named 'dash'"
     ]
    }
   ],
   "source": [
    "import dash\n",
    "from dash import dcc, html, Input, Output\n",
    "import plotly.express as px\n",
    "import pandas as pd\n",
    "import json\n",
    "\n",
    "df = pd.read_csv('full_immo_data.csv')"
   ]
  },
  {
   "cell_type": "code",
   "execution_count": 4,
   "id": "35c5d7de-1e03-476a-b8be-5d510979a243",
   "metadata": {},
   "outputs": [
    {
     "data": {
      "text/plain": [
       "0    44269\n",
       "1    67459\n",
       "2     1097\n",
       "3     9599\n",
       "4    28213\n",
       "Name: geo_plz, dtype: int64"
      ]
     },
     "execution_count": 4,
     "metadata": {},
     "output_type": "execute_result"
    }
   ],
   "source": [
    "df['geo_plz'].head()"
   ]
  },
  {
   "cell_type": "code",
   "execution_count": 6,
   "id": "5d0e0c2c-56ca-48e7-8809-b8a429e3864a",
   "metadata": {},
   "outputs": [],
   "source": [
    "with open('georef-germany-postleitzahl.geojson', 'r') as f:\n",
    "    geojson_data = json.load(f)"
   ]
  },
  {
   "cell_type": "code",
   "execution_count": 7,
   "id": "7b9ba47d-85dd-4424-a963-eaab6cb66c36",
   "metadata": {},
   "outputs": [
    {
     "name": "stdout",
     "output_type": "stream",
     "text": [
      "{'name': '47551', 'plz_name': 'Bedburg-Hau', 'plz_name_long': '47551 Bedburg-Hau', 'plz_code': '47551', 'krs_code': '05154', 'lan_name': 'Nordrhein-Westfalen', 'lan_code': '05', 'krs_name': 'Kreis Kleve', 'geo_point_2d': {'lon': 6.20695861505, 'lat': 51.7581345416}}\n"
     ]
    }
   ],
   "source": [
    "print(geojson_data['features'][0]['properties'])\n"
   ]
  },
  {
   "cell_type": "code",
   "execution_count": 8,
   "id": "fff8b68f-08bb-480d-883b-9941b09524fc",
   "metadata": {},
   "outputs": [
    {
     "data": {
      "text/html": [
       "\n",
       "        <iframe\n",
       "            width=\"100%\"\n",
       "            height=\"650\"\n",
       "            src=\"http://127.0.0.1:8050/\"\n",
       "            frameborder=\"0\"\n",
       "            allowfullscreen\n",
       "            \n",
       "        ></iframe>\n",
       "        "
      ],
      "text/plain": [
       "<IPython.lib.display.IFrame at 0x1a40c5166d0>"
      ]
     },
     "metadata": {},
     "output_type": "display_data"
    }
   ],
   "source": [
    "import dash\n",
    "from dash import dcc, html, Input, Output\n",
    "import plotly.express as px\n",
    "import pandas as pd\n",
    "import json\n",
    "\n",
    "\n",
    "df = pd.read_csv('full_immo_data.csv')\n",
    "df['plz_str'] = df['geo_plz'].astype(str)  \n",
    "\n",
    "with open('georef-germany-postleitzahl.geojson', 'r') as f:\n",
    "    geojson_data = json.load(f)\n",
    "\n",
    "plz_stadt = []\n",
    "for feature in geojson_data['features']:\n",
    "    plz = feature['properties']['plz_code']\n",
    "    stadt = feature['properties']['plz_name']\n",
    "    land = feature['properties']['lan_name']  # ✅ eyalet\n",
    "    plz_stadt.append({'plz_code': plz, 'city_name': stadt, 'lan_name': land})\n",
    "\n",
    "plz_stadt_df = pd.DataFrame(plz_stadt)\n",
    "plz_stadt_df['plz_code'] = plz_stadt_df['plz_code'].astype(str).str.zfill(5)\n",
    "\n",
    "df_map = df.groupby('plz_str')['base_rent'].mean().reset_index()\n",
    "df_map['plz_str'] = df_map['plz_str'].str.zfill(5)\n",
    "\n",
    "df_map = pd.merge(df_map, plz_stadt_df, left_on='plz_str', right_on='plz_code', how='left')\n",
    "\n",
    "\n",
    "# 📌 Erstellen Dash App\n",
    "app = dash.Dash(__name__)\n",
    "server = app.server\n",
    "\n",
    "# 🧮 Spalten\n",
    "categorical_cols = [\n",
    "    'regio_1', 'type_of_flat', 'heating_type_cleaned', 'telekom_tv_offer', 'interior_qual', 'pets_allowed', \n",
    "    'type_of_flat', 'upload_speed_category',  'firing_types_simplified', 'condition_grouped', 'refurbish_category', 'year_category'\n",
    "]\n",
    "numeric_cols = [\n",
    "    'base_rent', 'total_rent', 'living_space', 'no_rooms_cleaned', 'floor',\n",
    "    'no_park_spaces_cleaned', 'thermal_char', 'heating_costs', 'service_charge'\n",
    "]   \n",
    "\n",
    "\n",
    "# Dashboard Layout\n",
    "app.layout = html.Div([\n",
    "    html.H1('🏡 Mietanalyse Dashboard (Deutschland)', style={'textAlign': 'center'}),\n",
    "\n",
    "    dcc.Tabs([\n",
    "        dcc.Tab(label='Übersicht', children=[\n",
    "            html.Div([\n",
    "                html.H3('📊 Durchschnittswerte'),\n",
    "                html.P(f\"Durchschnittliche Kaltmiete: {df['base_rent'].mean():.2f} €\"),\n",
    "                html.P(f\"Durchschnittliche Gesamtmiete: {df['total_rent'].mean():.2f} €\"),\n",
    "                html.P(f\"Median der Kaltmiete: {df['base_rent'].median():.2f} €\"),\n",
    "                html.P(f\"Durchschnittliche Wohnfläche: {df['living_space'].mean():.2f} m²\")\n",
    "            ], style={'padding': '20px'})\n",
    "        ]),\n",
    "\n",
    "        dcc.Tab(label='Regionale Verteilung (Treemap)', children=[\n",
    "            html.Div([\n",
    "                html.H4('Treemap der Regionen'),\n",
    "                dcc.Graph(\n",
    "                    id='treemap-plot',\n",
    "                    figure=px.treemap(df, path=['regio_1', 'regio_2', 'region_combo'],\n",
    "                                  #color='base_rent', color_continuous_scale='Viridis',\n",
    "                                  title=\"Verteilung der Daten nach Region (Treemap)\")\n",
    "                )\n",
    "            ], style={'padding': '20px'})\n",
    "        ]),\n",
    "\n",
    "        dcc.Tab(label='Kategorische Analyse', children=[\n",
    "            html.Div([\n",
    "                html.Label('Wähle eine kategorische Variable:'),\n",
    "                dcc.Dropdown(id='cat-col', options=[{'label': col, 'value': col} for col in categorical_cols],\n",
    "                             value='type_of_flat'),\n",
    "                dcc.Graph(id='cat-barplot')\n",
    "            ], style={'padding': '20px'})\n",
    "        ]),\n",
    "\n",
    "        dcc.Tab(label='Numerische Analyse', children=[\n",
    "            html.Div([\n",
    "                html.Label('Wähle eine numerische Variable:'),\n",
    "                dcc.Dropdown(id='num-col', options=[{'label': col, 'value': col} for col in numeric_cols],\n",
    "                             value='living_space'),\n",
    "                dcc.Graph(id='num-histplot')\n",
    "            ], style={'padding': '20px'})\n",
    "        ]),\n",
    "\n",
    "        dcc.Tab(label='Korrelation', children=[\n",
    "            html.Div([\n",
    "                html.Label('X-Achse (numerisch):'),\n",
    "                dcc.Dropdown(id='x-col', options=[{'label': col, 'value': col} for col in numeric_cols],\n",
    "                             value='living_space'),\n",
    "\n",
    "                html.Label('Y-Achse (numerisch):'),\n",
    "                dcc.Dropdown(id='y-col', options=[{'label': col, 'value': col} for col in numeric_cols],\n",
    "                             value='base_rent'),\n",
    "\n",
    "                dcc.Graph(id='scatterplot')\n",
    "            ], style={'padding': '20px'})\n",
    "        ]),\n",
    "\n",
    "        dcc.Tab(label='Geografische Karte', children=[\n",
    "            html.Div([\n",
    "                dcc.Graph(id='map-plot')  \n",
    "            ], style={'padding': '20px'})\n",
    "        ])\n",
    "    ])\n",
    "])\n",
    "  \n",
    "\n",
    "# 🎯 Callbacks\n",
    "@app.callback(\n",
    "    Output('cat-barplot', 'figure'),\n",
    "    Input('cat-col', 'value')\n",
    ")\n",
    "def update_cat_plot(col):\n",
    "    df_grouped = df.groupby(col)['base_rent'].mean().reset_index()\n",
    "    df_grouped = df_grouped.sort_values(by='base_rent', ascending=False)\n",
    "\n",
    "    fig = px.bar(df_grouped,\n",
    "                 x=col, y='base_rent',\n",
    "                 color='base_rent',\n",
    "                 title=f'Durchschnittliche Miete nach {col}',\n",
    "                 color_continuous_scale='Viridis_r')\n",
    "    fig.update_layout(xaxis_tickangle=45)\n",
    "    return fig\n",
    "\n",
    "@app.callback(\n",
    "    Output('num-histplot', 'figure'),\n",
    "    Input('num-col', 'value')\n",
    ")\n",
    "def update_num_plot(col):\n",
    "    fig = px.histogram(df, x=col, nbins=40,\n",
    "                       title=f'Verteilung von {col}',\n",
    "                       color_discrete_sequence=['#636EFA'])\n",
    "    return fig\n",
    "\n",
    "@app.callback(\n",
    "    Output('scatterplot', 'figure'),\n",
    "    [Input('x-col', 'value'), Input('y-col', 'value')]\n",
    ")\n",
    "def update_scatter(x_col, y_col):\n",
    "    fig = px.scatter(df, x=x_col, y=y_col,\n",
    "                     title=f'Zusammenhang: {x_col} vs. {y_col}',\n",
    "                     color='type_of_flat',\n",
    "                     opacity=0.6)\n",
    "    return fig\n",
    "    \n",
    "@app.callback(\n",
    "    Output('map-plot', 'figure'),\n",
    "    Input('cat-col', 'value')  # kullanmıyorsan '_' yap\n",
    ")\n",
    "def update_map_plot(_):\n",
    "    fig = px.choropleth(\n",
    "        df_map,\n",
    "        geojson=geojson_data,\n",
    "        locations='plz_str',\n",
    "        featureidkey='properties.plz_code',\n",
    "        color='base_rent',\n",
    "        hover_data={\n",
    "            'plz_str': True,\n",
    "            'city_name': True,\n",
    "            'lan_name': True, \n",
    "            'base_rent': ':.2f'\n",
    "        },\n",
    "        color_continuous_scale=\"Viridis_r\",\n",
    "        title=\"Durchschnittliche Miete pro PLZ\"\n",
    "    )\n",
    "    fig.update_geos(fitbounds=\"locations\", visible=False)\n",
    "    fig.update_layout(margin={\"r\":0,\"t\":30,\"l\":0,\"b\":0})\n",
    "    return fig\n",
    "\n",
    "\n",
    "\n",
    "# 🔄 Server Start\n",
    "if __name__ == '__main__':\n",
    "    app.run(debug=True)\n",
    "\n"
   ]
  },
  {
   "cell_type": "code",
   "execution_count": null,
   "id": "12773dc0-3833-40ab-812a-00776f17ad71",
   "metadata": {},
   "outputs": [],
   "source": []
  }
 ],
 "metadata": {
  "kernelspec": {
   "display_name": ".venv",
   "language": "python",
   "name": "python3"
  },
  "language_info": {
   "codemirror_mode": {
    "name": "ipython",
    "version": 3
   },
   "file_extension": ".py",
   "mimetype": "text/x-python",
   "name": "python",
   "nbconvert_exporter": "python",
   "pygments_lexer": "ipython3",
   "version": "3.12.0"
  }
 },
 "nbformat": 4,
 "nbformat_minor": 5
}
