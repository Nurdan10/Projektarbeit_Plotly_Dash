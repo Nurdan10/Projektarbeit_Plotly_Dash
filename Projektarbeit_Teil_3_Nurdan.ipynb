{
 "cells": [
  {
   "cell_type": "markdown",
   "id": "57c8a355-216e-4c18-bfcb-0fbad0c8c257",
   "metadata": {},
   "source": [
    "<p float=\"left\">\n",
    "  <img src=\"immo_scout24.png\" width=\"400\" />\n",
    "  <img src=\"immo.png\" width=\"400\" />\n",
    "</p>\n",
    "\n"
   ]
  },
  {
   "cell_type": "markdown",
   "id": "fd24cd70-d0ff-42ae-b51f-e66987b73ca1",
   "metadata": {},
   "source": [
    "###### <center><h1>PROJEKTARBEIT</h1></center>\n",
    "### <center><h2>ANALYSE des IMMOSCOUT-DATENSATZES</h2></center>\n",
    "#### <center><h3>TEIL 3 - UMGANG mit AUSREIßERN</h3></center>"
   ]
  },
  {
   "cell_type": "markdown",
   "id": "fd595bd3-99a2-484e-8032-231167cf2574",
   "metadata": {},
   "source": [
    "**Projektarbeit-Alfatrining / Herr Axel Wemmel**\n",
    "\n",
    "**[Nurdan Cakir]**"
   ]
  },
  {
   "cell_type": "markdown",
   "id": "a76f706a-b1f3-4936-9b50-8cbc43e2da40",
   "metadata": {},
   "source": [
    "<ul style=\"list-style-type: none; padding: 0;\">\n",
    "  <li style=\"background-color:#dfa8e4; padding:10px; margin-bottom:5px; border-radius:6px;\">\n",
    "    <a href=\"#1\" style=\"color:black; text-decoration:none;\">1. Importieren der benötigten Bibliotheken</a>\n",
    "  </li>\n",
    "  <li style=\"background-color:#dfa8e4; padding:10px; margin-bottom:5px; border-radius:6px;\">\n",
    "    <a href=\"#2\" style=\"color:black; text-decoration:none;\">2. Benutzerdefinierte Funktionen zum Entfernen der Ausreißern</a>\n",
    "  </li>\n",
    "  <li style=\"background-color:#dfa8e4; padding:10px; margin-bottom:5px; border-radius:6px;\">\n",
    "    <a href=\"#3\" style=\"color:black; text-decoration:none;\">3. Untersuchungen von Ausreißern in Spalten</a>\n",
    "  </li>\n",
    "  <li style=\"background-color:#dfa8e4; padding:10px; margin-bottom:5px; border-radius:6px;\">\n",
    "    <a href=\"#4\" style=\"color:black; text-decoration:none;\">4. Fazit und Visualisierungen zur Datenanalyse</a>\n",
    "  </li>\n",
    "</ul>"
   ]
  },
  {
   "cell_type": "code",
   "execution_count": null,
   "id": "351c1669-99fc-480c-82c3-e60377224f8d",
   "metadata": {},
   "outputs": [],
   "source": [
    "import numpy as np\n",
    "import pandas as pd\n",
    "import seaborn as sns \n",
    "import matplotlib.pyplot as plt\n",
    "import plotly.express as px\n",
    "from ipywidgets import interact, Dropdown, IntSlider, Output, widgets\n",
    "# from IPython.core.display import display\n",
    "from IPython.display import display\n",
    "from termcolor import colored\n",
    "import re\n",
    "\n",
    "from skimpy import clean_columns\n",
    "# import requests\n",
    "# import geopy\n",
    "# from geopy.geocoders import Nominatim\n",
    "\n",
    "import warnings\n",
    "warnings.filterwarnings(\"ignore\")\n",
    "warnings.warn(\"this will not show\")\n",
    "\n",
    "%matplotlib inline\n",
    "# %matplotlib notebook\n",
    "\n",
    "plt.rcParams[\"figure.figsize\"] = (10, 6)\n",
    "# plt.rcParams['figure.dpi'] = 100\n",
    "\n",
    "sns.set_style(\"whitegrid\")\n",
    "pd.set_option('display.float_format', lambda x: '%.2f' % x)\n",
    "\n",
    "pd.options.display.max_rows = 300\n",
    "pd.options.display.max_columns = 100"
   ]
  },
  {
   "cell_type": "code",
   "execution_count": null,
   "id": "894ad9af-8a27-4dfb-ba41-4321fcd0dfe5",
   "metadata": {},
   "outputs": [],
   "source": [
    "df0 = pd.read_csv(\"filling_immo_data.csv\")\n",
    "df = df0.copy()"
   ]
  },
  {
   "cell_type": "code",
   "execution_count": null,
   "id": "f4f78cfa-8718-45db-a77f-f4237c304ada",
   "metadata": {},
   "outputs": [],
   "source": [
    "df.head()"
   ]
  },
  {
   "cell_type": "code",
   "execution_count": null,
   "id": "f144c071-63ff-4d80-8fb9-f942df445024",
   "metadata": {},
   "outputs": [],
   "source": [
    "df.shape"
   ]
  },
  {
   "cell_type": "code",
   "execution_count": null,
   "id": "4bdee58b-1586-4954-85ba-af7d428c13fd",
   "metadata": {},
   "outputs": [],
   "source": [
    "df.info()"
   ]
  },
  {
   "cell_type": "code",
   "execution_count": null,
   "id": "12b9bc96-0c55-43eb-a01e-998fba69c02a",
   "metadata": {},
   "outputs": [],
   "source": [
    "df.isnull().sum()*100 / df.shape[0]"
   ]
  },
  {
   "cell_type": "code",
   "execution_count": null,
   "id": "91893690-e7f0-4f4b-851d-2557b6bfc1e2",
   "metadata": {},
   "outputs": [],
   "source": [
    "df.duplicated(keep=False).sum()"
   ]
  },
  {
   "cell_type": "code",
   "execution_count": null,
   "id": "d9fee07a-f5ba-4a49-8ff5-26e5ffc90630",
   "metadata": {},
   "outputs": [],
   "source": [
    "df = df.drop_duplicates()"
   ]
  },
  {
   "cell_type": "code",
   "execution_count": null,
   "id": "f4ab5c6c-4d56-4f9c-b578-8d0aaf4dc337",
   "metadata": {},
   "outputs": [],
   "source": [
    "# Let's assign Columns to a new object named numeric_col \n",
    "\n",
    "numeric_col = df.select_dtypes(include=\"number\")\n",
    "display(numeric_col.columns)\n",
    "numeric_col"
   ]
  },
  {
   "cell_type": "markdown",
   "id": "28ffbd4c-9fe9-4cd5-96c2-03e5f0028f68",
   "metadata": {},
   "source": [
    "# 2. Benutzerdefinierte Funktionen zum Entfernen der Ausreißern"
   ]
  },
  {
   "cell_type": "code",
   "execution_count": null,
   "id": "bdbab485-21eb-46c0-8ff9-4493f5f26f3a",
   "metadata": {},
   "outputs": [],
   "source": [
    "def first_looking(df, col):\n",
    "    \"\"\"\n",
    "    Prints basic information about a column in a Pandas DataFrame.\n",
    "\n",
    "    Parameters:\n",
    "    -----------\n",
    "    df : pandas.DataFrame\n",
    "        The DataFrame to analyze.\n",
    "    col : str\n",
    "        The name of the column to analyze.\n",
    "\n",
    "    Returns:\n",
    "    --------\n",
    "    None.\n",
    "\n",
    "    Prints:\n",
    "    -------\n",
    "    column name    : str\n",
    "        The name of the column being analyzed.\n",
    "    per_of_nulls   : float\n",
    "        The percentage of null values in the column.\n",
    "    num_of_nulls   : int\n",
    "        The number of null values in the column.\n",
    "    num_of_uniques : int\n",
    "        The number of unique values in the column.\n",
    "    shape_of_df    : tuple\n",
    "        The shape of the DataFrame.\n",
    "    The unique values in the column and their frequency of occurrence.\n",
    "    \"\"\"\n",
    "    print(\"column name    : \", col)\n",
    "    print(\"--------------------------------\")\n",
    "    print(\"per_of_nulls   : \", \"%\", round(df[col].isnull().sum() * 100 / df.shape[0], 2))\n",
    "    print(\"num_of_nulls   : \", df[col].isnull().sum())\n",
    "    print(\"num_of_uniques : \", df[col].astype(str).nunique())\n",
    "    print(\"shape_of_df    : \", df.shape)\n",
    "    print(\"--------------------------------\")\n",
    "    print(df[col].value_counts(dropna=False))"
   ]
  },
  {
   "cell_type": "code",
   "execution_count": null,
   "id": "a275012f-24c3-4261-ae47-bc03dbaa42ee",
   "metadata": {},
   "outputs": [],
   "source": [
    "def fill(df, group_col1, group_col2, col_name, method):\n",
    "    \"\"\"\n",
    "    Fills missing values in a column of a Pandas DataFrame `df` based on double-stage grouping and a specified filling method.\n",
    "\n",
    "    Parameters:\n",
    "    df (pandas.DataFrame): The DataFrame to operate on.\n",
    "    group_col1 (str): The name of the first grouping column.\n",
    "    group_col2 (str): The name of the second grouping column.\n",
    "    col_name (str): The name of the column to fill missing values in.\n",
    "    method (str): The filling method to use. Can be \"mode\", \"mean\", \"median\", \"ffill\", or \"bfill\".\n",
    "\n",
    "    Returns:\n",
    "    None.\n",
    "\n",
    "    Prints:\n",
    "    None.\n",
    "    \"\"\"\n",
    "    \n",
    "    if method == \"mode\":\n",
    "        for group1 in list(df[group_col1].unique()):\n",
    "            for group2 in list(df[group_col2].unique()):\n",
    "                cond1 = df[group_col1]==group1\n",
    "                cond2 = (df[group_col1]==group1) & (df[group_col2]==group2)\n",
    "                mode1 = list(df[cond1][col_name].mode())\n",
    "                mode2 = list(df[cond2][col_name].mode())\n",
    "                if mode2 != []:\n",
    "                    df.loc[cond2, col_name] = df.loc[cond2, col_name].fillna(df[cond2][col_name].mode()[0])\n",
    "                elif mode1 != []:\n",
    "                    df.loc[cond2, col_name] = df.loc[cond2, col_name].fillna(df[cond1][col_name].mode()[0])\n",
    "                else:\n",
    "                    df.loc[cond2, col_name] = df.loc[cond2, col_name].fillna(df[col_name].mode()[0])\n",
    "\n",
    "    elif method == \"mean\":\n",
    "        df[col_name].fillna(df.groupby([group_col1, group_col2])[col_name].transform(\"mean\"), inplace = True)\n",
    "        df[col_name].fillna(df.groupby(group_col1)[col_name].transform(\"mean\"), inplace = True)\n",
    "        df[col_name].fillna(df[col_name].mean(), inplace = True)\n",
    "        \n",
    "    elif method == \"median\":\n",
    "        df[col_name].fillna(df.groupby([group_col1, group_col2])[col_name].transform(\"median\"), inplace = True)\n",
    "        df[col_name].fillna(df.groupby(group_col1)[col_name].transform(\"median\"), inplace = True)\n",
    "        df[col_name].fillna(df[col_name].median(), inplace = True)\n",
    "        \n",
    "    elif method == \"ffill\":           \n",
    "        for group1 in list(df[group_col1].unique()):\n",
    "            for group2 in list(df[group_col2].unique()):\n",
    "                cond2 = (df[group_col1]==group1) & (df[group_col2]==group2)\n",
    "                df.loc[cond2, col_name] = df.loc[cond2, col_name].fillna(method=\"ffill\").fillna(method=\"bfill\")\n",
    "                \n",
    "        for group1 in list(df[group_col1].unique()):\n",
    "            cond1 = df[group_col1]==group1\n",
    "            df.loc[cond1, col_name] = df.loc[cond1, col_name].fillna(method=\"ffill\").fillna(method=\"bfill\")            \n",
    "           \n",
    "        df[col_name] = df[col_name].fillna(method=\"ffill\").fillna(method=\"bfill\")\n",
    "    \n",
    "    print(\"COLUMN NAME    : \", col_name)\n",
    "    print(\"--------------------------------\")\n",
    "    print(\"per_of_nulls   : \", \"%\", round(df[col_name].isnull().sum()*100 / df.shape[0], 2))\n",
    "    print(\"num_of_nulls   : \", df[col_name].isnull().sum())\n",
    "    print(\"num_of_uniques : \", df[col_name].nunique())\n",
    "    print(\"--------------------------------\")\n",
    "    print(df[col_name].value_counts(dropna = False).sort_index())"
   ]
  },
  {
   "cell_type": "code",
   "execution_count": null,
   "id": "90ee15ce-6ab6-40c6-99c6-990b60ea0b00",
   "metadata": {},
   "outputs": [],
   "source": [
    "import plotly.express as px\n",
    "\n",
    "def plot_categorical_distributions(df, column=None):\n",
    "    \"\"\"\n",
    "    Eğer column parametresi verilirse sadece o sütunun dağılımını,\n",
    "    verilmezse DataFrame'deki tüm kategorik sütunların dağılımını çizer.\n",
    "    \"\"\"\n",
    "    if column:\n",
    "        columns_to_plot = [column]\n",
    "    else:\n",
    "        columns_to_plot = df.select_dtypes(include=['object', 'category']).columns.tolist()\n",
    "    \n",
    "    for col in columns_to_plot:\n",
    "        fig = px.histogram(\n",
    "            df,\n",
    "            x=col,\n",
    "            title=f'Distribution of {col}',\n",
    "            labels={col: col, 'count': 'Count'},\n",
    "            color_discrete_sequence=['#636EFA']\n",
    "        )\n",
    "        fig.update_layout(xaxis_tickangle=45)\n",
    "        fig.show()"
   ]
  },
  {
   "cell_type": "code",
   "execution_count": null,
   "id": "eda0b869-4436-483c-b92c-f27e920a0e2e",
   "metadata": {},
   "outputs": [],
   "source": [
    "def remove_outliers_tukey(df, col_name):\n",
    "    \"\"\"\n",
    "    Drops outliers from a Pandas DataFrame based on the Tukey's Fence Rule for a specific feature.\n",
    "    \n",
    "    Parameters:\n",
    "    df (Pandas DataFrame): The input DataFrame.\n",
    "    feature (str): The name of the feature to use for outlier detection.\n",
    "    \n",
    "    Returns:\n",
    "    Pandas DataFrame: The DataFrame with the outliers removed.\n",
    "    \"\"\"    \n",
    "    print(\"Number of rows before dropping outliers:\", len(df))\n",
    "    q1 = df[col_name].quantile(0.25)\n",
    "    q3 = df[col_name].quantile(0.75)\n",
    "    iqr = q3-q1  # Interquartile range\n",
    "    fence_low  = q1-1.5*iqr\n",
    "    fence_high = q3+1.5*iqr\n",
    "    df = df.loc[(df[col_name] > fence_low) & (df[col_name] < fence_high)]\n",
    "    df.reset_index(drop=True, inplace=True)\n",
    "    print(\"Number of rows after dropping outliers:\", len(df))\n",
    "    return df"
   ]
  },
  {
   "cell_type": "code",
   "execution_count": null,
   "id": "621486bd-61f7-4b9b-b973-f5f7c06eb596",
   "metadata": {},
   "outputs": [],
   "source": [
    "def drop_outliers_zscore(df, feature, threshold=3):\n",
    "    \"\"\"\n",
    "    Drops outliers from a Pandas DataFrame based on the z-score of a specific feature.\n",
    "    \n",
    "    Parameters:\n",
    "    df (Pandas DataFrame): The input DataFrame.\n",
    "    feature (str): The name of the feature to use for outlier detection.\n",
    "    threshold (float, optional): The threshold value for the z-score. Defaults to 3.\n",
    "    \n",
    "    Returns:\n",
    "    Pandas DataFrame: The DataFrame with the outliers removed.\n",
    "    \"\"\"\n",
    "    # Print the number of rows before dropping outliers\n",
    "    print(\"Number of rows before dropping outliers:\", len(df))\n",
    "    \n",
    "    # Calculate the z-scores for the feature\n",
    "    z_scores = np.abs((df[feature] - df[feature].mean()) / df[feature].std())\n",
    "\n",
    "    # Drop the rows with z-scores above the threshold\n",
    "    df = df[z_scores < threshold]\n",
    "\n",
    "    # Drop the rows with z-scores above the threshold\n",
    "    df.reset_index(drop=True, inplace=True)\n",
    "    \n",
    "    # Print the number of rows after dropping outliers\n",
    "    print(\"Number of rows after dropping outliers:\", len(df))\n",
    "    \n",
    "    return df.info()"
   ]
  },
  {
   "cell_type": "markdown",
   "id": "a161937e-bbb8-4c2e-8814-01ac4f6d5377",
   "metadata": {},
   "source": [
    "# 3. Untersuchungen von Ausreißern in den Spalten"
   ]
  },
  {
   "cell_type": "markdown",
   "id": "60454500-7bcb-4208-91d8-80cc64025439",
   "metadata": {},
   "source": [
    "## 3.1. base_rent"
   ]
  },
  {
   "cell_type": "code",
   "execution_count": null,
   "id": "01e4c1a0-eddc-4303-b2b0-dc4603dd26b4",
   "metadata": {},
   "outputs": [],
   "source": [
    "first_looking(df, \"base_rent\")"
   ]
  },
  {
   "cell_type": "code",
   "execution_count": null,
   "id": "abad9645-46cd-41e2-b4b1-a2d21c1c433f",
   "metadata": {},
   "outputs": [],
   "source": [
    "class color:\n",
    "    PURPLE = '\\033[95m'\n",
    "    CYAN = '\\033[96m'\n",
    "    DARKCYAN = '\\033[36m'\n",
    "    BLUE = '\\033[94m'\n",
    "    GREEN = '\\033[92m'\n",
    "    YELLOW = '\\033[93m'\n",
    "    RED = '\\033[91m'\n",
    "    BOLD = '\\033[1m'\n",
    "    UNDERLINE = '\\033[4m'\n",
    "    END = '\\033[0m'"
   ]
  },
  {
   "cell_type": "code",
   "execution_count": null,
   "id": "0c7e6da8-95ac-454b-8bcd-aa1001352bad",
   "metadata": {},
   "outputs": [],
   "source": [
    "# Let's explore Descriptive Satatistics on \"price\"\n",
    "\n",
    "display(df.base_rent.describe())\n",
    "\n",
    "# Differences between intervals\n",
    "diff1 = df.base_rent.describe()['mean'] - df.base_rent.describe()['std']\n",
    "diff2 = df.base_rent.describe()['25%'] - df.base_rent.describe()['min']\n",
    "diff3 = df.base_rent.describe()['max'] - df.base_rent.describe()['75%']\n",
    "\n",
    "print(f\"The difference between the {color.BOLD + color.BLUE}mean value{color.BLUE + color.END} ({color.BOLD + color.GREEN}{df.base_rent.describe()['mean']:.2f}){color.BLUE + color.END} and the {color.BOLD + color.BLUE}standard deviation{color.BLUE + color.END} ({color.BOLD + color.GREEN}{df.base_rent.describe()['std']:.2f}{color.GREEN + color.END}) is {color.BOLD + color.RED}{diff1:.2f}{color.RED + color.END}.\")\n",
    "print(f\"The difference between the {color.BOLD + color.BLUE}25th percentile{color.BLUE + color.END} ({color.BOLD + color.GREEN}{df.base_rent.describe()['25%']:.2f}){color.BLUE + color.END} and the {color.BOLD + color.BLUE}minimum value{color.BLUE + color.END} ({color.BOLD + color.GREEN}{df.base_rent.describe()['min']:.2f}{color.GREEN + color.END}) is {color.BOLD + color.RED}{diff2:.2f}{color.RED + color.END}.\")\n",
    "print(f\"The difference between the {color.BOLD + color.BLUE}75th percentile{color.BLUE + color.END} ({color.BOLD + color.GREEN}{df.base_rent.describe()['75%']:.2f}){color.BLUE + color.END} and the {color.BOLD + color.BLUE}maximum value{color.BLUE + color.END} ({color.BOLD + color.GREEN}{df.base_rent.describe()['max']:.2f}{color.GREEN + color.END}) is {color.BOLD + color.RED}{diff3:.2f}{color.RED + color.END}.\")"
   ]
  },
  {
   "cell_type": "code",
   "execution_count": null,
   "id": "a82a10e6-6dbe-4da8-837a-b23a374de38d",
   "metadata": {
    "scrolled": true
   },
   "outputs": [],
   "source": [
    "plt.figure(figsize=(20, 6))\n",
    "\n",
    "plt.subplot(121)\n",
    "plt.hist(df.base_rent, bins=20)\n",
    "\n",
    "plt.subplot(122)\n",
    "plt.boxplot(df.base_rent, whis=3)\n",
    "\n",
    "plt.show()"
   ]
  },
  {
   "cell_type": "markdown",
   "id": "cf9a8130-be7e-4613-b060-d77878edaf4a",
   "metadata": {},
   "source": [
    "**💡Überprüfung der obersten Zeilen**"
   ]
  },
  {
   "cell_type": "code",
   "execution_count": null,
   "id": "2a7b8d37-9cb8-4605-9bd7-405d1a5160c0",
   "metadata": {},
   "outputs": [],
   "source": [
    "df.sort_values(by=[\"base_rent\"], ascending=False)[\"base_rent\"].head(50)\n",
    "\n",
    "# df.price.sort_values().head(20)"
   ]
  },
  {
   "cell_type": "code",
   "execution_count": null,
   "id": "4edd7bd0-21f1-468d-a692-c9b58dbfb003",
   "metadata": {},
   "outputs": [],
   "source": [
    "df[df['base_rent'] > 10000][['base_rent', 'living_space', 'no_rooms_cleaned', 'total_rent']].describe()"
   ]
  },
  {
   "cell_type": "code",
   "execution_count": null,
   "id": "b50a7441-54e5-4474-bc76-664784b79bdb",
   "metadata": {},
   "outputs": [],
   "source": [
    "index_max_50_base_rent = df.sort_values(by=[\"base_rent\"], ascending=False)[\"base_rent\"].head(50).index\n",
    "index_max_50_base_rent"
   ]
  },
  {
   "cell_type": "code",
   "execution_count": null,
   "id": "a3ba8406-7b0f-4db2-adfb-3520fe952893",
   "metadata": {},
   "outputs": [],
   "source": [
    "df.loc[[261365,   8404, 256832,  16713, 240645, 179837, 174969, 211226, 188349,\n",
    "       169238, 247349, 226266, 223123, 175597, 161957,  57046, 117836,  60879,\n",
    "        14113, 238788, 194351,  95802, 221105,  70814, 112005,  70865, 153484,\n",
    "        38055, 146806,   1648, 259978,  65314, 263181,  63869, 170375,   9053,\n",
    "       127519, 224301, 104799, 149353,  99329, 153314, 217850, 117207,  33654,\n",
    "       232249,  80326, 207434, 120865,  60455]]"
   ]
  },
  {
   "cell_type": "code",
   "execution_count": null,
   "id": "c186819f-33b4-40ae-9021-7c00edfa8ee0",
   "metadata": {},
   "outputs": [],
   "source": [
    "# Berechnet den Durchschnitt der Grundmiete (base_rent) für jede Region\n",
    "region_rent_mean = df.groupby('regio_1')['base_rent'].mean().sort_values(ascending=False)\n",
    "\n",
    "# Erstellt eine Balkengrafik der durchschnittlichen Miete pro Region\n",
    "plt.figure(figsize=(14, 6))\n",
    "region_rent_mean.plot(kind='bar', color='skyblue')\n",
    "\n",
    "# Titel und Achsenbeschriftungen setzen\n",
    "plt.title('Durchschnittliche Grundmiete (base_rent) nach Region (Regio_1)', fontsize=14)\n",
    "plt.ylabel('Durchschnittliche Miete (€)', fontsize=12)\n",
    "plt.xlabel('Region (Regio_1)', fontsize=12)\n",
    "\n",
    "# Dreht die x-Achsenbeschriftungen für bessere Lesbarkeit\n",
    "plt.xticks(rotation=45, ha='right')\n",
    "\n",
    "# Zeigt die Grafik an\n",
    "plt.tight_layout()\n",
    "plt.show()"
   ]
  },
  {
   "cell_type": "code",
   "execution_count": null,
   "id": "791b45af-0e5e-4c69-9c05-7f71ebda602f",
   "metadata": {},
   "outputs": [],
   "source": [
    "df[df['base_rent'] > 10000].shape[0]"
   ]
  },
  {
   "cell_type": "code",
   "execution_count": null,
   "id": "0f633ba7-541b-4c03-b089-847214045122",
   "metadata": {},
   "outputs": [],
   "source": [
    "df = df[df['base_rent'] <= 10000]"
   ]
  },
  {
   "cell_type": "markdown",
   "id": "fae99161-4b7d-4f25-8305-d1739896769d",
   "metadata": {},
   "source": [
    "**💡Erklärung für das Löschen der obersten 29 Mietdatensätze:** „Die obersten 29 Datensätze mit den höchsten Basis-Mietwerten wurden entfernt, da diese Werte unrealistisch hoch erscheinen und wahrscheinlich Fehler oder Ausreißer in den Daten darstellen. Solche Ausreißer können die Analyse verzerren, deshalb ist deren Entfernung wichtig, um valide und aussagekräftige Ergebnisse zu erzielen.“"
   ]
  },
  {
   "cell_type": "code",
   "execution_count": null,
   "id": "6ae45b61-b4a1-47ac-b4e4-45e55b9ef2bd",
   "metadata": {
    "scrolled": true
   },
   "outputs": [],
   "source": [
    "plt.figure(figsize=(20, 6))\n",
    "\n",
    "plt.subplot(121)\n",
    "plt.hist(df.base_rent, bins=20)\n",
    "\n",
    "plt.subplot(122)\n",
    "plt.boxplot(df.base_rent, whis=3)\n",
    "\n",
    "plt.show()"
   ]
  },
  {
   "cell_type": "markdown",
   "id": "cfad789f-fc1f-4d85-a772-5f0a143df11b",
   "metadata": {},
   "source": [
    "**💡Überprüfung der niedrigsten Zeilen**"
   ]
  },
  {
   "cell_type": "code",
   "execution_count": null,
   "id": "81762b29-4271-4520-924f-91a755f1007e",
   "metadata": {},
   "outputs": [],
   "source": [
    "df[df['base_rent'] <= 50].T"
   ]
  },
  {
   "cell_type": "code",
   "execution_count": null,
   "id": "eb036d31-dd41-474c-80e8-18ea461eb685",
   "metadata": {},
   "outputs": [],
   "source": [
    "df.loc[264041].description"
   ]
  },
  {
   "cell_type": "code",
   "execution_count": null,
   "id": "38d20f64-6c81-4549-a43f-13d2cea6388f",
   "metadata": {},
   "outputs": [],
   "source": [
    "df.loc[262089].description"
   ]
  },
  {
   "cell_type": "code",
   "execution_count": null,
   "id": "fd4d3f87-4019-41f7-9b22-a623ab4d6dbf",
   "metadata": {},
   "outputs": [],
   "source": [
    "df['base_rent'].value_counts().loc[[0, 1]]"
   ]
  },
  {
   "cell_type": "code",
   "execution_count": null,
   "id": "e8c42552-dce1-4cf1-8f03-6582a6f9e3c2",
   "metadata": {},
   "outputs": [],
   "source": [
    "df = df[df['base_rent'] > 150.00]"
   ]
  },
  {
   "cell_type": "markdown",
   "id": "26fb207a-3e7b-4940-8873-2f84d2d055ab",
   "metadata": {},
   "source": [
    "**💡Erklärung für das Löschen der Datensätze mit Basis-Miete = 150:** „Datensätze mit einem Basis-Mietwert von Null, obwohl die Gesamtmiete positiv ist, wurden gelöscht. Dies deutet auf inkonsistente oder fehlerhafte Dateneinträge hin. Um eine saubere und verlässliche Datenbasis für die weitere Analyse zu gewährleisten, ist das Entfernen solcher Einträge notwendig.“\n",
    "\n",
    "Die Verteilung der Beobachtungen im Feature „base_rent“ sieht immer noch NICHT ganz richtig aus. Versuchen wir daher, Extremwerte mit der **\"Turkey's Fence Rule\"** zu behandeln."
   ]
  },
  {
   "cell_type": "code",
   "execution_count": null,
   "id": "3a3d3701-7334-478a-bb04-be69b7402c7c",
   "metadata": {},
   "outputs": [],
   "source": [
    "df['log_base_rent'] = np.log(df['base_rent'])"
   ]
  },
  {
   "cell_type": "code",
   "execution_count": null,
   "id": "7e217306-39a1-49be-9f2e-2eb5c2f11e99",
   "metadata": {},
   "outputs": [],
   "source": [
    "sns.histplot(df['log_base_rent'], kde=True)\n",
    "plt.title(\"Log-Transformed base_rent Dağılımı\")\n",
    "plt.show()"
   ]
  },
  {
   "cell_type": "code",
   "execution_count": null,
   "id": "edde068a-84d4-41be-943a-f2914326b50c",
   "metadata": {},
   "outputs": [],
   "source": [
    "# Let's determine the First & Third Quantile and Inter Quantile Range \n",
    "# so we can calculate lowest and highest boundries of fence to drop extreme values\n",
    "\n",
    "print(\"Number of rows before dropping outliers:\", len(df))\n",
    "q1 = df[\"log_base_rent\"].quantile(0.25)\n",
    "q3 = df[\"log_base_rent\"].quantile(0.75)\n",
    "iqr = q3-q1  # Interquartile range\n",
    "\n",
    "fence_low  = q1 -3 * iqr\n",
    "fence_high = q3 + 3 *iqr\n",
    "\n",
    "df = df.loc[(df[\"log_base_rent\"] > fence_low) & (df[\"log_base_rent\"] < fence_high)]\n",
    "df.reset_index(drop=True, inplace=True)\n",
    "print(\"Number of rows after dropping outliers:\", len(df))"
   ]
  },
  {
   "cell_type": "code",
   "execution_count": null,
   "id": "6a75e510-14d8-4c93-8afa-752b23c4056b",
   "metadata": {},
   "outputs": [],
   "source": [
    "plt.figure(figsize=(20, 6))\n",
    "\n",
    "plt.subplot(121)\n",
    "plt.hist(df.log_base_rent, bins=20)\n",
    "\n",
    "plt.subplot(122)\n",
    "plt.boxplot(df.log_base_rent, whis=3)\n",
    "\n",
    "plt.show()"
   ]
  },
  {
   "cell_type": "code",
   "execution_count": null,
   "id": "8501f708-d964-4497-80ba-999583aa31ea",
   "metadata": {},
   "outputs": [],
   "source": [
    "df[\"log_base_rent\"].describe()\n"
   ]
  },
  {
   "cell_type": "markdown",
   "id": "c63cedd5-7d43-4386-9832-41270195d79b",
   "metadata": {},
   "source": [
    "**💡Log-Transformation:** Da alle Werte in der Spalte base_rent positiv sind, wurde eine logarithmische Transformation durchgeführt, um die Verteilung zu normalisieren und die Auswirkung von Ausreißern zu reduzieren.\n",
    "🔍 Warum eine logarithmische Transformation?\n",
    "Reduktion von Schiefe (Skewness): Mietpreise sind häufig rechtsschief verteilt – das bedeutet, dass es wenige sehr hohe Werte gibt, die die Analyse verzerren können. Durch die log-Transformation wird die Verteilung symmetrischer.\n",
    "\n",
    "Stabilisierung der Varianz: Große Werteunterschiede zwischen günstigen und teuren Wohnungen werden reduziert.\n",
    "\n",
    "Bessere Modellierung: Viele statistische Modelle (z. B. lineare Regression) funktionieren besser, wenn die Eingabedaten annähernd normalverteilt sind.\n",
    "\n",
    "🛠️ Was passiert technisch?\n",
    "Der natürliche Logarithmus (Basis e) wird auf jeden Wert in base_rent angewendet.\n",
    "\n",
    "Beispiel: log(1000) ≈ 6.91, log(2000) ≈ 7.60. Der Unterschied wird also komprimiert.\n",
    "\n",
    "🔒 Wichtiger Hinweis:\n",
    "Die Transformation funktioniert nur, weil alle Werte positiv sind. Wären 0 oder negative Zahlen in base_rent enthalten, würde der Logarithmus einen Fehler erzeugen."
   ]
  },
  {
   "cell_type": "markdown",
   "id": "eea6a625-b2d4-4632-b623-d7a2cbb2083e",
   "metadata": {},
   "source": [
    "***💡Die Verteilung der Grundrente nach der Modifikation durch Tukey's Fence Rule***"
   ]
  },
  {
   "cell_type": "code",
   "execution_count": null,
   "id": "a84e8fef-2d73-486b-bb30-1b46b62c67c8",
   "metadata": {},
   "outputs": [],
   "source": [
    "from scipy import stats\n",
    "plt.figure(figsize=(16, 6))\n",
    "\n",
    "# Sample 100 observations from the 'price' column\n",
    "my_data = df['log_base_rent'].sample(100)\n",
    "\n",
    "# Calculate the mean and standard deviation of the sample\n",
    "mu = np.mean(my_data)\n",
    "sigma = np.std(my_data)\n",
    "\n",
    "# Generate a normal distribution with the same mean and standard deviation as the sample\n",
    "x = np.linspace(mu - 3*sigma, mu + 3*sigma, 100)\n",
    "y = norm.pdf(x, mu, sigma)\n",
    "\n",
    "# Plot the normal distribution as a dotted red line on the Q-Q plot\n",
    "# plt.plot(x, y, 'r--', linewidth=2)\n",
    "\n",
    "# Create the Q-Q plot\n",
    "fig, ax = plt.subplots()\n",
    "stats.probplot(my_data, dist=\"norm\", plot=ax)\n",
    "\n",
    "# Show the plot\n",
    "plt.show()"
   ]
  },
  {
   "cell_type": "markdown",
   "id": "ee9c3470-3dfc-4939-ace9-3290ef1bad97",
   "metadata": {},
   "source": [
    "**💡📈 Q-Q-Plot nach Log-Transformation der Miete**\n",
    "\n",
    "Um die Verteilung der Mietpreise (base_rent) zu untersuchen, wurde eine logarithmische Transformation durchgeführt. Anschließend wurde ein Q-Q-Plot erstellt, um zu prüfen, inwieweit die transformierten Werte einer Normalverteilung folgen.\n",
    "\n",
    "🔍 Interpretation:\n",
    "Die blauen Punkte stellen die quantilenbasierten Werte der logarithmierten base_rent-Daten dar.\n",
    "\n",
    "Die rote Linie repräsentiert eine theoretische Normalverteilung.\n",
    "\n",
    "Je näher die Punkte an der roten Linie liegen, desto näher ist die Verteilung der Daten an der Normalverteilung.\n",
    "\n",
    "✅ Ergebnis:\n",
    "Der Q-Q-Plot zeigt, dass die log-transformierten Mietpreise annähernd normalverteilt sind, insbesondere im mittleren Bereich der Verteilung.\n",
    "\n",
    "Leichte Abweichungen an den Rändern (Extremwerten) sind sichtbar, aber kein starkes systematisches Muster zu erkennen.\n",
    "\n",
    "Damit eignet sich die log-transformierte Variable gut für modellbasierte Verfahren, die Normalverteilung annehmen (z. B. lineare Regression).\n",
    "\n",
    "🧠 Fazit:\n",
    "Die Log-Transformation war erfolgreich, da sie die Schiefe der ursprünglichen Verteilung reduziert hat und die transformierten Daten besser mit der Normalverteilung übereinstimmen."
   ]
  },
  {
   "cell_type": "markdown",
   "id": "4ba393a0-9865-4c3a-a725-7605187aa169",
   "metadata": {},
   "source": [
    "## 3.2. service_charge"
   ]
  },
  {
   "cell_type": "code",
   "execution_count": null,
   "id": "e3303811-6ade-4ed5-9dac-f61a4b787974",
   "metadata": {},
   "outputs": [],
   "source": [
    "first_looking(df, 'service_charge')"
   ]
  },
  {
   "cell_type": "code",
   "execution_count": null,
   "id": "c9471713-d143-47ee-af39-cf22791fce06",
   "metadata": {},
   "outputs": [],
   "source": [
    "df[\"service_charge\"].describe()"
   ]
  },
  {
   "cell_type": "code",
   "execution_count": null,
   "id": "a2da0617-e2d2-4741-a6b7-0302e46f2195",
   "metadata": {},
   "outputs": [],
   "source": [
    "# Nach Region gruppieren und den Durchschnitt anzeigen\n",
    "df.groupby('regio_1')['service_charge'].mean().sort_values(ascending=False)"
   ]
  },
  {
   "cell_type": "code",
   "execution_count": null,
   "id": "9f6ec688-12f3-49a2-876a-8ff4252c332b",
   "metadata": {},
   "outputs": [],
   "source": [
    "# Nach Region gruppieren und den Durchschnitt anzeigen\n",
    "df.groupby('interior_qual')['service_charge'].mean().sort_values(ascending=False)"
   ]
  },
  {
   "cell_type": "code",
   "execution_count": null,
   "id": "627e4d26-ea6b-48c1-a7e3-e6ef5bc010d5",
   "metadata": {},
   "outputs": [],
   "source": [
    "df[df['service_charge'] < 40].sort_values(by='service_charge').head(20)"
   ]
  },
  {
   "cell_type": "code",
   "execution_count": null,
   "id": "ebbebaea-f9d3-47fd-bb2e-9701a651400e",
   "metadata": {},
   "outputs": [],
   "source": [
    "df = df[df['service_charge'] >= 12]"
   ]
  },
  {
   "cell_type": "markdown",
   "id": "bc4015a2-e617-4228-a154-61b71094e4e7",
   "metadata": {},
   "source": [
    "**🧹 Entfernen ungewöhnlich niedriger Nebenkosten (`service_charge`)**\n",
    "\n",
    "In Deutschland gelten sehr niedrige Betriebskosten (Nebenkosten) unterhalb von **1,20 €/m²** als unplausibel.  \n",
    "Diese Einschätzung stützt sich auf:\n",
    "\n",
    "- **Richtwerte der Jobcenter**, die meist zwischen **1,50–1,70 €/m²** liegen (je nach Region),\n",
    "- **Mindestwohnflächen für Einzelpersonen** von ca. **10 m²**,\n",
    "- und die allgemeine Kostenstruktur für Heizung, Müll, Hausreinigung etc.\n",
    "\n",
    "Daraus ergibt sich eine rechnerische **absolute Untergrenze von ca. 12 €** (10 m² × 1,20 €/m²).  \n",
    "Werte unter dieser Schwelle deuten häufig auf:\n",
    "\n",
    "- fehlende Eingaben (`0`, `1`, `5` €),\n",
    "- fehlerhafte Verarbeitung oder\n",
    "- nicht gemeldete Nebenkosten hin.\n",
    "\n",
    "**Maßnahme:**\n",
    "\n",
    "Alle Einträge mit `service_charge` < **12 €** werden aus dem Datensatz entfernt,  \n",
    "um Verzerrungen in der Analyse zu vermeiden.\n",
    "\n",
    "https://www.jobcenter-mk.de/geld-zum-wohnen.html?utm_source=chatgpt.com\n",
    "\n",
    "https://www.jobcenter-remscheid.de/kosten-der-unterkunft.html?utm_source=chatgpt.com"
   ]
  },
  {
   "cell_type": "code",
   "execution_count": null,
   "id": "ec7f51d9-ac75-4ed9-8bca-208df94d0dce",
   "metadata": {},
   "outputs": [],
   "source": [
    "# IQR (Interquartilsabstand) berechnen\n",
    "Q1 = df['service_charge'].quantile(0.25)  # 1. Quartil (25%)\n",
    "Q3 = df['service_charge'].quantile(0.75)  # 3. Quartil (75%)\n",
    "IQR = Q3 - Q1  # Interquartilsabstand\n",
    "\n",
    "print(f\"Q1: {Q1}, Q3: {Q3}, IQR: {IQR}\")\n",
    "\n",
    "# Untere und obere Grenze für Ausreißer\n",
    "lower_bound = Q1 - 1.5 * IQR\n",
    "upper_bound = Q3 + 1.5 * IQR\n",
    "\n",
    "print(f\"Untere Grenze: {lower_bound}, Obere Grenze: {upper_bound}\")"
   ]
  },
  {
   "cell_type": "code",
   "execution_count": null,
   "id": "97ce1ebd-5d2b-4386-a872-d9a81e2cf67c",
   "metadata": {},
   "outputs": [],
   "source": [
    "# Anzahl der Ausreißer berechnen\n",
    "outliers = df[(df['service_charge'] < lower_bound) | (df['service_charge'] > upper_bound)]\n",
    "print(f\"Anzahl der als Ausreißer erkannten Zeilen: {outliers.shape[0]}\")\n",
    "\n",
    "# Entfernen der Ausreißer\n",
    "df_iqr_cleaned = df[(df['service_charge'] >= lower_bound) & (df['service_charge'] <= upper_bound)]\n",
    "print(f\"Anzahl der verbleibenden Zeilen nach dem Entfernen: {df_iqr_cleaned.shape[0]}\")"
   ]
  },
  {
   "cell_type": "code",
   "execution_count": null,
   "id": "e874b7b3-ed63-40f4-90ee-df044218c4ca",
   "metadata": {},
   "outputs": [],
   "source": [
    "df = df[(df['service_charge'] >= lower_bound) & (df['service_charge'] <= upper_bound)]"
   ]
  },
  {
   "cell_type": "code",
   "execution_count": null,
   "id": "2ed36e36-593d-4067-b5d5-231fbe6918fb",
   "metadata": {},
   "outputs": [],
   "source": [
    "df['service_charge'].describe()"
   ]
  },
  {
   "cell_type": "code",
   "execution_count": null,
   "id": "088f36e0-8a55-4dd7-a4c2-8b094cb92232",
   "metadata": {},
   "outputs": [],
   "source": [
    "# Plot-Größe definieren\n",
    "plt.figure(figsize=(14, 6))\n",
    "\n",
    "# Histogramm\n",
    "plt.subplot(1, 2, 1)\n",
    "plt.hist(df['service_charge'], bins=50, color='skyblue', edgecolor='black')\n",
    "plt.title('Histogramm der Nebenkosten')\n",
    "plt.xlabel('Nebenkosten (€)')\n",
    "plt.ylabel('Anzahl')\n",
    "\n",
    "# Boxplot\n",
    "plt.subplot(1, 2, 2)\n",
    "plt.boxplot(df['service_charge'], vert=False, patch_artist=True,\n",
    "            boxprops=dict(facecolor='lightgreen', color='black'),\n",
    "            medianprops=dict(color='black'),\n",
    "            whiskerprops=dict(color='black'),\n",
    "            capprops=dict(color='black'),\n",
    "            flierprops=dict(markerfacecolor='gray', marker='D'))\n",
    "\n",
    "plt.title('Boxplot der Nebenkosten')\n",
    "plt.xlabel('Nebenkosten (€)')\n",
    "\n",
    "plt.tight_layout()\n",
    "plt.show()\n"
   ]
  },
  {
   "cell_type": "code",
   "execution_count": null,
   "id": "9b2f7e75-7d0c-4c7b-bd7c-753a70d572ac",
   "metadata": {},
   "outputs": [],
   "source": [
    "df.shape"
   ]
  },
  {
   "cell_type": "markdown",
   "id": "63080248-9ddb-4144-a2fc-42232ef2bc38",
   "metadata": {},
   "source": [
    "## 3.3. heating_costs"
   ]
  },
  {
   "cell_type": "code",
   "execution_count": null,
   "id": "1e537257-d7d9-437e-b45c-56ed9712a3c9",
   "metadata": {},
   "outputs": [],
   "source": [
    "first_looking(df, 'heating_costs')"
   ]
  },
  {
   "cell_type": "code",
   "execution_count": null,
   "id": "50383117-539b-4925-9feb-43dd86b57373",
   "metadata": {},
   "outputs": [],
   "source": [
    "df['heating_costs'] = df['heating_costs'].replace(0, np.nan)"
   ]
  },
  {
   "cell_type": "code",
   "execution_count": null,
   "id": "ebacece0-a0c6-45eb-8523-4153d3f41189",
   "metadata": {},
   "outputs": [],
   "source": [
    "df['heating_costs'] = df['heating_costs'].fillna(\n",
    "    df.groupby(['regio_1', 'heating_type_cleaned'])['heating_costs'].transform('median')\n",
    ")"
   ]
  },
  {
   "cell_type": "code",
   "execution_count": null,
   "id": "a6193cd0-00a6-4992-abd6-47edec3bbcb7",
   "metadata": {},
   "outputs": [],
   "source": [
    "print(\"NaN        :\", df['heating_costs'].isna().sum())\n",
    "print(\"0          :\", (df['heating_costs'] == 0).sum())\n",
    "print(\"nunique :\", df['heating_costs'].nunique())\n",
    "print(\"shape :\", df.shape)"
   ]
  },
  {
   "cell_type": "code",
   "execution_count": null,
   "id": "e002a5e8-aacf-49f3-a2a9-51366378782a",
   "metadata": {},
   "outputs": [],
   "source": [
    "plt.figure(figsize=(8,6))\n",
    "plt.boxplot(df['heating_costs'], vert=False)\n",
    "plt.title('Heating Costs Boxplot')\n",
    "plt.xlabel('Heating Costs')\n",
    "plt.show()"
   ]
  },
  {
   "cell_type": "code",
   "execution_count": null,
   "id": "51096e6f-6ac5-41cc-94b2-8af7e322fae4",
   "metadata": {},
   "outputs": [],
   "source": [
    "max_idx = df['heating_costs'].idxmax()\n",
    "print(df.loc[max_idx])"
   ]
  },
  {
   "cell_type": "code",
   "execution_count": null,
   "id": "3ff3b47c-18cc-4efd-890b-264fdf9743e6",
   "metadata": {},
   "outputs": [],
   "source": [
    "df[df['heating_costs'] > 1800.00][['heating_costs', 'base_rent', 'service_charge', 'total_rent']]                                                   "
   ]
  },
  {
   "cell_type": "code",
   "execution_count": null,
   "id": "b9d4ac05-d688-4069-9e01-927e17eace6f",
   "metadata": {},
   "outputs": [],
   "source": [
    "to_drop = df[df['heating_costs'] > 1800].index\n",
    "df = df.drop(to_drop)"
   ]
  },
  {
   "cell_type": "code",
   "execution_count": null,
   "id": "6d308e76-2a7d-4ac3-a213-a5fdd3fb297b",
   "metadata": {},
   "outputs": [],
   "source": [
    "df['heating_costs'].describe()"
   ]
  },
  {
   "cell_type": "code",
   "execution_count": null,
   "id": "b17570b5-f93b-4b59-a1e6-6e78147b5561",
   "metadata": {},
   "outputs": [],
   "source": [
    "df.shape"
   ]
  },
  {
   "cell_type": "markdown",
   "id": "b9f356e5-804d-4d67-93b3-495bba3dc41a",
   "metadata": {},
   "source": [
    "## 3.4. total_rent"
   ]
  },
  {
   "cell_type": "code",
   "execution_count": null,
   "id": "fe018976-814f-4a3f-8576-3be59e21f6ec",
   "metadata": {},
   "outputs": [],
   "source": [
    "first_looking(df, 'total_rent')"
   ]
  },
  {
   "cell_type": "code",
   "execution_count": null,
   "id": "781455f7-0327-49a7-952d-1d3bf52b524d",
   "metadata": {},
   "outputs": [],
   "source": [
    "df['total_rent'].describe()"
   ]
  },
  {
   "cell_type": "code",
   "execution_count": null,
   "id": "52a0279d-8cec-4132-9689-66167502d141",
   "metadata": {},
   "outputs": [],
   "source": [
    "df[df['total_rent'] == 0][['total_rent', 'base_rent', 'service_charge', 'heating_costs']]"
   ]
  },
  {
   "cell_type": "code",
   "execution_count": null,
   "id": "a40d4f38-3783-4c09-8ac6-eafcfc851ace",
   "metadata": {},
   "outputs": [],
   "source": [
    "mask = df['total_rent'] == 0"
   ]
  },
  {
   "cell_type": "code",
   "execution_count": null,
   "id": "ee5fe355-db97-4c6d-9683-d826a6fac2ec",
   "metadata": {},
   "outputs": [],
   "source": [
    "df.loc[mask, 'total_rent'] = (\n",
    "    df.loc[mask, 'base_rent'] +\n",
    "    df.loc[mask, 'service_charge'] +\n",
    "    df.loc[mask, 'heating_costs']\n",
    ")"
   ]
  },
  {
   "cell_type": "code",
   "execution_count": null,
   "id": "d0a1eec8-1d77-4e6e-bb74-1e1069249f2a",
   "metadata": {},
   "outputs": [],
   "source": [
    "df[df['total_rent'] > 10000][['total_rent', 'base_rent', 'service_charge', 'heating_costs']]"
   ]
  },
  {
   "cell_type": "code",
   "execution_count": null,
   "id": "d809f72d-03bd-4b4c-8aff-7b089b23fad1",
   "metadata": {},
   "outputs": [],
   "source": [
    "high_mask = df['total_rent'] > 10000"
   ]
  },
  {
   "cell_type": "code",
   "execution_count": null,
   "id": "831bf465-a95c-41d8-96a5-f3a7524d9665",
   "metadata": {},
   "outputs": [],
   "source": [
    "df.loc[high_mask, 'total_rent'] = (\n",
    "    df.loc[high_mask, 'base_rent'] +\n",
    "    df.loc[high_mask, 'service_charge'] +\n",
    "    df.loc[high_mask, 'heating_costs']\n",
    ")"
   ]
  },
  {
   "cell_type": "code",
   "execution_count": null,
   "id": "310ddaa5-ac42-411c-92d3-1a212d0839f1",
   "metadata": {},
   "outputs": [],
   "source": [
    "# Histogram\n",
    "plt.subplot(1, 2, 1)\n",
    "sns.histplot(df['total_rent'], bins=50, kde=True)\n",
    "plt.title('Histogram of Total Rent')\n",
    "plt.xlabel('Total Rent')\n",
    "plt.ylabel('Frequency')\n",
    "\n",
    "# Boxplot\n",
    "plt.subplot(1, 2, 2)\n",
    "sns.boxplot(x=df['total_rent'])\n",
    "plt.title('Boxplot of Total Rent')\n",
    "\n",
    "plt.tight_layout()\n",
    "plt.show()"
   ]
  },
  {
   "cell_type": "code",
   "execution_count": null,
   "id": "b2f6dac4-f156-40fa-be9e-9819a53b2e57",
   "metadata": {
    "scrolled": true
   },
   "outputs": [],
   "source": [
    "df[df['total_rent'] > 4000][['base_rent', 'regio_1', 'year_category', 'no_rooms_cleaned', 'living_space', 'type_of_flat']]"
   ]
  },
  {
   "cell_type": "code",
   "execution_count": null,
   "id": "fae950df-cd5f-4be2-a478-ba71a1a98a07",
   "metadata": {},
   "outputs": [],
   "source": [
    "(df['total_rent'] > 4000).sum()"
   ]
  },
  {
   "cell_type": "code",
   "execution_count": null,
   "id": "09b4ab91-2e7c-4bee-8a35-58026bea815d",
   "metadata": {},
   "outputs": [],
   "source": [
    "df = df[df['total_rent'] <= 4000]"
   ]
  },
  {
   "cell_type": "code",
   "execution_count": null,
   "id": "c2fcad20-c522-4ee9-8d02-2616744bd738",
   "metadata": {},
   "outputs": [],
   "source": [
    "# Histogram\n",
    "plt.subplot(1, 2, 1)\n",
    "sns.histplot(df['total_rent'], bins=50, kde=True)\n",
    "plt.title('Histogram of Total Rent')\n",
    "plt.xlabel('Total Rent')\n",
    "plt.ylabel('Frequency')\n",
    "\n",
    "# Boxplot\n",
    "plt.subplot(1, 2, 2)\n",
    "sns.boxplot(x=df['total_rent'])\n",
    "plt.title('Boxplot of Total Rent')\n",
    "\n",
    "plt.tight_layout()\n",
    "plt.show()"
   ]
  },
  {
   "cell_type": "markdown",
   "id": "fefaab15-2f9d-4e02-a73d-e48377445384",
   "metadata": {},
   "source": [
    "## 3.5. no_rooms_cleaned"
   ]
  },
  {
   "cell_type": "code",
   "execution_count": null,
   "id": "1c7587d5-8a33-47de-bd64-29e0b381748f",
   "metadata": {},
   "outputs": [],
   "source": [
    "first_looking(df, 'no_rooms_cleaned')"
   ]
  },
  {
   "cell_type": "code",
   "execution_count": null,
   "id": "8fef8039-5bd5-4725-96ea-1d17378575e7",
   "metadata": {},
   "outputs": [],
   "source": [
    "df['no_rooms_cleaned'].describe()"
   ]
  },
  {
   "cell_type": "code",
   "execution_count": null,
   "id": "8106c189-3941-4fc7-bb47-ad00fdd00cc0",
   "metadata": {},
   "outputs": [],
   "source": [
    "# Histogram\n",
    "plt.subplot(1, 2, 1)\n",
    "sns.histplot(df['no_rooms_cleaned'], bins=5, kde=True)\n",
    "plt.title('Histogram of Number_Rooms')\n",
    "plt.xlabel('no_rooms')\n",
    "plt.ylabel('Frequency')\n",
    "\n",
    "# Boxplot\n",
    "plt.subplot(1, 2, 2)\n",
    "sns.boxplot(x=df['no_rooms_cleaned'])\n",
    "plt.title('Boxplot of Number_Rooms')\n",
    "\n",
    "plt.tight_layout()\n",
    "plt.show()"
   ]
  },
  {
   "cell_type": "code",
   "execution_count": null,
   "id": "f269405d-92d7-4246-a1eb-176a5e29c933",
   "metadata": {},
   "outputs": [],
   "source": [
    "df = df[df['no_rooms_cleaned'] <= 8]"
   ]
  },
  {
   "cell_type": "code",
   "execution_count": null,
   "id": "f4518cd1-b6ad-413f-b962-2d5d5dccabf7",
   "metadata": {},
   "outputs": [],
   "source": [
    "df.shape"
   ]
  },
  {
   "cell_type": "markdown",
   "id": "b2909669-c38b-4dbd-96e5-fd957765ebf0",
   "metadata": {},
   "source": [
    "## 3.6. floor"
   ]
  },
  {
   "cell_type": "code",
   "execution_count": null,
   "id": "caa77fa7-ed42-4a42-9022-aff628344979",
   "metadata": {
    "scrolled": true
   },
   "outputs": [],
   "source": [
    "first_looking(df, 'floor')"
   ]
  },
  {
   "cell_type": "markdown",
   "id": "80e67d45-2cee-4019-ae6a-d31ea78de213",
   "metadata": {},
   "source": [
    "**💡Erklärung zur Datenbereinigung der 'floor'-Spalte:**\n",
    "\n",
    "In unseren Daten finden sich einige außergewöhnliche Werte bei der Anzahl der Stockwerke, wie z.B. 99, 999 oder sogar 650. Zur Einordnung: Das höchste Gebäude z.B. in Berlin ist etwa 176 Meter hoch, was ungefähr 48 Stockwerken(als Büroanlage) entspricht. Werte, die deutlich darüber liegen, sind daher als Ausreißer zu betrachten und entsprechen vermutlich fehlerhaften oder kodierten Daten.\n",
    "\n",
    "Aus diesem Grund werden wir bei der Datenbereinigung nur Stockwerkangaben bis maximal 48 berücksichtigen und alle darüber hinausgehenden Werte als Ausreißer entfernen oder als fehlend kennzeichnen. So stellen wir sicher, dass unsere Analyse auf realistischen und verlässlichen Daten basiert.\n",
    "\n",
    "https://www.rbb24.de/panorama/beitrag/av24/berlin-hochhaus-architektur-stadtbild-wolkenkratzer-tower-.html\n",
    "\n",
    "https://reise-nach-leipzig.de/sehenswuerdigkeiten-leipzig/hochhaeuser-leipzig/#:~:text=Das%20City%20Hochhaus%20ist%20das%20zweith%C3%B6chste%20Geb%C3%A4ude%20Ostdeutschlands,Panorama-Tower%20auch%20schon%20mal%20als%20Leipziger%20Weisheitszahn%20bezeichnet.**"
   ]
  },
  {
   "cell_type": "code",
   "execution_count": null,
   "id": "4eabedc3-1d61-4e20-ba83-ba9569731816",
   "metadata": {},
   "outputs": [],
   "source": [
    "df = df[df['floor'] <= 16]"
   ]
  },
  {
   "cell_type": "code",
   "execution_count": null,
   "id": "813e17f5-3b36-41fe-98a4-40d554db6a7c",
   "metadata": {},
   "outputs": [],
   "source": [
    "df['floor'].value_counts()"
   ]
  },
  {
   "cell_type": "markdown",
   "id": "f53e8e58-4851-4bf7-a615-36cad37a3ec1",
   "metadata": {},
   "source": [
    "## 3.7. thermal_char"
   ]
  },
  {
   "cell_type": "code",
   "execution_count": null,
   "id": "10c43903-dd2f-4073-a757-7e366343fa1e",
   "metadata": {},
   "outputs": [],
   "source": [
    "first_looking(df, 'thermal_char')"
   ]
  },
  {
   "cell_type": "code",
   "execution_count": null,
   "id": "11723bb9-a918-4d78-a75b-248a537ce635",
   "metadata": {},
   "outputs": [],
   "source": [
    "df['thermal_char'].describe()"
   ]
  },
  {
   "cell_type": "code",
   "execution_count": null,
   "id": "9718fac5-1a3a-4822-824c-dd317c5ac3fa",
   "metadata": {},
   "outputs": [],
   "source": [
    "# Histogram\n",
    "plt.subplot(1, 2, 1)\n",
    "sns.histplot(df['thermal_char'], bins=50, kde=True)\n",
    "plt.title('Histogram of thermal_char')\n",
    "plt.xlabel('thermal_char')\n",
    "plt.ylabel('Frequency')\n",
    "\n",
    "# Boxplot\n",
    "plt.subplot(1, 2, 2)\n",
    "sns.boxplot(x=df['thermal_char'])\n",
    "plt.title('Boxplot of thermal_char')\n",
    "\n",
    "plt.tight_layout()\n",
    "plt.show()"
   ]
  },
  {
   "cell_type": "code",
   "execution_count": null,
   "id": "03a858bb-78f1-4fa2-bd7e-0c19f65ec20b",
   "metadata": {},
   "outputs": [],
   "source": [
    "df[df['thermal_char'] > 300][['thermal_char', 'energy_efficiency_class', 'regio_1', 'living_space']]"
   ]
  },
  {
   "cell_type": "code",
   "execution_count": null,
   "id": "d9ad13fc-bc76-4623-a035-fce729d64ef0",
   "metadata": {},
   "outputs": [],
   "source": [
    "df[df['thermal_char'] > 300][['living_space']].mean()"
   ]
  },
  {
   "cell_type": "code",
   "execution_count": null,
   "id": "cd5c0588-d839-4be3-a7cf-5596662d67c3",
   "metadata": {},
   "outputs": [],
   "source": [
    "df = df[df['thermal_char'] <= 300]"
   ]
  },
  {
   "cell_type": "code",
   "execution_count": null,
   "id": "21c0c97c-ac01-46f3-9bef-91cdb9eae748",
   "metadata": {},
   "outputs": [],
   "source": [
    "df.shape"
   ]
  },
  {
   "cell_type": "markdown",
   "id": "753b25c9-24f9-4e60-8f7a-30c1cae2adf6",
   "metadata": {},
   "source": [
    "## 3.8. no_park_spaces"
   ]
  },
  {
   "cell_type": "code",
   "execution_count": null,
   "id": "00155f3a-6735-4874-a885-74c9e5274903",
   "metadata": {},
   "outputs": [],
   "source": [
    "first_looking(df, 'no_park_spaces')"
   ]
  },
  {
   "cell_type": "code",
   "execution_count": null,
   "id": "6fbb9939-c2c3-4ee6-89ee-aef55360c691",
   "metadata": {},
   "outputs": [],
   "source": [
    "df['no_park_spaces'].describe()"
   ]
  },
  {
   "cell_type": "code",
   "execution_count": null,
   "id": "33634c26-3c4a-46b5-8fac-072c81747985",
   "metadata": {},
   "outputs": [],
   "source": [
    "df = df[df['no_park_spaces'] <= 10]"
   ]
  },
  {
   "cell_type": "code",
   "execution_count": null,
   "id": "1be48c99-4e35-452b-929f-263cf4cea6b9",
   "metadata": {},
   "outputs": [],
   "source": [
    "df['no_park_spaces_cleaned'] = df['no_park_spaces'].apply(lambda x: x if x <= 5 else 6)"
   ]
  },
  {
   "cell_type": "code",
   "execution_count": null,
   "id": "1fdb5503-a35c-497b-b3c8-6f8d22697011",
   "metadata": {},
   "outputs": [],
   "source": [
    "df['no_park_spaces_cleaned'].value_counts()"
   ]
  },
  {
   "cell_type": "code",
   "execution_count": null,
   "id": "9b2d4690-c2cd-4209-90bb-83ada50d8fbd",
   "metadata": {},
   "outputs": [],
   "source": [
    "df.drop(columns =['no_park_spaces'], inplace=True)"
   ]
  },
  {
   "cell_type": "markdown",
   "id": "dadd8cef-71a5-4d55-92e9-0381834aedb0",
   "metadata": {},
   "source": [
    "## 3.9. living_space"
   ]
  },
  {
   "cell_type": "code",
   "execution_count": null,
   "id": "6c531d28-1859-49bd-aa5e-12c068104d60",
   "metadata": {},
   "outputs": [],
   "source": [
    "first_looking(df, 'living_space')"
   ]
  },
  {
   "cell_type": "code",
   "execution_count": null,
   "id": "cfebca21-d326-4844-8afe-764bc6c36146",
   "metadata": {},
   "outputs": [],
   "source": [
    "df['living_space'].describe()"
   ]
  },
  {
   "cell_type": "code",
   "execution_count": null,
   "id": "476e185f-a5ab-4610-b223-ecd7669b33b0",
   "metadata": {},
   "outputs": [],
   "source": [
    "# Histogram\n",
    "plt.subplot(1, 2, 1)\n",
    "sns.histplot(df['living_space'], bins=100, kde=True)\n",
    "plt.title('Histogram of living_space')\n",
    "plt.xlabel('living_space')\n",
    "plt.ylabel('Frequency')\n",
    "\n",
    "# Boxplot\n",
    "plt.subplot(1, 2, 2)\n",
    "sns.boxplot(x=df['living_space'])\n",
    "plt.title('Boxplot of living_space')\n",
    "\n",
    "plt.tight_layout()\n",
    "plt.show()"
   ]
  },
  {
   "cell_type": "code",
   "execution_count": null,
   "id": "7bdf1c76-3237-4510-ae94-7f7bac215b1e",
   "metadata": {},
   "outputs": [],
   "source": [
    "df[df['living_space'] > 200][['total_rent', 'living_space', 'type_of_flat', 'floor', 'garden']]"
   ]
  },
  {
   "cell_type": "code",
   "execution_count": null,
   "id": "a0363624-e1eb-4059-b983-a3f950062414",
   "metadata": {},
   "outputs": [],
   "source": [
    "df[df['living_space'] < 12][['total_rent', 'living_space', 'type_of_flat', 'floor', 'garden']]"
   ]
  },
  {
   "cell_type": "code",
   "execution_count": null,
   "id": "36252f9d-bf42-4937-abb3-f4ff62e6367d",
   "metadata": {},
   "outputs": [],
   "source": [
    "df = df[(df['living_space'] >= 12) & (df['living_space'] <= 200)]"
   ]
  },
  {
   "cell_type": "markdown",
   "id": "928a003e-544b-4667-bd9e-0ad96ced9a55",
   "metadata": {},
   "source": [
    "# 4. Fazit und Visualisierungen zur Datenanalyse"
   ]
  },
  {
   "cell_type": "markdown",
   "id": "6134e8b3-8e4e-413b-9a2e-69a9ae429223",
   "metadata": {},
   "source": [
    "Nach der gründlichen Bereinigung der Ausreißer (z. B. bei living_space, base_rent, service_charge, no_park_spaces) wurde das Datenset von ursprünglich 268.850 Einträgen auf 248.397 Einträge reduziert. Damit konnten extreme Werte, die auf fehlerhafte oder seltene Eingaben hinweisen, entfernt werden – ohne dabei wichtige Informationen zu verlieren.\n",
    "\n",
    "Parallel dazu wurden auch visuelle Analysen durchgeführt, um die Verteilungen numerischer und kategorialer Merkmale besser zu verstehen. Mithilfe von Histogrammen, Boxplots und gruppierten Balkendiagrammen konnten unter anderem folgende Beobachtungen gemacht werden:\n",
    "\n",
    "✔️ Einige Merkmale (z. B. base_rent, total_rent, living_space) zeigten rechtssteile Verteilungen, was auf Ausreißer oder lange \"Preisschwänze\" hinwies.\n",
    "\n",
    "✔️ Kategoriale Merkmale wie region, year_category oder interior_qual zeigten teils deutliche Unterschiede im durchschnittlichen Mietpreis.\n",
    "\n",
    "✔️ Die Transformation der Zielvariable in log_base_rent sorgte für eine stabilere Verteilung und ist somit besser für das Modellieren geeignet.\n",
    "\n",
    "Die bereinigten Daten sind nun deutlich konsistenter und besser geeignet für die nächste Phase der Analyse, insbesondere für das Feature Engineering und die Modellierung."
   ]
  },
  {
   "cell_type": "code",
   "execution_count": null,
   "id": "cd3fe22b-81dc-437b-8d00-e29ac7b89801",
   "metadata": {},
   "outputs": [],
   "source": [
    "df.head(3).T"
   ]
  },
  {
   "cell_type": "code",
   "execution_count": null,
   "id": "6b0a3cb7-bbd5-4674-8eef-0ba9021348e9",
   "metadata": {},
   "outputs": [],
   "source": [
    "numeric_col = df.select_dtypes(include='number')\n",
    "numeric_col.head()"
   ]
  },
  {
   "cell_type": "code",
   "execution_count": null,
   "id": "21c3de94-d3f0-4bdf-ba9b-e79cba3b1085",
   "metadata": {},
   "outputs": [],
   "source": [
    "plt.figure(figsize=(10, 8))\n",
    "\n",
    "sns.heatmap(numeric_col.corr(), annot=True, cmap=\"Blues\", linewidths=0.2, annot_kws={\"size\": 12});"
   ]
  },
  {
   "cell_type": "code",
   "execution_count": null,
   "id": "a19f9f39-76cd-447e-97fc-f13db3d89993",
   "metadata": {},
   "outputs": [],
   "source": [
    "from termcolor import cprint\n",
    "\n",
    "def multicolinearity_control(df):                    \n",
    "    df_temp = df.corr()\n",
    "    count = 'Done'\n",
    "    feature =[]\n",
    "    collinear= []\n",
    "    for col in df_temp.columns:\n",
    "        for i in df_temp.index:\n",
    "            if abs(df_temp[col][i] > .6 and df_temp[col][i] < 1):\n",
    "                    feature.append(col)\n",
    "                    collinear.append(i)\n",
    "                    cprint(f\"Multicolinearity alert in between --> {col} - {i} --> {round(df_temp[col][i], 6)}\", \"red\", attrs=[\"bold\"])\n",
    "    else:\n",
    "#         cprint(f\"There is NO multicollinearity problem.\", \"blue\", attrs=[\"bold\"])\n",
    "        pass"
   ]
  },
  {
   "cell_type": "code",
   "execution_count": null,
   "id": "83814486-615e-48e2-a8ad-9c6000985225",
   "metadata": {},
   "outputs": [],
   "source": [
    "multicolinearity_control(numeric_col)"
   ]
  },
  {
   "cell_type": "code",
   "execution_count": null,
   "id": "705e5c05-bff4-4dff-94b5-6b6a3e659404",
   "metadata": {},
   "outputs": [],
   "source": [
    "target = 'log_base_rent'\n",
    "\n",
    "corr_by_target = numeric_col.corr()[target].sort_values()\n",
    "corr_by_target"
   ]
  },
  {
   "cell_type": "code",
   "execution_count": null,
   "id": "f2cfee33-ae2d-45db-8d27-ab1d084b659e",
   "metadata": {},
   "outputs": [],
   "source": [
    "ax = sns.barplot(y = corr_by_target.index, x = corr_by_target)\n",
    "plt.xticks(rotation=90)\n",
    "plt.tight_layout()\n",
    "\n",
    "for container in ax.containers:\n",
    "    ax.bar_label(container, fontsize=11, rotation=0, label_type='center', color=\"white\")"
   ]
  },
  {
   "cell_type": "code",
   "execution_count": null,
   "id": "f9b892d7-1e92-4ee7-95f1-cdf725e0ce27",
   "metadata": {},
   "outputs": [],
   "source": [
    "df.select_dtypes(include=['object', 'category']).columns.tolist()"
   ]
  },
  {
   "cell_type": "code",
   "execution_count": null,
   "id": "1fd811ef-9400-4d6d-b1eb-2d74150d6c06",
   "metadata": {
    "scrolled": true
   },
   "outputs": [],
   "source": [
    "categorical_columns = [\n",
    "    'regio_1', \n",
    "    'telekom_tv_offer', \n",
    "    'interior_qual', \n",
    "    'pets_allowed',\n",
    "    'type_of_flat', \n",
    "    'heating_type_cleaned', \n",
    "    'upload_speed_category', \n",
    "    'condition_grouped', \n",
    "    'year_category',\n",
    "    'refurbish_category',\n",
    "    'firing_types_simplified'\n",
    "]\n",
    "\n",
    "for col in categorical_columns:\n",
    "    # Ortalama base_rent değerlerine göre sıralı dataframe\n",
    "    df_grouped = df.groupby(col, as_index=False)['base_rent'].mean().sort_values('base_rent')\n",
    "    \n",
    "    fig = px.bar(\n",
    "        df_grouped,\n",
    "        x=col,\n",
    "        y='base_rent',\n",
    "        title=f'Durchschnittliche base_rent nach {col}',\n",
    "        color='base_rent',\n",
    "        color_continuous_scale='Viridis',\n",
    "    )\n",
    "    fig.update_layout(xaxis_tickangle=45)\n",
    "    fig.show()"
   ]
  },
  {
   "cell_type": "code",
   "execution_count": null,
   "id": "d5058d04-36d0-46c8-8192-c23929f1214e",
   "metadata": {},
   "outputs": [],
   "source": [
    "count_regio = df.value_counts('regio_1').reset_index()\n",
    "plt.pie(count_regio['count'], labels=None, startangle=90, wedgeprops={'linewidth': 1, 'edgecolor': 'white'})\n",
    "plt.legend(count_regio['regio_1'],title=\"Regions\", loc=\"center left\", bbox_to_anchor=(1, 0.5), fontsize=10);"
   ]
  },
  {
   "cell_type": "code",
   "execution_count": null,
   "id": "8c4c0ec6-273e-422f-96b1-d3b3d01fa30d",
   "metadata": {},
   "outputs": [],
   "source": [
    "boolean_columns = ['balcony', 'cellar', 'lift', 'has_kitchen', 'garden', 'newly_const']\n",
    "mean_rent_df = pd.DataFrame()\n",
    "\n",
    "for col in boolean_columns:\n",
    "    grouped_means = df[[col,'base_rent']].groupby(col)['base_rent'].mean().reset_index()\n",
    "    grouped_means['Column'] = col\n",
    "    grouped_means.columns = ['Value','Mean Base Rent','Feature']\n",
    "    mean_rent_df = pd.concat([mean_rent_df,grouped_means],axis=0)\n",
    "\n",
    "mean_rent_df = mean_rent_df[['Feature','Value','Mean Base Rent']]\n",
    "mean_rent_df"
   ]
  },
  {
   "cell_type": "code",
   "execution_count": null,
   "id": "9badcd42-83dd-484c-83f5-f5afb85d9373",
   "metadata": {},
   "outputs": [],
   "source": [
    "mean_charge_df = pd.DataFrame()\n",
    "for col in boolean_columns:\n",
    "    grouped_means = df[[col,'service_charge']].groupby(col)['service_charge'].mean().reset_index()\n",
    "    grouped_means['Column'] = col\n",
    "    grouped_means.columns = ['Value','Mean Service Charge','Feature']\n",
    "    mean_charge_df = pd.concat([mean_charge_df,grouped_means],axis=0)\n",
    "\n",
    "mean_charge_df = mean_charge_df[['Feature','Value','Mean Service Charge']]\n",
    "mean_charge_df"
   ]
  },
  {
   "cell_type": "code",
   "execution_count": null,
   "id": "e036106d-0f7e-4966-b83f-308d0bf9d2d6",
   "metadata": {},
   "outputs": [],
   "source": [
    "fig, axes = plt.subplots(1, 2, figsize=(12, 5))\n",
    "\n",
    "sns.barplot(data=mean_rent_df,x='Feature',y='Mean Base Rent',hue='Value', ax=axes[0])\n",
    "\n",
    "sns.barplot(data=mean_charge_df,x='Feature',y='Mean Service Charge',hue='Value', ax=axes[1])\n",
    "\n",
    "plt.tight_layout()\n",
    "plt.show()"
   ]
  },
  {
   "cell_type": "code",
   "execution_count": null,
   "id": "34cdd7ec-31d4-4288-82c6-35e5164d6921",
   "metadata": {},
   "outputs": [],
   "source": [
    "fig, axes = plt.subplots(2, 3, figsize=(14, 9))\n",
    "\n",
    "sns.barplot(data=df, x='no_rooms_cleaned', y='total_rent', ax=axes[1, 0],\n",
    "            palette='viridis')\n",
    "\n",
    "sns.barplot(data=df, x='floor', y='total_rent', ax=axes[1, 1],\n",
    "            palette='plasma')\n",
    "\n",
    "sns.barplot(data=df, x='type_of_flat', y='total_rent', ax=axes[0, 0],\n",
    "            palette='Set2')\n",
    "axes[0, 0].set_xticklabels(axes[0, 0].get_xticklabels(), rotation=90)\n",
    "\n",
    "sns.barplot(data=df, x='heating_type_cleaned', y='total_rent', ax=axes[0, 1],\n",
    "            palette='Set3')\n",
    "axes[0, 1].set_xticklabels(axes[0, 1].get_xticklabels(), rotation=90)\n",
    "\n",
    "sns.barplot(data=df, x='condition_grouped', y='total_rent', ax=axes[0, 2],\n",
    "            palette='pastel')\n",
    "axes[0, 2].set_xticklabels(axes[0, 2].get_xticklabels(), rotation=90)\n",
    "\n",
    "plt.suptitle('Durchschnittliche Gesamtmiete im Vergleich verschiedener Merkmale', fontsize=16)\n",
    "plt.tight_layout()\n",
    "plt.show()\n"
   ]
  },
  {
   "cell_type": "code",
   "execution_count": null,
   "id": "1a1432bf-0d9e-4fcf-b5cb-5862a8cf16b9",
   "metadata": {},
   "outputs": [],
   "source": [
    "df.info()"
   ]
  },
  {
   "cell_type": "code",
   "execution_count": null,
   "id": "dc6a5c59-2ce7-4da6-9b14-72650625f316",
   "metadata": {},
   "outputs": [],
   "source": [
    "df.duplicated(keep=False).sum()"
   ]
  },
  {
   "cell_type": "code",
   "execution_count": null,
   "id": "5bd7806a-6f4f-4d5e-98d5-10d7edd64042",
   "metadata": {},
   "outputs": [],
   "source": [
    "df.to_csv('full_immo_data.csv', index=False)"
   ]
  },
  {
   "cell_type": "markdown",
   "id": "1ca7d804-004c-4f5f-9ee8-aa2f237e77d3",
   "metadata": {},
   "source": [
    "<a id=\"6\"></a>\n",
    " \n",
    "\n",
    "## <p style=\"background-color:#FDFEFE; font-family:newtimeroman; color:#9d4f8c; font-size:150%; text-align:center; border-radius:10px 10px;\">Das Ende der Ausreißerbehandlung (Teil 03)</p>"
   ]
  }
 ],
 "metadata": {
  "kernelspec": {
   "display_name": "Python 3 (ipykernel)",
   "language": "python",
   "name": "python3"
  },
  "language_info": {
   "codemirror_mode": {
    "name": "ipython",
    "version": 3
   },
   "file_extension": ".py",
   "mimetype": "text/x-python",
   "name": "python",
   "nbconvert_exporter": "python",
   "pygments_lexer": "ipython3",
   "version": "3.11.12"
  }
 },
 "nbformat": 4,
 "nbformat_minor": 5
}
